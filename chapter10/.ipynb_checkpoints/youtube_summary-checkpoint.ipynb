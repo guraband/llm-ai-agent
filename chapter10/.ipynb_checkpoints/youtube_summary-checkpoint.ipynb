{
 "cells": [
  {
   "cell_type": "code",
   "execution_count": 18,
   "id": "bb57d571",
   "metadata": {},
   "outputs": [],
   "source": [
    "import sys\n",
    "import subprocess\n",
    "import os\n",
    "\n",
    "# uv 환경의 Python 경로 확인\n",
    "result = subprocess.run(['uv', 'run', 'which', 'python'], capture_output=True, text=True)\n",
    "uv_python_path = result.stdout.strip()\n",
    "\n",
    "if uv_python_path and uv_python_path not in sys.executable:\n",
    "    print(f\"현재 Python: {sys.executable}\")\n",
    "    print(f\"UV Python: {uv_python_path}\")\n",
    "    print(\"UV 환경의 Python을 사용하세요!\")"
   ]
  },
  {
   "cell_type": "code",
   "execution_count": 19,
   "id": "e48b1820",
   "metadata": {},
   "outputs": [
    {
     "data": {
      "text/plain": [
       "[{'id': 'nEGH4pexM-E',\n",
       "  'thumbnails': ['https://i9.ytimg.com/vi/nEGH4pexM-E/hq720_custom_3.jpg?sqp=CNjxvcUG-oaymwEjCOgCEMoBSFryq4qpAxUIARUAAAAAGAElAADIQj0AgKJDeAE=&rs=AOn4CLD7ZUrrZxXoFbCZ__vOyeokby6mcQ',\n",
       "   'https://i9.ytimg.com/vi/nEGH4pexM-E/hq720_custom_3.jpg?sqp=CNjxvcUG-oaymwEXCNAFEJQDSFryq4qpAwkIARUAAIhCGAE=&rs=AOn4CLAapgdwRhyKxYXpujPvTmGSeFj1jQ'],\n",
       "  'title': '\"아이폰17, 이번엔 다르다!\" 120Hz 미스터리·한국 1차 출시·신형 e 모델 총정리',\n",
       "  'long_desc': None,\n",
       "  'channel': '인스펙팅룸 InspectingRoom',\n",
       "  'duration': '6:56',\n",
       "  'views': '조회수 42,936회',\n",
       "  'publish_time': '2일 전',\n",
       "  'url_suffix': '/watch?v=nEGH4pexM-E&pp=ygUa7JWE7J207Y-wIDE3IOy2nOyLnCDsnbzsoJU%3D'},\n",
       " {'id': 'qDMM3uhExhI',\n",
       "  'thumbnails': ['https://i.ytimg.com/vi/qDMM3uhExhI/hq720.jpg?sqp=-oaymwE9COgCEMoBSFryq4qpAy8IARUAAAAAGAAlAADIQj0AgKJDeAHwAQH4AbYIgAKAD4oCDAgAEAEYciBMKDwwDw==&rs=AOn4CLDCjM-aSxDAqFY9KvElrnaY0h0-5w',\n",
       "   'https://i.ytimg.com/vi/qDMM3uhExhI/hq720.jpg?sqp=-oaymwExCNAFEJQDSFryq4qpAyMIARUAAIhCGADwAQH4AbYIgAKAD4oCDAgAEAEYciBMKDwwDw==&rs=AOn4CLAntyXo2J2WVzqQP69FxjGoH6LStA'],\n",
       "  'title': '아이폰 17 출시일, 가격 디자인 총정리!',\n",
       "  'long_desc': None,\n",
       "  'channel': '상상이상 IT 꿀팁 & 핫딜',\n",
       "  'duration': '0:36',\n",
       "  'views': '조회수 31,350회',\n",
       "  'publish_time': '2개월 전',\n",
       "  'url_suffix': '/shorts/qDMM3uhExhI'},\n",
       " {'id': '8rP8J_ypvHw',\n",
       "  'thumbnails': ['https://i.ytimg.com/vi/8rP8J_ypvHw/hq720.jpg?sqp=-oaymwEjCOgCEMoBSFryq4qpAxUIARUAAAAAGAElAADIQj0AgKJDeAE=&rs=AOn4CLBMjFc1pQx7yfGo0rF0q2HDmHvHiA',\n",
       "   'https://i.ytimg.com/vi/8rP8J_ypvHw/hq720.jpg?sqp=-oaymwEXCNAFEJQDSFryq4qpAwkIARUAAIhCGAE=&rs=AOn4CLBFRxJEkOFHJ0CjCrmlHCCcoWsEIA'],\n",
       "  'title': '이 비주얼 진짜예요?ㅋㅋㅋ 점점 중국폰과 비슷해지는 애플 아이폰17 최신 루머 총정리!',\n",
       "  'long_desc': None,\n",
       "  'channel': 'ITSub잇섭',\n",
       "  'duration': '10:29',\n",
       "  'views': '조회수 823,607회',\n",
       "  'publish_time': '4개월 전',\n",
       "  'url_suffix': '/watch?v=8rP8J_ypvHw&pp=ygUa7JWE7J207Y-wIDE3IOy2nOyLnCDsnbzsoJU%3D'},\n",
       " {'id': 'Q4GV6J1SEsY',\n",
       "  'thumbnails': ['https://i.ytimg.com/vi/Q4GV6J1SEsY/hq720_2.jpg?sqp=-oaymwE9COgCEMoBSFryq4qpAy8IARUAAAAAGAAlAADIQj0AgKJDeAHwAQH4AbYIgAKAD4oCDAgAEAEYWSBZKFkwDw==&rs=AOn4CLAjRAMWxhunuksD3MI5BaVRtQnkFg',\n",
       "   'https://i.ytimg.com/vi/Q4GV6J1SEsY/hq720_2.jpg?sqp=-oaymwExCNAFEJQDSFryq4qpAyMIARUAAIhCGADwAQH4AbYIgAKAD4oCDAgAEAEYWSBZKFkwDw==&rs=AOn4CLDPCzCzBlQoCvN6z_IhNBHJzSd3Pw'],\n",
       "  'title': '아이폰17 기본 미쳤다ㅋㅋ유출 총정리 #아이폰17',\n",
       "  'long_desc': None,\n",
       "  'channel': 'KT마켓 ',\n",
       "  'duration': '0:51',\n",
       "  'views': '조회수 26,203회',\n",
       "  'publish_time': '2개월 전',\n",
       "  'url_suffix': '/shorts/Q4GV6J1SEsY'},\n",
       " {'id': 'dk9XaGGriG0',\n",
       "  'thumbnails': ['https://i.ytimg.com/vi/dk9XaGGriG0/hq720.jpg?sqp=-oaymwE9COgCEMoBSFryq4qpAy8IARUAAAAAGAAlAADIQj0AgKJDeAHwAQH4AbYIgAKAD4oCDAgAEAEYKCBFKH8wDw==&rs=AOn4CLCsLPJW6Y0zE_QnBSwRWmbcP2k1YQ',\n",
       "   'https://i.ytimg.com/vi/dk9XaGGriG0/hq720.jpg?sqp=-oaymwExCNAFEJQDSFryq4qpAyMIARUAAIhCGADwAQH4AbYIgAKAD4oCDAgAEAEYKCBFKH8wDw==&rs=AOn4CLBgiDx4mpALzjXD8t2834T19D9O3g'],\n",
       "  'title': '아이폰17 디자인 100% 확정!? 역대급 성능&가격! 뇌이징 완료',\n",
       "  'long_desc': None,\n",
       "  'channel': '상상이상 IT 꿀팁 & 핫딜',\n",
       "  'duration': '0:23',\n",
       "  'views': '조회수 294,144회',\n",
       "  'publish_time': '4개월 전',\n",
       "  'url_suffix': '/shorts/dk9XaGGriG0'},\n",
       " {'id': 'vsV9XavhNpk',\n",
       "  'thumbnails': ['https://i.ytimg.com/vi/vsV9XavhNpk/hq720.jpg?sqp=-oaymwEjCOgCEMoBSFryq4qpAxUIARUAAAAAGAElAADIQj0AgKJDeAE=&rs=AOn4CLBwKE3MGrvTsvGXTIpCx75ggnhh2w',\n",
       "   'https://i.ytimg.com/vi/vsV9XavhNpk/hq720.jpg?sqp=-oaymwEXCNAFEJQDSFryq4qpAwkIARUAAIhCGAE=&rs=AOn4CLADYLo36n5pDItSuMgW2Tjq_R33gw'],\n",
       "  'title': '구형 같던 아이폰, 드디어 바뀐다…애플 3개년 계획 뭐길래',\n",
       "  'long_desc': None,\n",
       "  'channel': '서울경제 NOW',\n",
       "  'duration': '1:40',\n",
       "  'views': '조회수 652회',\n",
       "  'publish_time': '1일 전',\n",
       "  'url_suffix': '/watch?v=vsV9XavhNpk&pp=ygUa7JWE7J207Y-wIDE3IOy2nOyLnCDsnbzsoJU%3D'},\n",
       " {'id': '5BAM5yKGz-I',\n",
       "  'thumbnails': ['https://i.ytimg.com/vi/5BAM5yKGz-I/hq720.jpg?sqp=-oaymwEjCOgCEMoBSFryq4qpAxUIARUAAAAAGAElAADIQj0AgKJDeAE=&rs=AOn4CLAqJ8rJvkxy5JGvdhMQg4BV-eM8Gg',\n",
       "   'https://i.ytimg.com/vi/5BAM5yKGz-I/hq720.jpg?sqp=-oaymwEXCNAFEJQDSFryq4qpAwkIARUAAIhCGAE=&rs=AOn4CLApS_1OMOHICB0ZrmxzxIPgqjHJTQ'],\n",
       "  'title': '아이폰 17 시리즈 출시전 루머 마지막 총정리!!',\n",
       "  'long_desc': None,\n",
       "  'channel': '잇군 ITGoOn',\n",
       "  'duration': '7:14',\n",
       "  'views': '조회수 9,650회',\n",
       "  'publish_time': '13일 전',\n",
       "  'url_suffix': '/watch?v=5BAM5yKGz-I&pp=ygUa7JWE7J207Y-wIDE3IOy2nOyLnCDsnbzsoJU%3D'},\n",
       " {'id': 'RY4HkICD1w0',\n",
       "  'thumbnails': ['https://i.ytimg.com/vi/RY4HkICD1w0/hq720_2.jpg?sqp=-oaymwE9COgCEMoBSFryq4qpAy8IARUAAAAAGAAlAADIQj0AgKJDeAHwAQH4AfIHgAKAD4oCDAgAEAEYciA_KDkwDw==&rs=AOn4CLBB2SRurrInzug5MpPyOfcW9DJMiA',\n",
       "   'https://i.ytimg.com/vi/RY4HkICD1w0/hq720_2.jpg?sqp=-oaymwExCNAFEJQDSFryq4qpAyMIARUAAIhCGADwAQH4AfIHgAKAD4oCDAgAEAEYciA_KDkwDw==&rs=AOn4CLC293Vo9aAnCuyRlpwy9j4a0LVncA'],\n",
       "  'title': '📱 아이폰 17 출시 일정 총정리! (feat. 휴대폰 성지 혜택)#Shorts',\n",
       "  'long_desc': None,\n",
       "  'channel': '전국휴대폰성지',\n",
       "  'duration': '0:27',\n",
       "  'views': '조회수 1,669회',\n",
       "  'publish_time': '6일 전',\n",
       "  'url_suffix': '/shorts/RY4HkICD1w0'},\n",
       " {'id': 'x-JZcETDyyc',\n",
       "  'thumbnails': ['https://i.ytimg.com/vi/x-JZcETDyyc/hq720.jpg?sqp=-oaymwEjCOgCEMoBSFryq4qpAxUIARUAAAAAGAElAADIQj0AgKJDeAE=&rs=AOn4CLB6ggg2BHeCe07DALPP70XKdSQicQ',\n",
       "   'https://i.ytimg.com/vi/x-JZcETDyyc/hq720.jpg?sqp=-oaymwEXCNAFEJQDSFryq4qpAwkIARUAAIhCGAE=&rs=AOn4CLAXhzukEyt-0e5FHVsvjH0L4i56DQ'],\n",
       "  'title': '\"가격보다 더 충격\"…아이폰17, 디자인 대체 어떻길래',\n",
       "  'long_desc': None,\n",
       "  'channel': '서울경제TV',\n",
       "  'duration': '1:22',\n",
       "  'views': '조회수 7,588회',\n",
       "  'publish_time': '17시간 전',\n",
       "  'url_suffix': '/watch?v=x-JZcETDyyc&pp=ygUa7JWE7J207Y-wIDE3IOy2nOyLnCDsnbzsoJU%3D'},\n",
       " {'id': 'dxnuMzhYXJQ',\n",
       "  'thumbnails': ['https://i.ytimg.com/vi/dxnuMzhYXJQ/hq720.jpg?sqp=-oaymwEjCOgCEMoBSFryq4qpAxUIARUAAAAAGAElAADIQj0AgKJDeAE=&rs=AOn4CLDAv8knZf_D5CMcqDZqd3taFlCm7g',\n",
       "   'https://i.ytimg.com/vi/dxnuMzhYXJQ/hq720.jpg?sqp=-oaymwEXCNAFEJQDSFryq4qpAwkIARUAAIhCGAE=&rs=AOn4CLCCGs2E-3xxZvYnkURXELn5eTw8vA'],\n",
       "  'title': '아이폰17 - 출시일 유출',\n",
       "  'long_desc': None,\n",
       "  'channel': '알뷰',\n",
       "  'duration': '2:17',\n",
       "  'views': '조회수 45,138회',\n",
       "  'publish_time': '2주 전',\n",
       "  'url_suffix': '/watch?v=dxnuMzhYXJQ&pp=ygUa7JWE7J207Y-wIDE3IOy2nOyLnCDsnbzsoJU%3D'}]"
      ]
     },
     "execution_count": 19,
     "metadata": {},
     "output_type": "execute_result"
    }
   ],
   "source": [
    "from youtube_search import YoutubeSearch\n",
    "\n",
    "videos = YoutubeSearch(\"아이폰 17 출시 일정\", max_results=10).to_dict()\n",
    "\n",
    "videos"
   ]
  },
  {
   "cell_type": "code",
   "execution_count": 16,
   "id": "3ab25ff0",
   "metadata": {},
   "outputs": [
    {
     "data": {
      "text/plain": [
       "'https://www.youtube.com/watch?v=8rP8J_ypvHw&pp=ygUa7JWE7J207Y-wIDE3IOy2nOyLnCDsnbzsoJU%3D'"
      ]
     },
     "execution_count": 16,
     "metadata": {},
     "output_type": "execute_result"
    }
   ],
   "source": [
    "video_url = 'https://www.youtube.com' + videos[2]['url_suffix']\n",
    "\n",
    "video_url"
   ]
  },
  {
   "cell_type": "markdown",
   "id": "32edfe25",
   "metadata": {},
   "source": [
    "### 자막 가져오기"
   ]
  },
  {
   "cell_type": "code",
   "execution_count": 17,
   "id": "fedd50f1",
   "metadata": {},
   "outputs": [
    {
     "ename": "ImportError",
     "evalue": "Could not import \"youtube_transcript_api\" Python package. Please install it with `pip install youtube-transcript-api`.",
     "output_type": "error",
     "traceback": [
      "\u001b[31m---------------------------------------------------------------------------\u001b[39m",
      "\u001b[31mImportError\u001b[39m                               Traceback (most recent call last)",
      "\u001b[36mFile \u001b[39m\u001b[32m~/Documents/workspace/ai/llm-ai-agent/.venv/lib/python3.12/site-packages/langchain_community/document_loaders/youtube.py:243\u001b[39m, in \u001b[36mYoutubeLoader.load\u001b[39m\u001b[34m(self)\u001b[39m\n\u001b[32m    242\u001b[39m \u001b[38;5;28;01mtry\u001b[39;00m:\n\u001b[32m--> \u001b[39m\u001b[32m243\u001b[39m     \u001b[38;5;28;01mfrom\u001b[39;00m\u001b[38;5;250m \u001b[39m\u001b[34;01myoutube_transcript_api\u001b[39;00m\u001b[38;5;250m \u001b[39m\u001b[38;5;28;01mimport\u001b[39;00m (\n\u001b[32m    244\u001b[39m         FetchedTranscript,\n\u001b[32m    245\u001b[39m         NoTranscriptFound,\n\u001b[32m    246\u001b[39m         TranscriptsDisabled,\n\u001b[32m    247\u001b[39m         YouTubeTranscriptApi,\n\u001b[32m    248\u001b[39m     )\n\u001b[32m    249\u001b[39m \u001b[38;5;28;01mexcept\u001b[39;00m \u001b[38;5;167;01mImportError\u001b[39;00m:\n",
      "\u001b[31mImportError\u001b[39m: cannot import name 'FetchedTranscript' from 'youtube_transcript_api' (/Users/ng/Documents/workspace/ai/llm-ai-agent/.venv/lib/python3.12/site-packages/youtube_transcript_api/__init__.py)",
      "\nDuring handling of the above exception, another exception occurred:\n",
      "\u001b[31mImportError\u001b[39m                               Traceback (most recent call last)",
      "\u001b[36mCell\u001b[39m\u001b[36m \u001b[39m\u001b[32mIn[17]\u001b[39m\u001b[32m, line 8\u001b[39m\n\u001b[32m      1\u001b[39m \u001b[38;5;28;01mfrom\u001b[39;00m\u001b[38;5;250m \u001b[39m\u001b[34;01mlangchain_community\u001b[39;00m\u001b[34;01m.\u001b[39;00m\u001b[34;01mdocument_loaders\u001b[39;00m\u001b[38;5;250m \u001b[39m\u001b[38;5;28;01mimport\u001b[39;00m YoutubeLoader\n\u001b[32m      3\u001b[39m loader = YoutubeLoader.from_youtube_url(\n\u001b[32m      4\u001b[39m     video_url,\n\u001b[32m      5\u001b[39m     language=[\u001b[33m\"\u001b[39m\u001b[33mko\u001b[39m\u001b[33m\"\u001b[39m, \u001b[33m\"\u001b[39m\u001b[33men\u001b[39m\u001b[33m\"\u001b[39m],\n\u001b[32m      6\u001b[39m )\n\u001b[32m----> \u001b[39m\u001b[32m8\u001b[39m \u001b[43mloader\u001b[49m\u001b[43m.\u001b[49m\u001b[43mload\u001b[49m\u001b[43m(\u001b[49m\u001b[43m)\u001b[49m\n",
      "\u001b[36mFile \u001b[39m\u001b[32m~/Documents/workspace/ai/llm-ai-agent/.venv/lib/python3.12/site-packages/langchain_community/document_loaders/youtube.py:250\u001b[39m, in \u001b[36mYoutubeLoader.load\u001b[39m\u001b[34m(self)\u001b[39m\n\u001b[32m    243\u001b[39m     \u001b[38;5;28;01mfrom\u001b[39;00m\u001b[38;5;250m \u001b[39m\u001b[34;01myoutube_transcript_api\u001b[39;00m\u001b[38;5;250m \u001b[39m\u001b[38;5;28;01mimport\u001b[39;00m (\n\u001b[32m    244\u001b[39m         FetchedTranscript,\n\u001b[32m    245\u001b[39m         NoTranscriptFound,\n\u001b[32m    246\u001b[39m         TranscriptsDisabled,\n\u001b[32m    247\u001b[39m         YouTubeTranscriptApi,\n\u001b[32m    248\u001b[39m     )\n\u001b[32m    249\u001b[39m \u001b[38;5;28;01mexcept\u001b[39;00m \u001b[38;5;167;01mImportError\u001b[39;00m:\n\u001b[32m--> \u001b[39m\u001b[32m250\u001b[39m     \u001b[38;5;28;01mraise\u001b[39;00m \u001b[38;5;167;01mImportError\u001b[39;00m(\n\u001b[32m    251\u001b[39m         \u001b[33m'\u001b[39m\u001b[33mCould not import \u001b[39m\u001b[33m\"\u001b[39m\u001b[33myoutube_transcript_api\u001b[39m\u001b[33m\"\u001b[39m\u001b[33m Python package. \u001b[39m\u001b[33m'\u001b[39m\n\u001b[32m    252\u001b[39m         \u001b[33m\"\u001b[39m\u001b[33mPlease install it with `pip install youtube-transcript-api`.\u001b[39m\u001b[33m\"\u001b[39m\n\u001b[32m    253\u001b[39m     )\n\u001b[32m    255\u001b[39m \u001b[38;5;28;01mif\u001b[39;00m \u001b[38;5;28mself\u001b[39m.add_video_info:\n\u001b[32m    256\u001b[39m     \u001b[38;5;66;03m# Get more video meta info\u001b[39;00m\n\u001b[32m    257\u001b[39m     \u001b[38;5;66;03m# Such as title, description, thumbnail url, publish_date\u001b[39;00m\n\u001b[32m    258\u001b[39m     video_info = \u001b[38;5;28mself\u001b[39m._get_video_info()\n",
      "\u001b[31mImportError\u001b[39m: Could not import \"youtube_transcript_api\" Python package. Please install it with `pip install youtube-transcript-api`."
     ]
    }
   ],
   "source": [
    "from langchain_community.document_loaders import YoutubeLoader\n",
    "\n",
    "loader = YoutubeLoader.from_youtube_url(\n",
    "    video_url,\n",
    "    language=[\"ko\", \"en\"],\n",
    ")\n",
    "\n",
    "loader.load()"
   ]
  }
 ],
 "metadata": {
  "kernelspec": {
   "display_name": ".venv",
   "language": "python",
   "name": "python3"
  },
  "language_info": {
   "codemirror_mode": {
    "name": "ipython",
    "version": 3
   },
   "file_extension": ".py",
   "mimetype": "text/x-python",
   "name": "python",
   "nbconvert_exporter": "python",
   "pygments_lexer": "ipython3",
   "version": "3.12.8"
  }
 },
 "nbformat": 4,
 "nbformat_minor": 5
}
