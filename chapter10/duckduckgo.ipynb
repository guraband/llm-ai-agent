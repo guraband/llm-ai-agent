{
 "cells": [
  {
   "cell_type": "markdown",
   "id": "cd6d0e97",
   "metadata": {},
   "source": [
    "# DuckDuckGo 검색 - ddgs 패키지 사용법\n",
    "\n",
    "새로운  패키지를 사용하여 DuckDuckGo 검색을 수행하는 2가지 방법을 보여줍니다."
   ]
  },
  {
   "cell_type": "code",
   "execution_count": null,
   "id": "7cb49e79",
   "metadata": {},
   "outputs": [
    {
     "name": "stdout",
     "output_type": "stream",
     "text": [
      "=== 방법 1: 직접 ddgs 사용 ===\n",
      "제목: Ryu Seong-hie\n",
      "링크: https://en.wikipedia.org/wiki/Ryu_Seong-hie\n",
      "내용: ^ \"[기획] 영화 의 미학 은 이렇게 완성된다\" [[Planning] The aesthetics of the ... ^ Jump up to: \" 박찬욱 감독의 오랜 동지들과 뉴커머外\" [Director Park ...\n",
      "--------------------------------------------------\n",
      "제목: 박찬욱따까리 (@hyem_ovie)\n",
      "링크: https://www.instagram.com/hyem_ovie/\n",
      "내용: 제목 이 별로라는 의견이 꽤 있지만 난 마음에 든다. 감독 인터뷰 중에 '사랑하는 일에는 결심이 필요하지 않지만 헤어지는 데에는 결심이 필요하다' 라는 말이 와닿아서?\n",
      "--------------------------------------------------\n",
      "제목: 영화, 사랑, 관찰 [영사관] (@cinemine_4957)\n",
      "링크: https://www.instagram.com/cinemine_4957/\n",
      "내용: 출소 후, 첫 목표는 살인 감옥에서 막 출소한 한 남자. · 웨스트레이크의 소설 \"도끼 (The Ax)\"를 원작으로 하는 박찬욱 감독의 신작 이 드디어 오는 9월에 개봉 되네요 기대 ...\n",
      "--------------------------------------------------\n"
     ]
    }
   ],
   "source": [
    "# 방법 1: 직접 ddgs 사용\n",
    "from ddgs import DDGS\n",
    "\n",
    "print(\"=== 방법 1: 직접 ddgs 사용 ===\")\n",
    "with DDGS() as ddgs:\n",
    "    # results = list(ddgs.text(\"노르웨이 3대 트레킹 코스\", max_results=3))\n",
    "    results = list(ddgs.text(\"노르웨이 3대 트레킹 코스\", max_results=3))\n",
    "    \n",
    "for result in results:\n",
    "    print(f\"제목: {result[\"title\"]}\")\n",
    "    print(f\"링크: {result[\"href\"]}\")\n",
    "    print(f\"내용: {result[\"body\"]}\")\n",
    "    print(\"-\" * 50)"
   ]
  },
  {
   "cell_type": "code",
   "execution_count": 13,
   "id": "5583f98d",
   "metadata": {},
   "outputs": [
    {
     "name": "stdout",
     "output_type": "stream",
     "text": [
      "=== 방법 2: LangChain DuckDuckGoSearchRun 사용 ===\n",
      "박찬욱 교수 전공분야 영업관리론, 유통관리론, 고객관계관리 연구실 오비스홀 605호 연락처 02-961-2144 E-mail cwpark@khu.ac.kr 더보기 · 1995.3~현재 경희대학교 경영대학 교수 [주요논문] · 박찬욱, 황호성, 조아라 (2016), “영업관리자의 변혁적 리더십이 영업사원의 조직몰입 및 관리자의 신뢰에 미치는 영향 : 영업유형 및 영업사원 성향의 조절효과를 중심으로,” 마케팅관리연구, 21 (2), 1-30. 경영 - 마케팅 경영 - 재무/금융 경영 - 생산운영 경영 - MIS 경영 - 인사/조직 경영 - 미래경영 회계·세무학과 빅데이터응용학과 전체 (172) 장학안내 (0) 학사안내 (1) 국제교류 (1) 현장실습 (4) 취·창업 (58) 행사 및 기타 (81) 공지사항 (0) 대학 및 학과 (0) 공지사항 (8) 게시판 (0) 게시판 (0) 교수안내 (12) 경영대학 소식 (1) 회계·세무학과 (0) 빅데이터응용학과 (1) 명예교수 (1) 경영 - 마케팅 (1) 경영 - 재무/금융 (0) 경영 - … Sep 5, 2017 · 다음과 같이 2017학년도 2학기 강좌 수강인원 증원 안내합니다 해당 강좌 동시에 추가 여석을 오픈할 예정이오니 참고 바랍니다 *추가 증원 강좌가 있으면 전산반영 시간 전까지 지속적으로 본 게시판에 게시될 예정 1. 증원 일자 : 9월 7일 (목) 09:30 2. 증원 강좌\n"
     ]
    },
    {
     "name": "stderr",
     "output_type": "stream",
     "text": [
      "/Users/ng/Documents/workspace/ai/llm-ai-agent/.venv/lib/python3.12/site-packages/langchain_community/utilities/duckduckgo_search.py:63: RuntimeWarning: This package (`duckduckgo_search`) has been renamed to `ddgs`! Use `pip install ddgs` instead.\n",
      "  with DDGS() as ddgs:\n"
     ]
    }
   ],
   "source": [
    "# 방법 2: LangChain 툴로 사용\n",
    "from langchain_community.tools import DuckDuckGoSearchRun\n",
    "\n",
    "print(\"=== 방법 2: LangChain DuckDuckGoSearchRun 사용 ===\")\n",
    "search = DuckDuckGoSearchRun()\n",
    "# result = search.invoke(\"노르웨이 3대 트레킹 코스\")\n",
    "result = search.invoke(\"박찬욱 감독의 신작 영화 제목은?\")\n",
    "print(result)"
   ]
  },
  {
   "cell_type": "code",
   "execution_count": null,
   "id": "cb18e969",
   "metadata": {},
   "outputs": [
    {
     "name": "stdout",
     "output_type": "stream",
     "text": [
      "=== 방법 3: LangChain DuckDuckGoSearchResults 사용 ===\n",
      "snippet: 박찬욱 교수 전공분야 영업관리론, 유통관리론, 고객관계관리 연구실 오비스홀 605호 연락처 02-961-2144 E-mail cwpark@khu.ac.kr 더보기, title: 교육 교수진 전공별 교수소개 경영 - 마케팅 경희대학교 경영대학, link: https://kbiz.khu.ac.kr/biz_kor/user/bbs/BMSR00047/list.do?menuNo=14500197;\n",
      "snippet: · 1995.3~현재 경희대학교 경영대학 교수 [주요논문] · 박찬욱, 황호성, 조아라 (2016), “영업관리자의 변혁적 리더십이 영업사원의 조직몰입 및 관리자의 신뢰에 미치는 영향 : 영업유형 및 영업사원 성향의 조절효과를 …, title: 교육 교수진 전공별 교수소개 경영 - 마케팅 경희대학교 경영대학, link: https://kbiz.khu.ac.kr/biz_kor/user/bbs/BMSR00047/view.do?menuNo=14500197&boardId=395895;\n",
      "snippet: 경영 - 마케팅 경영 - 재무/금융 경영 - 생산운영 경영 - MIS 경영 - 인사/조직 경영 - 미래경영 회계·세무학과 빅데이터응용학과, title: 교육 교수진 전공별 교수소개 경영 - 마케팅 경희대학교 경영대학, link: https://kbiz.khu.ac.kr/biz_kor/user/bbs/BMSR00047/view.do?menuNo=14500197&boardId=395898;\n",
      "snippet: 전체 (172) 장학안내 (0) 학사안내 (1) 국제교류 (1) 현장실습 (4) 취·창업 (58) 행사 및 기타 (81) 공지사항 (0) 대학 및 학과 (0) 공지사항 (8) 게시판 (0) 게시판 (0) 교수안내 (12) 경영대학 소식 …, title: 경희대학교 경영대학, link: https://kbiz.khu.ac.kr/biz_kor/user/search/list.do?searchWord=연구소\n"
     ]
    },
    {
     "name": "stderr",
     "output_type": "stream",
     "text": [
      "/Users/ng/Documents/workspace/ai/llm-ai-agent/.venv/lib/python3.12/site-packages/langchain_community/utilities/duckduckgo_search.py:63: RuntimeWarning: This package (`duckduckgo_search`) has been renamed to `ddgs`! Use `pip install ddgs` instead.\n",
      "  with DDGS() as ddgs:\n"
     ]
    }
   ],
   "source": [
    "from langchain_community.tools import DuckDuckGoSearchResults\n",
    "\n",
    "search = DuckDuckGoSearchResults(results_separator=\";\\n\")\n",
    "docs = search.invoke(\"박찬욱 감독의 신작 영화 제목은?\")\n",
    "print(docs)"
   ]
  },
  {
   "cell_type": "code",
   "execution_count": 15,
   "id": "16ac4fd3",
   "metadata": {},
   "outputs": [],
   "source": [
    "from langchain_core.prompts import ChatPromptTemplate, MessagesPlaceholder\n",
    "from langchain_openai import ChatOpenAI\n",
    "\n",
    "model = ChatOpenAI(model=\"gpt-4o-mini\", temperature=0)\n",
    "\n",
    "qa_prompt = ChatPromptTemplate.from_messages([\n",
    "    (\"system\", \"아래 context에 기반하여 사용자의 질문에 답변하라.:\\n\\n{context}\"),\n",
    "    MessagesPlaceholder(variable_name=\"messages\"),\n",
    "])\n",
    "\n",
    "document_chain = qa_prompt | model\n"
   ]
  },
  {
   "cell_type": "code",
   "execution_count": 19,
   "id": "16c539a2",
   "metadata": {},
   "outputs": [
    {
     "name": "stderr",
     "output_type": "stream",
     "text": [
      "/Users/ng/Documents/workspace/ai/llm-ai-agent/.venv/lib/python3.12/site-packages/langchain_community/utilities/duckduckgo_search.py:63: RuntimeWarning: This package (`duckduckgo_search`) has been renamed to `ddgs`! Use `pip install ddgs` instead.\n",
      "  with DDGS() as ddgs:\n"
     ]
    },
    {
     "name": "stdout",
     "output_type": "stream",
     "text": [
      "Plagiarism scans, automatic citations, and expert writing help 24/7 Get a grip on college. Learn with confidence. Instant step-by-step breakdowns. Real expert support. Stay on top of your classes and feel prepared with Chegg. Automatically create quick citations with our easy-to-use generator. Cite sources in 7,000+ writing styles including MLA, APA, and Chicago. Jan 21, 2014 · So, from this point, we are working to implement a scientific calculator written by me, and shall be written by you in the next days, unless you don't want to do so. Oct 29, 2023 · Recently, we made our standard calculator interface, however, we did not make it calculate anything so let's add some buttons that are going to be essential like submitting our …\n",
      "--------------------------------------------------\n",
      "content=\"The best three tracking (or hiking) destinations in Norway are:\\n\\n1. **Trolltunga (Troll's Tongue)** - This iconic rock formation offers stunning views over the fjords and is a popular hiking destination. The hike is challenging, approximately 22 kilometers round trip, and takes about 10-12 hours to complete.\\n\\n2. **Preikestolen (Pulpit Rock)** - Another famous landmark, Preikestolen is a flat-topped cliff that rises 604 meters above the Lysefjord. The hike is about 8 kilometers round trip and typically takes 4-5 hours, making it accessible for many hikers.\\n\\n3. **Rondane National Park** - Known for its beautiful landscapes and diverse wildlife, Rondane offers numerous hiking trails ranging from easy walks to more challenging treks. The park features several peaks over 2,000 meters and is perfect for those looking to explore Norway's natural beauty.\\n\\nThese locations provide breathtaking scenery and a range of hiking experiences suitable for different skill levels.\" additional_kwargs={'refusal': None} response_metadata={'token_usage': {'completion_tokens': 209, 'prompt_tokens': 201, 'total_tokens': 410, 'completion_tokens_details': {'accepted_prediction_tokens': 0, 'audio_tokens': 0, 'reasoning_tokens': 0, 'rejected_prediction_tokens': 0}, 'prompt_tokens_details': {'audio_tokens': 0, 'cached_tokens': 0}}, 'model_name': 'gpt-4o-mini-2024-07-18', 'system_fingerprint': 'fp_560af6e559', 'id': 'chatcmpl-C86ycNioBAlkTC7fLeWG4D7iF7oCI', 'service_tier': 'default', 'finish_reason': 'stop', 'logprobs': None} id='run--bf383ce4-8f98-43b9-80b7-99cca981e3ff-0' usage_metadata={'input_tokens': 201, 'output_tokens': 209, 'total_tokens': 410, 'input_token_details': {'audio': 0, 'cache_read': 0}, 'output_token_details': {'audio': 0, 'reasoning': 0}}\n"
     ]
    }
   ],
   "source": [
    "from langchain.memory import ChatMessageHistory\n",
    "\n",
    "question = \"What is the best 3 tracking in Norway?\"\n",
    "docs = search.invoke(question)\n",
    "print(docs)\n",
    "print(\"-\" * 50)\n",
    "\n",
    "chat_history = ChatMessageHistory()\n",
    "chat_history.add_user_message(question)\n",
    "\n",
    "answer = document_chain.invoke(\n",
    "    {\n",
    "        \"messages\": chat_history.messages,\n",
    "        \"context\": docs\n",
    "    }\n",
    ")\n",
    "\n",
    "chat_history.add_ai_message(answer)\n",
    "\n",
    "print(answer)"
   ]
  }
 ],
 "metadata": {
  "kernelspec": {
   "display_name": ".venv",
   "language": "python",
   "name": "python3"
  },
  "language_info": {
   "codemirror_mode": {
    "name": "ipython",
    "version": 3
   },
   "file_extension": ".py",
   "mimetype": "text/x-python",
   "name": "python",
   "nbconvert_exporter": "python",
   "pygments_lexer": "ipython3",
   "version": "3.12.8"
  }
 },
 "nbformat": 4,
 "nbformat_minor": 5
}
