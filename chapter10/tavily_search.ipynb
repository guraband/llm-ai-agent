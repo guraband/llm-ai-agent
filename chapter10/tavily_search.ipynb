{
 "cells": [
  {
   "cell_type": "code",
   "execution_count": 3,
   "id": "53d754a8",
   "metadata": {},
   "outputs": [
    {
     "name": "stderr",
     "output_type": "stream",
     "text": [
      "/var/folders/rb/js02jn4551nc4swz8k8nnhd40000gn/T/ipykernel_81877/701944973.py:3: LangChainDeprecationWarning: The class `TavilySearchResults` was deprecated in LangChain 0.3.25 and will be removed in 1.0. An updated version of the class exists in the :class:`~langchain-tavily package and should be used instead. To use it run `pip install -U :class:`~langchain-tavily` and import as `from :class:`~langchain_tavily import TavilySearch``.\n",
      "  tavily_search = TavilySearchResults(max_results=5)\n"
     ]
    }
   ],
   "source": [
    "from langchain_community.tools import TavilySearchResults\n",
    "\n",
    "tavily_search = TavilySearchResults(max_results=5)"
   ]
  },
  {
   "cell_type": "code",
   "execution_count": 5,
   "id": "f7c75449",
   "metadata": {},
   "outputs": [
    {
     "name": "stdout",
     "output_type": "stream",
     "text": [
      "[{'title': '아이폰 17 출시 일정 & 변화 총정리 올해 가을, 애플이 드디어 아이폰 ...', 'url': 'https://www.instagram.com/p/DNpxE0TJ0KN/', 'content': '📱 아이폰 17 출시 일정 & 변화 총정리  \\n  \\n 올해 가을, 애플이 드디어 아이폰17 시리즈를 공개합니다 🍎  \\n  \\n✅ 출시 일정 (한국 포함, 1차 출시국 확정)  \\n9월 9일(화) : 애플 이벤트에서 공개  \\n9월 12일(금) : 사전예약 시작  \\n9월 19일(금) : 정식 출시  \\n  \\n✅ 아이폰 17 주요 변화 예상  \\n  \\n 1️⃣ 새 라인업 – 플러스 모델 대신 아이폰17 에어(Air) 등장? 얇고 가벼운 디자인  \\n 2️⃣ 디자인 변화 – 프로 라인 후면 카메라 바 전체 가로 디자인, 두께 역대 최저  \\n 3️⃣ 카메라 성능 – 전면 24MP, 후면 48MP 센서·처리 성능 개선  \\n 4️⃣ 배터리·충전 – Pro Max, 5000mAh 대용량 / 맥세이프 50W 고속 충전  \\n 5️⃣ iOS 26 – 투명감 있는 Liquid Glass UI 탑재 [...] #아이폰17 #아이폰17출시일 #아이폰17사전예약 #아이폰17가격 #아이폰17스펙 #아이폰17디자인 #아이폰에어 #아이폰17프로 #아이폰17프로맥스 #애플 #모요 [...] Log In\\n\\nSign Up\\n\\nmoyo\\\\_.official\\n\\n•\\n\\nFollow\\n\\nmoyo\\\\_.official', 'score': 0.798643}, {'title': 'Apple Event 2025: Next Apple event date, time and details | Macworld', 'url': 'https://www.macworld.com/article/672537/when-is-apples-next-event.html', 'content': 'In 2025 we expect that Apple will unveil the iPhone 17, Apple Watch 11, a new Apple Watch Ultra and Apple Watch SE. We may also see the M5 arrive in the iPad Pro and the rumored HomeHub device.\\n\\nHere are the past few Apple September event dates:\\n\\nFor more information about Apple’s September events read: Apple’s September iPhone event: Date, time, and what will launch.\\n\\n## October event 2025 [...] In 2024, Apple held three events: one on Tuesday, May 7, at which it launched new iPads, a keynote to kick off WWDC on June 10, and an event on September 9 at which Apple unveiled the new iPhone 16, Apple Watch Series 10 and the AirPods 4. In October 2024 there was no event, but Apple did announce new products (iMac, Mac mini and MacBook Pro) via press release. [...] To prove that it can launch new products without holding an event, prior to WWDC, Apple launched a new iPhone 16e via press release on February 19, a new iPad and iPad Air via press release on March 4, and a new MacBook Air and Mac Studio on March 5.\\n\\nThe next Apple Event won’t take place until September, when Apple is expected to launch its new iPhones for 2025.\\n\\nRead on to find out about the events and Apple’s new product launches coming in 2025.\\n\\n## When is Apple’s next event?', 'score': 0.6649108}, {'title': 'Appleのイベント - Apple（日本）', 'url': 'https://www.apple.com/jp/apple-events/', 'content': 'Apple Vision Pro、M2を搭載した新しい15インチMacBook Air、M2 MaxまたはM2 Ultraを搭載したMac Studio、M2 Ultraを搭載したMac Pro、そしてiOS 17、iPadOS 17、macOS Sonoma、watchOS 10のプレビューを発表しました。\\n    \\n    見る アメリカ手話（ASL）で見る\\n    \\n    Image 23\\n    \\n    ### Apple Event 2022年9月8日\\n    \\n    まったく新しいiPhoneのラインナップと再設計されたAirPods Pro、そして驚きに満ちた3つの新しいApple Watchモデルを発表しました。\\n    \\n    見る アメリカ手話（ASL）で見る [...] 新しい14インチと16インチMacBook Pro、そして新しいiMacを発表。M3チップファミリーの驚異的なパワーを内蔵しました。\\n    \\n    見る アメリカ手話（ASL）で見る\\n    \\n    Image 19\\n    \\n    ### Apple Event 2023年9月13日\\n    \\n    iPhone 15 Pro、iPhone 15、Apple Watch Series 9、Apple Watch Ultra 2、さらに、2030年までにすべてのApple製品をカーボンニュートラルにするために、私たちが達成した大きな成果について発表しました。\\n    \\n    見る アメリカ手話（ASL）で見る\\n    \\n    Image 21\\n    \\n    ### WWDC 2023年6月6日 [...] iPadのサポート\\n       AppleCare+ for iPad\\n       iPadOS 18\\n       Apple Intelligence\\n       Appleのアプリ\\n       iCloud+\\n       教育\\n    \\n       iPhone\\n    \\n    iPhoneを詳しく見る\\n\\n       iPhoneの全\\u200dモ\\u200dデ\\u200dル\\u200dを見\\u200dる\\n       iPhone 16 Pro\\n       iPhone 16\\n       iPhone 16e\\n       iPhone 15\\n       iPhoneのモデルを比較する\\n       Androidからの乗り換え\\n    \\n    iPhoneの購入\\n\\n       iPhoneを購入\\n       iPhoneアクセサリ\\n       Apple Trade In\\n       通信キャリアを選んで購入\\n       分割でのお支払い\\n    \\n    iPhoneについてさらに詳しく', 'score': 0.33665863}, {'title': 'Apple Events', 'url': 'https://www.apple.com/apple-events/', 'content': 'More from iPad\\n\\n       iPad Support\\n       AppleCare\\n       iPadOS 26 Preview\\n       Apple Intelligence\\n       Apps by Apple\\n       iCloud+\\n       Education\\n\\n       iPhone\\n\\nExplore iPhone\\n\\n       Explore All iPhone\\n       iPhone 16 Pro\\n       iPhone 16\\n       iPhone 16e\\n       iPhone 15\\n       Compare iPhone\\n       Switch from Android\\n\\nShop iPhone\\n\\n       Shop iPhone\\n       iPhone Accessories\\n       Apple Trade In\\n       Carrier Deals at Apple\\n       Financing\\n\\nMore from iPhone [...] iPhone Support\\n       AppleCare\\n       iOS 26 Preview\\n       Apple Intelligence\\n       Apps by Apple\\n       iPhone Privacy\\n       iCloud+\\n       Wallet, Pay, Card\\n       Siri\\n\\n       Watch\\n\\nExplore Watch\\n\\n       Explore All Apple Watch\\n       Apple Watch Series 10\\n       Apple Watch Ultra 2\\n       Apple Watch SE\\n       Apple Watch Nike\\n       Apple Watch Hermès\\n       Compare Watch\\n       Why Apple Watch\\n\\nShop Watch', 'score': 0.12293349}, {'title': 'WWDC 2025 — June 9 | Apple - YouTube', 'url': 'https://www.youtube.com/watch?v=0_DjDdfqtUE', 'content': \"across all our platforms. Our releases for the fall\\nthat will power us through the coming year, 2026,\\nwill be version 26. Today, we’ll be taking you\\nthrough all of these, starting with iOS. iOS 26 is packed\\nwith intelligent experiences, meaningful improvements\\nto the things you do every day, and a new design\\nwhere we’ve also refreshed a number of system experiences and apps. Let’s dive in, starting from the moment [...] with so many new features that are right where you need them in the apps you use every day. Whether you're communicating\\nacross languages with Live Translation, exploring the content\\nof any app with Visual Intelligence, feeling motivated during\\na run with Workout Buddy, accelerating your workflows\\nwith powerful shortcuts, and more, these brand new\\nApple Intelligence features continue to elevate\\nyour iPhone, Apple Watch, Apple Vision Pro, Mac, [...] for games and playing with friends. And now, back to Craig. We have one more update to iOS\\nwe want to tell you about today, and that’s a big update\\nto Visual Intelligence. Visual Intelligence builds\\non Apple Intelligence to help you explore your surroundings. So you can simply press the\\nCamera Control or Action button to pull up ratings for a cafe you walk by, or find sneakers similar to the ones\\nyou see when you’re out and about. It’s the fastest way to learn\", 'score': 0.08633136}]\n"
     ]
    }
   ],
   "source": [
    "result = tavily_search.invoke(\"아이폰 17 발표는 언제?\")\n",
    "print(result)"
   ]
  },
  {
   "cell_type": "code",
   "execution_count": 6,
   "id": "06040267",
   "metadata": {},
   "outputs": [
    {
     "data": {
      "text/plain": [
       "[{'title': '아이폰 17 출시 일정 & 변화 총정리 올해 가을, 애플이 드디어 아이폰 ...',\n",
       "  'url': 'https://www.instagram.com/p/DNpxE0TJ0KN/',\n",
       "  'content': '📱 아이폰 17 출시 일정 & 변화 총정리  \\n  \\n 올해 가을, 애플이 드디어 아이폰17 시리즈를 공개합니다 🍎  \\n  \\n✅ 출시 일정 (한국 포함, 1차 출시국 확정)  \\n9월 9일(화) : 애플 이벤트에서 공개  \\n9월 12일(금) : 사전예약 시작  \\n9월 19일(금) : 정식 출시  \\n  \\n✅ 아이폰 17 주요 변화 예상  \\n  \\n 1️⃣ 새 라인업 – 플러스 모델 대신 아이폰17 에어(Air) 등장? 얇고 가벼운 디자인  \\n 2️⃣ 디자인 변화 – 프로 라인 후면 카메라 바 전체 가로 디자인, 두께 역대 최저  \\n 3️⃣ 카메라 성능 – 전면 24MP, 후면 48MP 센서·처리 성능 개선  \\n 4️⃣ 배터리·충전 – Pro Max, 5000mAh 대용량 / 맥세이프 50W 고속 충전  \\n 5️⃣ iOS 26 – 투명감 있는 Liquid Glass UI 탑재 [...] #아이폰17 #아이폰17출시일 #아이폰17사전예약 #아이폰17가격 #아이폰17스펙 #아이폰17디자인 #아이폰에어 #아이폰17프로 #아이폰17프로맥스 #애플 #모요 [...] Log In\\n\\nSign Up\\n\\nmoyo\\\\_.official\\n\\n•\\n\\nFollow\\n\\nmoyo\\\\_.official',\n",
       "  'score': 0.798643},\n",
       " {'title': 'Apple Event 2025: Next Apple event date, time and details | Macworld',\n",
       "  'url': 'https://www.macworld.com/article/672537/when-is-apples-next-event.html',\n",
       "  'content': 'In 2025 we expect that Apple will unveil the iPhone 17, Apple Watch 11, a new Apple Watch Ultra and Apple Watch SE. We may also see the M5 arrive in the iPad Pro and the rumored HomeHub device.\\n\\nHere are the past few Apple September event dates:\\n\\nFor more information about Apple’s September events read: Apple’s September iPhone event: Date, time, and what will launch.\\n\\n## October event 2025 [...] In 2024, Apple held three events: one on Tuesday, May 7, at which it launched new iPads, a keynote to kick off WWDC on June 10, and an event on September 9 at which Apple unveiled the new iPhone 16, Apple Watch Series 10 and the AirPods 4. In October 2024 there was no event, but Apple did announce new products (iMac, Mac mini and MacBook Pro) via press release. [...] To prove that it can launch new products without holding an event, prior to WWDC, Apple launched a new iPhone 16e via press release on February 19, a new iPad and iPad Air via press release on March 4, and a new MacBook Air and Mac Studio on March 5.\\n\\nThe next Apple Event won’t take place until September, when Apple is expected to launch its new iPhones for 2025.\\n\\nRead on to find out about the events and Apple’s new product launches coming in 2025.\\n\\n## When is Apple’s next event?',\n",
       "  'score': 0.6649108},\n",
       " {'title': 'Appleのイベント - Apple（日本）',\n",
       "  'url': 'https://www.apple.com/jp/apple-events/',\n",
       "  'content': 'Apple Vision Pro、M2を搭載した新しい15インチMacBook Air、M2 MaxまたはM2 Ultraを搭載したMac Studio、M2 Ultraを搭載したMac Pro、そしてiOS 17、iPadOS 17、macOS Sonoma、watchOS 10のプレビューを発表しました。\\n    \\n    見る アメリカ手話（ASL）で見る\\n    \\n    Image 23\\n    \\n    ### Apple Event 2022年9月8日\\n    \\n    まったく新しいiPhoneのラインナップと再設計されたAirPods Pro、そして驚きに満ちた3つの新しいApple Watchモデルを発表しました。\\n    \\n    見る アメリカ手話（ASL）で見る [...] 新しい14インチと16インチMacBook Pro、そして新しいiMacを発表。M3チップファミリーの驚異的なパワーを内蔵しました。\\n    \\n    見る アメリカ手話（ASL）で見る\\n    \\n    Image 19\\n    \\n    ### Apple Event 2023年9月13日\\n    \\n    iPhone 15 Pro、iPhone 15、Apple Watch Series 9、Apple Watch Ultra 2、さらに、2030年までにすべてのApple製品をカーボンニュートラルにするために、私たちが達成した大きな成果について発表しました。\\n    \\n    見る アメリカ手話（ASL）で見る\\n    \\n    Image 21\\n    \\n    ### WWDC 2023年6月6日 [...] iPadのサポート\\n       AppleCare+ for iPad\\n       iPadOS 18\\n       Apple Intelligence\\n       Appleのアプリ\\n       iCloud+\\n       教育\\n    \\n       iPhone\\n    \\n    iPhoneを詳しく見る\\n\\n       iPhoneの全\\u200dモ\\u200dデ\\u200dル\\u200dを見\\u200dる\\n       iPhone 16 Pro\\n       iPhone 16\\n       iPhone 16e\\n       iPhone 15\\n       iPhoneのモデルを比較する\\n       Androidからの乗り換え\\n    \\n    iPhoneの購入\\n\\n       iPhoneを購入\\n       iPhoneアクセサリ\\n       Apple Trade In\\n       通信キャリアを選んで購入\\n       分割でのお支払い\\n    \\n    iPhoneについてさらに詳しく',\n",
       "  'score': 0.33665863},\n",
       " {'title': 'Apple Events',\n",
       "  'url': 'https://www.apple.com/apple-events/',\n",
       "  'content': 'More from iPad\\n\\n       iPad Support\\n       AppleCare\\n       iPadOS 26 Preview\\n       Apple Intelligence\\n       Apps by Apple\\n       iCloud+\\n       Education\\n\\n       iPhone\\n\\nExplore iPhone\\n\\n       Explore All iPhone\\n       iPhone 16 Pro\\n       iPhone 16\\n       iPhone 16e\\n       iPhone 15\\n       Compare iPhone\\n       Switch from Android\\n\\nShop iPhone\\n\\n       Shop iPhone\\n       iPhone Accessories\\n       Apple Trade In\\n       Carrier Deals at Apple\\n       Financing\\n\\nMore from iPhone [...] iPhone Support\\n       AppleCare\\n       iOS 26 Preview\\n       Apple Intelligence\\n       Apps by Apple\\n       iPhone Privacy\\n       iCloud+\\n       Wallet, Pay, Card\\n       Siri\\n\\n       Watch\\n\\nExplore Watch\\n\\n       Explore All Apple Watch\\n       Apple Watch Series 10\\n       Apple Watch Ultra 2\\n       Apple Watch SE\\n       Apple Watch Nike\\n       Apple Watch Hermès\\n       Compare Watch\\n       Why Apple Watch\\n\\nShop Watch',\n",
       "  'score': 0.12293349},\n",
       " {'title': 'WWDC 2025 — June 9 | Apple - YouTube',\n",
       "  'url': 'https://www.youtube.com/watch?v=0_DjDdfqtUE',\n",
       "  'content': \"across all our platforms. Our releases for the fall\\nthat will power us through the coming year, 2026,\\nwill be version 26. Today, we’ll be taking you\\nthrough all of these, starting with iOS. iOS 26 is packed\\nwith intelligent experiences, meaningful improvements\\nto the things you do every day, and a new design\\nwhere we’ve also refreshed a number of system experiences and apps. Let’s dive in, starting from the moment [...] with so many new features that are right where you need them in the apps you use every day. Whether you're communicating\\nacross languages with Live Translation, exploring the content\\nof any app with Visual Intelligence, feeling motivated during\\na run with Workout Buddy, accelerating your workflows\\nwith powerful shortcuts, and more, these brand new\\nApple Intelligence features continue to elevate\\nyour iPhone, Apple Watch, Apple Vision Pro, Mac, [...] for games and playing with friends. And now, back to Craig. We have one more update to iOS\\nwe want to tell you about today, and that’s a big update\\nto Visual Intelligence. Visual Intelligence builds\\non Apple Intelligence to help you explore your surroundings. So you can simply press the\\nCamera Control or Action button to pull up ratings for a cafe you walk by, or find sneakers similar to the ones\\nyou see when you’re out and about. It’s the fastest way to learn\",\n",
       "  'score': 0.08633136}]"
      ]
     },
     "execution_count": 6,
     "metadata": {},
     "output_type": "execute_result"
    }
   ],
   "source": [
    "from IPython.display import JSON\n",
    "JSON(result).data "
   ]
  },
  {
   "cell_type": "markdown",
   "id": "0d70cb66",
   "metadata": {},
   "source": [
    "### TavilyClient를 사용하면 웹페이지의 전체 텍스트까지 조회할 수 있음"
   ]
  },
  {
   "cell_type": "code",
   "execution_count": 7,
   "id": "d3a29ea4",
   "metadata": {},
   "outputs": [
    {
     "data": {
      "text/plain": [
       "{'query': '아이폰 17 발표는 언제?',\n",
       " 'follow_up_questions': None,\n",
       " 'answer': None,\n",
       " 'images': [],\n",
       " 'results': [{'url': 'https://selectra.jp/telecom/news/iphone17-launch-event-date-leak',\n",
       "   'title': '新型iPhone 17の発表日は米国時間2025年9月9日（火）で決定 ...',\n",
       "   'content': 'Selectra\\n\\n# 新型iPhone 17の発表日は米国時間2025年9月9日（火）で決定？ドイツの携帯会社内部からのリーク\\n\\n新型iPhone 17の発表日は米国時間2025年9月9日（火）で決定？\\n\\nドイツのApple関連情報サイトiphone-tickerが、新型iPhone 17の発表日は2025年9月9日（火）になると報じました。\\n\\n例年、Appleの発表イベントはアメリカの太平洋時間午前10時に開始されます。時差を考慮すると、日本では2025年9月10日（水）午前2時となります。\\n\\nドイツの携帯電話会社の内部情報ということですが、今まで多方で噂されてきた日付とも一致するため、かなり確度は高そうです。\\n\\nauのスペシャルクーポンをチェック！ auスマホトクするプログラム\\n\\nauスマホトクするプログラム\\n\\n## 新型iPhone 17の発表から発売までのスケジュール\\n\\n2025年9月9日（日本では2025年9月10日）に発表となると、その後の予約・発売のスケジュールは以下が予想されます。 [...] 予想とは言え、発表日と同じ週の金曜日に予約開始、そして翌週金曜日に発売という例年通りのスケジュールを考えると、もうほぼ確実にこのスケジュールです。\\n\\nつまり新型iPhone 17の全貌が明らかになるまであと1か月ほど。iPhone\\n17を買うべきか、型落ちにするべきか、悩んでいる方もそろそろ答えを出せそうです。\\n\\n## 9月10日のイベントで発表されるAppleの新製品\\n\\nAppleの発表イベントでは、新型iPhoneに加え、他の新製品も発表される見込みです。中でも、第3世代AirPods Proや新型Apple Watchの発表が期待されます。\\n\\niPhone 17は、iPhone 14/15/16で発売された「Plus」を「Air」という新しい薄型モデルに置き換えた新しいラインナップでの発売が確実視されています。\\n\\n## 精巧なモックアップ画像も、iPhone 17はデザインを一新 [...] First look at iPhone 17 color dummies, The new orange really stands out this year —\\ndefinitely a bold addition. Thoughts? pic.twitter.com/M0gB6NSglI\\n\\n著名リーカーのソニー・ディクソン氏（@SonnyDickson）はiPhone 17シリーズの全モデルのモックアップ画像を公開。標準モデルiPhone 17はiPhone 16とほぼ変わらないデザインですが、17 Airと17 Proモデルはカメラバー周りのデザインが大きく変わるようです。\\n\\nまた、17 Proで噂されるオレンジカラーなど、新色についてのリークも盛り上がっています。\\n\\n今までと少し違う見た目のiPhoneを手に入れたいなら、iPhone 17に注目です。\\n\\nTomoko\\n\\nBy\\n Tomoko\\n\\nスマホ・SIM担当',\n",
       "   'score': 0.85097736,\n",
       "   'raw_content': '![Selectra](/sites/selectra.jp/files/logo-selectra-jp.svg)\\n\\n# 新型iPhone 17の発表日は米国時間2025年9月9日（火）で決定？ドイツの携帯会社内部からのリーク\\n\\n![新型iPhone 17の発表日は米国時間2025年9月9日（火）で決定？](https://selectra.jp/sites/selectra.jp/files/styles/article_hero/public/images/iphone17-launch-date-event-leak.png.webp)\\n\\nドイツのApple関連情報サイトiphone-tickerが、**新型iPhone 17の発表日は2025年9月9日（火）**になると報じました。\\n\\n例年、Appleの発表イベントはアメリカの太平洋時間午前10時に開始されます。時差を考慮すると、**日本では2025年9月10日（水）午前2時**となります。\\n\\nドイツの携帯電話会社の内部情報ということですが、今まで多方で噂されてきた日付とも一致するため、かなり確度は高そうです。\\n\\n[auのスペシャルクーポンをチェック！](/sim/selection/au-202411cp) ![auスマホトクするプログラム](/sites/selectra.jp/files/au-iphone-old-model_0.png)\\n\\n![auスマホトクするプログラム](/sites/selectra.jp/files/au-iphone-old-model_0.png)\\n\\n## 新型iPhone 17の発表から発売までのスケジュール\\n\\n2025年9月9日（日本では2025年9月10日）に発表となると、その後の予約・発売のスケジュールは以下が予想されます。\\n\\n予想とは言え、発表日と同じ週の金曜日に予約開始、そして翌週金曜日に発売という例年通りのスケジュールを考えると、もうほぼ確実にこのスケジュールです。\\n\\nつまり新型iPhone 17の全貌が明らかになるまであと1か月ほど。[iPhone\\n17を買うべきか、型落ちにするべきか](/telecom/mobile/iphone17-should-wait-for-release)、悩んでいる方もそろそろ答えを出せそうです。\\n\\n## 9月10日のイベントで発表されるAppleの新製品\\n\\nAppleの発表イベントでは、新型iPhoneに加え、他の新製品も発表される見込みです。中でも、第3世代AirPods Proや新型Apple Watchの発表が期待されます。\\n\\niPhone 17は、iPhone 14/15/16で発売された「Plus」を「Air」という新しい薄型モデルに置き換えた新しいラインナップでの発売が確実視されています。\\n\\n## 精巧なモックアップ画像も、iPhone 17はデザインを一新\\n\\nFirst look at iPhone 17 color dummies, The new orange really stands out this year —\\ndefinitely a bold addition. Thoughts? [pic.twitter.com/M0gB6NSglI](https://t.co/M0gB6NSglI)\\n\\n著名リーカーのソニー・ディクソン氏（@SonnyDickson）はiPhone 17シリーズの全モデルのモックアップ画像を公開。標準モデルiPhone 17はiPhone 16とほぼ変わらないデザインですが、17 Airと17 Proモデルはカメラバー周りのデザインが大きく変わるようです。\\n\\nまた、17 Proで噂されるオレンジカラーなど、新色についてのリークも盛り上がっています。\\n\\n今までと少し違う見た目のiPhoneを手に入れたいなら、iPhone 17に注目です。\\n\\n![Tomoko](https://selectra.jp/sites/selectra.jp/files/styles/webp/public/pictures/Tomoko%20Profile%20%282%29.png.webp?itok=z_Sa_QpK)\\n\\nBy\\n [Tomoko](/team/tomoko-mori)\\n\\nスマホ・SIM担当\\n\\nセレクトラのスマホ・SIM記事担当。エンジニアの父の影響で小さい頃から通信機器に囲まれて育ち、様々なガジェットに興味を持つ。トコトン情報を突き詰める性格から、格安SIMの細かいサービス事情の把握には自信あり。前職の商品開発と営業職で培ったユーザー目線を活かし、日々業界研究と分かりやすい記事作りに励んでいます。仕事中はSIMの最新の情報を追いかけ、プライベートは子供を追いかける2児の母。\\n\\n![iPhone 17発売](/sites/selectra.jp/files/mingchengweishedingnotesain_5.png)\\n![人気の光回線・インターネットプランの評判調査記事一覧](/sites/selectra.jp/files/images/internet-fiber-header-sideblock.png)\\n\\n**▼よく読まれている記事**\\n\\n[💰8月のキャンペーン情報](/telecom/fiber/campaign) [👑安い光回線ランキング](/telecom/fiber/cheapest-ranking) [👌解約自由！縛りなし光回線](/telecom/fiber/no-contract-period) [🌐10ギガの光回線おすすめ](/telecom/fiber/campaign)\\n\\n**▼各光回線プランの評判**\\n\\n[ソフトバンク光の評判](/telecom/fiber/softbank-review) [GMOとくとくBB光の評判](/telecom/fiber/gmobb) [ドコモ光の評判](/telecom/fiber/docomo) [auひかりの評判](/telecom/fiber/au) [エキサイトMEC光の評判](/telecom/fiber/excite-mec-review) [NURO光の評判](/telecom/fiber/nuro) [楽天ひかりの評判](/telecom/fiber/rakutenb) [OCN 光の評判](/telecom/providers/ocn) [enひかりの評判](/telecom/fiber/enhikari) [DTI光の評判](/telecom/fiber/dti) [BIGLOBE光の評判](/telecom/fiber/biglobe) [J:COM NETの評判](/telecom/fiber/jcom)[eo光の評判](/telecom/fiber/eo) [さすガねっとの評判](/telecom/fiber/osakagas)[カブアンドひかりの評判](/telecom/fiber/kabu-and-hikari)\\n\\n💡電気・都市ガス\\n\\n🔥プロパンガス（LPガス）\\n\\n🌐ネット回線・パソコン\\n\\n📱スマホ・SIM\\n\\n🚚各種引っ越し手続き\\n\\n🍿動画配信サービス\\n\\n🚗自動車保険\\n\\n🧹くらしのサポート\\n\\n🏢店舗・法人向けプラン\\n\\n🌱環境とエネルギー\\n\\nℹ️会社案内・問い合わせ\\n\\n📝コンテンツ制作ポリシー\\n\\nChange country'},\n",
       "  {'url': 'https://v.daum.net/v/U9jBqQphKS?vfrom_area=category_ranking',\n",
       "   'title': '아이폰17 출시일 확정? 한국, 2년 연속 1차국 포함 소식 | 잇츠잍 - Daum',\n",
       "   'content': '본문 바로가기 메뉴 바로가기 하단 바로가기\\n\\n## 아이폰17 출시일 확정? 한국, 2년 연속 1차국 포함 소식\\n\\n조회 7192025. 8. 23.\\n\\n애플 팬들이 주목할 만한 소식이 업계에 전해졌습니다. 아이폰17 출시일 확정 소식과 함께 한국이 2년 연속 1차국 포함됐다는 반가운 정보가 나왔는데요. 작년 아이폰 16에 이어 연속 선정된 배경은 무엇일까요? 이번 출시에서 놓치면 안 될 핵심 변화들과 함께 자세히 살펴보겠습니다.\\n\\n> 아이폰17 출시일, 사전예약은 언제부터?\\n\\n애플의 출시 패턴을 보면 아이폰17의 일정을 어느 정도 예상해 볼 수 있습니다.\\n\\n 9월 9일: 애플 키노트 이벤트(예상)\\n 9월 12일: 사전 예약 시작(예상)\\n 9월 19일: 정식 출시(예상)\\n\\n애플이 매년 반복해온 스케줄을 보면 9월 둘째 주 화요일 발표, 그 주 금요일 예약 시작, 다음 주 금요일 출시가 거의 공식처럼 굳어져 있거든요.\\n\\n> 아이폰17 주요 변화 정리: Air 모델과 120Hz 디스플레이 [...] 9월이 얼마 남지 않은 시점에서 아이폰17에 대한 기대감이 날로 높아지고 있습니다. 특히 아이폰17 Air라는 새로운 라인업의 등장과 모든 모델에 120Hz 디스플레이 탑재는 애플 팬들에게 반가운 소식이 될 것 같습니다.  \\n\\u200b  \\n한국 사용자들에게는 2년 연속 1차 출시국 지위 유지 가능성이 더 기쁘게 다가오는 소식입니다. 아이폰 17이 스마트폰 시장에 어떤 새로운 바람을 불러일으킬지, 그리고 국내에서는 어떤 반응을 얻을지 궁금해집니다.\\n\\n이 콘텐츠가 마음에 드셨다면?\\n\\n맞춤 콘텐츠를 추천받으려면 로그인하세요.\\n\\n이런 콘텐츠는 어때요?\\n\\n최근에 본 콘텐츠와 구독한  \\n채널을 분석하여 관련있는  \\n콘텐츠를 추천합니다.\\n\\n 61세 백지연, 45세 이후 꼭 필요한 ‘아침 식사법’ 공개—두 달 해보니 달라졌다\\n\\n  웰니스로그조회 3만 좋아요 0\\n \\'후면 카메라\\' 최대 \\'\\'○○○m까지 촬영됩니다\\'\\' 무조건 속도 줄이세요. [...] 조회 4623주 전\\n 갤럭시 Z플립7, 확실히 좋아졌는데... 이건 좀 아쉬웠어요\\n\\n  조회 1,4352주 전\\n One UI 8 업데이트? 그냥 기대하게 만드는 분위기\\n\\n  조회 9,8662주 전\\n\\n방금 본 콘텐츠와 비슷해요\\n\\n해당 콘텐츠와 연관성이  \\n높은 콘텐츠 중 사용자의 선택을  \\n많이 받은 콘텐츠입니다.\\n\\n 갤럭시 S26, 플러스는 사라지고 \"엣지\"가 온다?\\n\\n  조회 532\\n \"화면 더 커진다\" 애플, iOS 26 베타서 \\'애플워치 울트라3\\' 디스플레이 해상도 유출\\n\\n  조회 692\\n 불편해진 갤럭시 상단바, 3초 만에 해결하는 법\\n\\n  조회 5.5만\\n 에어팟에서 \\'띠링띠링\\' 소리 해결 방법\\n\\n  조회 567\\n\\n많이 본 루프\\n\\n송중기는 지금 행복하게 살고 있지만...굿픽셀\\n\\n0분:53초\\n\\n평범한 땅을 파내자 드러난 충격적인 광경 무덤세모흥\\n\\n1분:11초\\n\\n현재페이지 1 / 전체페이지 3\\n\\n다음채널이 콘텐츠뷰와 루프의  \\n파트너를 찾습니다!\\n\\n입점 신청하기\\n\\n---',\n",
       "   'score': 0.8452414,\n",
       "   'raw_content': '[본문 바로가기](#mainContent) [메뉴 바로가기](#menuContent) [하단 바로가기](#mainEtc)\\n\\n---\\n\\n\\n\\n## 아이폰17 출시일 확정? 한국, 2년 연속 1차국 포함 소식\\n\\n조회 7192025. 8. 23.\\n\\n애플 팬들이 주목할 만한 소식이 업계에 전해졌습니다. 아이폰17 출시일 확정 소식과 함께 한국이 2년 연속 1차국 포함됐다는 반가운 정보가 나왔는데요. 작년 아이폰 16에 이어 연속 선정된 배경은 무엇일까요? 이번 출시에서 놓치면 안 될 핵심 변화들과 함께 자세히 살펴보겠습니다.\\n\\n> **아이폰17 출시일, 사전예약은 언제부터?**\\n\\n애플의 출시 패턴을 보면 아이폰17의 일정을 어느 정도 예상해 볼 수 있습니다.\\n\\n* 9월 9일: 애플 키노트 이벤트(예상)\\n* 9월 12일: 사전 예약 시작(예상)\\n* 9월 19일: 정식 출시(예상)\\n\\n애플이 매년 반복해온 스케줄을 보면 9월 둘째 주 화요일 발표, 그 주 금요일 예약 시작, 다음 주 금요일 출시가 거의 공식처럼 굳어져 있거든요.\\n\\n> **아이폰17 주요 변화 정리: Air 모델과 120Hz 디스플레이**\\n\\n가장 큰 변화는 아이폰17 Air의 도입입니다. 기존 \\'Plus\\' 모델을 대체할 이 모델은 5.5mm~5.6mm 두께로 제작될 것으로 보이며, 맥북 에어처럼 휴대성에 중점을 둔 모델이 될 전망입니다. 드디어 일반 모델에서도 120Hz 적용될 예정입니다. 지금까지 프로 모델만 가능했던 부드러운 화면을 모든 사용자가 쓸 수 있게 되는 거죠.\\n\\n> **아이폰17 가격 인상 예상, 전작 대비 얼마나 오를까**\\n\\n현재로서는 가격 인상 가능성이 제기되고 있습니다. 해외 전문 매체들은 전작 대비 50달러 내외의 인상을 예측하고 있는데, 이는 부품 원가 상승과 새로운 기술 도입 때문으로 보입니다.\\n\\n> **아이폰17 한국 출시 일정, 2년 연속 1차국 포함 배경은?**\\n\\n한국이 1차 출시국에 포함될지는 아직 공식 발표가 없는 상황이지만, 애플은 올해도 한국을 1차 출시국에 포함한 것으로 전해지고 있습니다. 중국에서는 정부 규제와 현지 브랜드와의 경쟁이 심해지며, 한국 등 아시아 시장이 전략적으로 주목받고 있다는 분석이 나오는데요? 작년 아이폰 16 때 처음으로 1차국 지위를 얻었던 배경도 마찬가지죠.  \\n\\u200b  \\n국내 스마트폰 시장 점유율은 삼성전자가 약 82%, 애플이 15% 미만입니다. 이번엔 애플이 반등에 성공할 수 있을지, 어떤 전략을 펼칠지 관심이 집중되고 있습니다.\\n\\n> **아이폰17 출시를 기다리며**\\n\\n9월이 얼마 남지 않은 시점에서 아이폰17에 대한 기대감이 날로 높아지고 있습니다. 특히 아이폰17 Air라는 새로운 라인업의 등장과 모든 모델에 120Hz 디스플레이 탑재는 애플 팬들에게 반가운 소식이 될 것 같습니다.  \\n\\u200b  \\n한국 사용자들에게는 2년 연속 1차 출시국 지위 유지 가능성이 더 기쁘게 다가오는 소식입니다. 아이폰 17이 스마트폰 시장에 어떤 새로운 바람을 불러일으킬지, 그리고 국내에서는 어떤 반응을 얻을지 궁금해집니다.\\n\\n이 콘텐츠가 마음에 드셨다면?\\n\\n**맞춤 콘텐츠**를 추천받으려면 로그인하세요.\\n\\n**이런 콘텐츠는 어때요?**\\n\\n최근에 본 콘텐츠와 구독한  \\n채널을 분석하여 관련있는  \\n콘텐츠를 추천합니다.\\n\\n* [**61세 백지연, 45세 이후 꼭 필요한 ‘아침 식사법’ 공개—두 달 해보니 달라졌다**](https://v.daum.net/v/GzxRLqc6vT?vfrom_area=recommend)\\n\\n  **[**웰니스로그**](https://v.daum.net/channel/551795)**조회 3만 좋아요 0\\n* [**\\'후면 카메라\\' 최대 \\'\\'○○○m까지 촬영됩니다\\'\\' 무조건 속도 줄이세요.**](https://v.daum.net/v/p7zIysBWSa?vfrom_area=recommend)\\n\\n  **[**오버히트**](https://v.daum.net/channel/551838)**조회 1.8만 좋아요 0\\n* [**러시아 우크라이나 전쟁 끝?! 우크라이나와 미국 수천발의 장거리 미사일 발사하자 전쟁 종전**](https://v.daum.net/v/pgK3P2rRh1?vfrom_area=recommend)\\n\\n  **[**군사돋보기**](https://v.daum.net/channel/500006)**조회 1.6만 좋아요 0\\n* [**\"그랜저 잡으러 왔다\" 임팔라 부활, EV·PHEV 스펙 유출**](https://v.daum.net/v/KZdIBh2XfM?vfrom_area=recommend)\\n\\n  **[**카삼**](https://v.daum.net/channel/552146)**조회 1.4만 좋아요 0\\n* [**이지혜가 생활고에 시달려 오열하길래 1000만원 입금한 여배우, 쇼츠룩**](https://v.daum.net/v/ZH3eaqc64n?vfrom_area=recommend)\\n\\n  **[**대본은 내운명**](https://v.daum.net/channel/550469)**조회 3.8만 좋아요 0\\n* [**“불 안 나는 전기차 나온다?”… 현대차·삼성·LG·SK, 판을 뒤엎는 협업 시작**](https://v.daum.net/v/plUZdUaV9m?vfrom_area=recommend)\\n\\n  **[**EV-Hotissue**](https://v.daum.net/channel/551807)**조회 6,438 좋아요 0\\n* [**법정 스님이 말하는 살면서 절대 아끼면 안되는 4가지**](https://v.daum.net/v/pApJK0o92U?vfrom_area=recommend)\\n\\n  **[**성장곰**](https://v.daum.net/channel/551199)**조회 10.4만 좋아요 0\\n* [**중국 견제하려고 \"한국 기술에 1조 8천억\" 투자했다는 이 \\'나라\\'**](https://v.daum.net/v/ZaoAGC9HQy?vfrom_area=recommend)\\n\\n  **[**해시태그 - 신기하고 재밌는 이야기**](https://v.daum.net/channel/550664)**조회 1.9만 좋아요 0\\n* [**\"한국 국제 호구 인증?!\" KF-21 기술 도둑 인도네시아에 포항급 초계함 공짜로 준다**](https://v.daum.net/v/fDSwp5dzLT?vfrom_area=recommend)\\n\\n  **[**군사돋보기**](https://v.daum.net/channel/500006)**조회 1.8만 좋아요 0\\n* [**\"KF-21 허락 받고 팔라며 뻔뻔한 발언하며 훼방\"을 놓는 \\'이 나라\\'**](https://v.daum.net/v/yDwRX2ZwBr?vfrom_area=recommend)\\n\\n  **[**밀리터리 랩실**](https://v.daum.net/channel/551539)**조회 16.7만 좋아요 0\\n* [**\\'안목 높은\\' 길고양이가 \\'금수저 집사\\'를 만나면 벌어지는 일**](https://v.daum.net/v/POVEWObYTe?vfrom_area=recommend)\\n\\n  **[**재미진**](https://v.daum.net/channel/540918)**조회 1,960 좋아요 0\\n* [**중국 항공모함 전단 덜덜 떤다! 범상어 중어뢰에 공격받으면 벌어지는 무시무시한 일!**](https://v.daum.net/v/5GxtiGEQvb?vfrom_area=recommend)\\n\\n  **[**지식텔러**](https://v.daum.net/channel/550673)**조회 7,368 좋아요 0\\n* [**\"그녀는 내게 종교였다\" 결혼한 여배우 11년간 너무 사랑해 잊지못한 탑배우, 블랙룩**](https://v.daum.net/v/YjFx3YQ0v9?vfrom_area=recommend)\\n\\n  **[**패션룸**](https://v.daum.net/channel/551390)**조회 6.3만 좋아요 0\\n\\n**더 많은 콘텐츠를 보려면?**\\n\\n채널탭에서 더 풍성하고 다양하게 추천드려요\\n\\n[**잇츠잍**](https://v.daum.net/channel/551165) \\n\\n구독 **2.2천**\\n\\n잇츠잍\\n🚀 IT꿀팁을 공유하는 공간🥇 |\\n📩 문의: skylwt1@naver.com\\n\\n**이 채널의 인기 콘텐츠**\\n\\n최근 한 달 동안 발행한 콘텐츠  \\n중 조회수가 가장 높은 콘텐츠입니다.\\n\\n* [**솔직히 말해봐요, 캡처는 갤럭시가 압살이잖아**](https://v.daum.net/v/bQsjd2j4n4?vfrom_area=channel_ranking)\\n\\n  조회 4623주 전\\n* [**갤럭시 Z플립7, 확실히 좋아졌는데... 이건 좀 아쉬웠어요**](https://v.daum.net/v/2I7YXA9Hy5?vfrom_area=channel_ranking)\\n\\n  조회 1,4352주 전\\n* [**One UI 8 업데이트? 그냥 기대하게 만드는 분위기**](https://v.daum.net/v/fbObypmevg?vfrom_area=channel_ranking)\\n\\n  조회 9,8662주 전\\n\\n**방금 본 콘텐츠와 비슷해요**\\n\\n해당 콘텐츠와 연관성이  \\n높은 콘텐츠 중 사용자의 선택을  \\n많이 받은 콘텐츠입니다.\\n\\n* [**갤럭시 S26, 플러스는 사라지고 \"엣지\"가 온다?**](https://v.daum.net/v/QE1nrA3IhK?vfrom_area=category_ranking)\\n\\n  조회 532\\n* [**\"화면 더 커진다\" 애플, iOS 26 베타서 \\'애플워치 울트라3\\' 디스플레이 해상도 유출**](https://v.daum.net/v/VmIAUtEQO1?vfrom_area=category_ranking)\\n\\n  조회 692\\n* [**불편해진 갤럭시 상단바, 3초 만에 해결하는 법**](https://v.daum.net/v/qD0Y2jKGRQ?vfrom_area=category_ranking)\\n\\n  조회 5.5만\\n* [**에어팟에서 \\'띠링띠링\\' 소리 해결 방법**](https://v.daum.net/v/7491Q8EQ2k?vfrom_area=category_ranking)\\n\\n  조회 567\\n\\n**많이 본 루프**\\n\\n[**송중기는 지금 행복하게 살고 있지만...**굿픽셀\\n\\n0분:53초](https://video.daum.net/s/457086811?slot=video_short_contentsunder)\\n\\n[**평범한 땅을 파내자 드러난 충격적인 광경 무덤**세모흥\\n\\n1분:11초](https://video.daum.net/s/457375523?slot=video_short_contentsunder)\\n\\n현재페이지 1 / 전체페이지 3\\n\\n[***다음채널*이 콘텐츠뷰와 루프의  \\n파트너를 찾습니다!**\\n\\n입점 신청하기](https://channel.daum.net/studio)\\n\\n\\n\\n---'},\n",
       "  {'url': 'https://www.itmedia.co.jp/mobile/articles/2508/15/news050.html',\n",
       "   'title': '「iPhone 17（仮）」は9月10日発表？ ラインアップは4機種 - ITmedia',\n",
       "   'content': '\\x81@\\x82Ü\\x82¸\\x81A\\x8e\\x9f\\x8aúiPhone\\x82Æ\\x82È\\x82é\\x81uiPhone 17\\x81i\\x89¼\\x81j\\x81v\\x83V\\x83\\x8a\\x81[\\x83Y\\x82Ì\\x94\\xad\\x95\\\\\\x83C\\x83x\\x83\\x93\\x83g\\x82Ì\\x93ú\\x92ö\\x82É\\x82Â\\x82¢\\x82Ä\\x82Å\\x82·\\x82ª\\x81A\\x95Ä\\x8c»\\x92n\\x8e\\x9e\\x8aÔ9\\x8c\\x8e9\\x93ú\\x81i\\x89Î\\x81j\\x82É\\x8aJ\\x8dÃ\\x82³\\x82ê\\x82é\\x89Â\\x94\\\\\\x90«\\x82ª\\x8d\\x82\\x82»\\x82¤\\x82Å\\x82·\\x81BApple\\x82Í\\x95Ä\\x8d\\x91\\x82Ì\\x83\\x8c\\x83C\\x83o\\x81[\\x83f\\x81[\\x81i\\x98J\\x93\\xad\\x8eÒ\\x82Ì\\x93ú\\x81j\\x82Ì\\x97\\x82\\x8fT\\x89Î\\x97j\\x93ú\\x82Ü\\x82½\\x82Í\\x90\\x85\\x97j\\x93ú\\x82É\\x94\\xad\\x95\\\\\\x83C\\x83x\\x83\\x93\\x83g\\x82ð\\x8aJ\\x8dÃ\\x82·\\x82é\\x82±\\x82Æ\\x82ª\\x91½\\x82\\xad\\x81A2025\\x94N\\x82Ì\\x83\\x8c\\x83C\\x83o\\x81[\\x83f\\x81[\\x82Í9\\x8c\\x8e1\\x93ú\\x82È\\x82Ì\\x82Å\\x81A\\x82»\\x82Ì\\x97\\x82\\x8fT\\x82Ì\\x89Î\\x97j\\x93ú\\x82Æ\\x82È\\x82é9\\x93ú\\x81i\\x93ú\\x96{\\x8e\\x9e\\x8aÔ\\x82¾\\x82Æ10\\x93ú\\x81j\\x82ª\\x97L\\x97Í\\x82Æ\\x82¢\\x82¤\\x82í\\x82¯\\x82Å\\x82·\\x81B\\x82È\\x82¨\\x81A2024\\x94N\\x82ÌiPhone 16\\x83V\\x83\\x8a\\x81[\\x83Y\\x82Í\\x92¿\\x82µ\\x82\\xad\\x8c\\x8e\\x97j\\x93ú\\x82Ì\\x94\\xad\\x95\\\\\\x82¾\\x82Á\\x82½\\x82Ì\\x82Å\\x81A\\x97á\\x8aO\\x82Í\\x82 \\x82è\\x82Ü\\x82·\\x81B [...] \\x81@Air\\x82Ì\\x83J\\x83\\x81\\x83\\x89\\x83\\x82\\x83W\\x83\\x85\\x81[\\x83\\x8b\\x82à\\x89¡\\x82É\\x8dL\\x82ª\\x82Á\\x82½\\x83f\\x83U\\x83C\\x83\\x93\\x82É\\x82È\\x82è\\x82Ü\\x82·\\x82ª\\x81A\\x96³\\x88ó\\x82ÌiPhone 17\\x82É\\x8aÖ\\x82µ\\x82Ä\\x82Í\\x81A\\x8f]\\x97\\x88\\x92Ê\\x82è\\x82Ì\\x83f\\x83U\\x83C\\x83\\x93\\x82É\\x82È\\x82é\\x82æ\\x82¤\\x82Å\\x82·\\x81BiPhone 17\\x83V\\x83\\x8a\\x81\\x83Y\\x82Ì\\x83f\\x83U\\x83C\\x83\\x93\\x82É\\x8aÖ\\x82µ\\x82Ä\\x82Í\\x81A\\x92\\x98\\x96¼\\x83\\x8a\\x81[\\x83J\\x81[\\x82ÌSonny Dickson\\x8e\\x81\\x82ª\\x81A\\x88È\\x91O\\x82ÉX\\x82É\\x83\\x82\\x83b\\x83N\\x83A\\x83b\\x83v\\x82Æ\\x82·\\x82é\\x89æ\\x91\\x9c\\x82ð\\x93\\x8a\\x8de\\x82µ\\x82Ä\\x82¢\\x82Ü\\x82µ\\x82½\\x81B\\n\\n\\x81@\\x82±\\x82ê\\x82ç\\x82Ì\\x8fî\\x95ñ\\x82Í\\x81A\\x82 \\x82\\xad\\x82Ü\\x82Å\\x82à\\x94\\xad\\x95\\\\\\x91O\\x82Ì\\x82¤\\x82í\\x82³\\x82â\\x83\\x8a\\x81[\\x83N\\x8fî\\x95ñ\\x82É\\x82·\\x82¬\\x82Ü\\x82¹\\x82ñ\\x81B\\x8b°\\x82ç\\x82\\xad9\\x8c\\x8e\\x82É\\x8aJ\\x8dÃ\\x82³\\x82ê\\x82éiPhone\\x94\\xad\\x95\\\\\\x83C\\x83x\\x83\\x93\\x83g\\x82Å\\x82Ç\\x82Ì\\x82æ\\x82¤\\x82È\\x92[\\x96\\x96\\x82ª\\x93o\\x8fê\\x82·\\x82é\\x82Ì\\x82©\\x81A\\x8ay\\x82µ\\x82Ý\\x82É\\x82µ\\x82Ä\\x82¨\\x82«\\x82½\\x82¢\\x82Æ\\x82±\\x82ë\\x82Å\\x82·\\x81B\\n\\n### \\x8aÖ\\x98A\\x8bL\\x8e\\x96 [...] \\x81@\\x82Ü\\x82½\\x81A\\x83h\\x83C\\x83c\\x82ÌApple\\x8aÖ\\x98A\\x8fî\\x95ñ\\x83T\\x83C\\x83g\\x81u[iPhone-Ticker.de\\x81v\\x82ª\\x81A\\x83h\\x83C\\x83c\\x82Ì\\x8cg\\x91Ñ\\x93d\\x98b\\x89ï\\x8eÐ\\x82Ì\\x93à\\x95\\x94\\x8fî\\x95ñ\\x82Æ\\x82µ\\x82Ä\\x81A\\x82±\\x82Ì\\x93ú\\x95t\\x82ð\\x95ñ\\x82¶\\x82Ä\\x82¢\\x82Ü\\x82·\\x81BApple\\x82Ì\\x8fî\\x95ñ\\x82É\\x8fÚ\\x82µ\\x82¢Bloomberg\\x82ÌMark Gurman\\x8e\\x81\\x82à\\x81A\\x88È\\x91O\\x82É\\x81u9\\x8c\\x8e9\\x93ú\\x82©10\\x93ú\\x82É\\x8aJ\\x8dÃ\\x82³\\x82ê\\x82é\\x81v\\x82Æ\\x82Ì\\x97\\\\\\x91z\\x82ð\\x8e¦\\x82µ\\x82Ä\\x82¢\\x82Ü\\x82µ\\x82½\\x81B\\n\\n\\x81@\\x97á\\x94N\\x82Ì\\x83X\\x83P\\x83W\\x83\\x85\\x81\\x83\\x8b\\x92Ê\\x82è\\x82Å\\x82 \\x82ê\\x82Î\\x81A\\x83C\\x83x\\x83\\x93\\x83g\\x8aJ\\x8dÃ\\x82Ì2\\x8fT\\x8aÔ\\x91O\\x82Æ\\x82È\\x82é8\\x8c\\x8e26\\x93ú\\x81i\\x89Î\\x81j\\x82É\\x83C\\x83x\\x83\\x93\\x83g\\x8d\\x90\\x92m\\x82ð\\x8eÀ\\x8e{\\x81B9\\x8c\\x8e9\\x93ú\\x81i\\x89Î\\x81j\\x82É\\x94\\xad\\x95\\\\\\x82³\\x82ê\\x81A9\\x8c\\x8e12\\x93ú\\x81i\\x8bà\\x81j\\x82É\\x97\\\\\\x96ñ\\x8aJ\\x8en\\x81B\\x94\\xad\\x94\\x84\\x82Í9\\x8c\\x8e19\\x93ú\\x81i\\x8bà\\x81j\\x82Æ\\x82¢\\x82¤\\x89Â\\x94\\\\\\x90«\\x82ª\\x8d\\x82\\x82»\\x82¤\\x82Å\\x82·\\x81B',\n",
       "   'score': 0.8335554,\n",
       "   'raw_content': '![ITmedia Mobile](https://image.itmedia.co.jp/images/logo/pcvheader_mobile.png)\\n\\n# \\x81uiPhone 17\\x81i\\x89¼\\x81j\\x81v\\x82Í9\\x8c\\x8e10\\x93ú\\x94\\xad\\x95\\\\\\x81H\\x81@\\x83\\x89\\x83C\\x83\\x93\\x83A\\x83b\\x83v\\x82Í4\\x8b@\\x8eí\\x81APlus\\x94p\\x8e~\\x82ÅAir\\x93\\x8a\\x93ü\\x82©*\\x81F**\\x8e\\x9f\\x8aúiPhone\\x82Í\\x82Ç\\x82¤\\x82È\\x82é\\x81H*\\n\\n\\x81@2025\\x94N\\x82à\\x89Ä\\x90^\\x82Á\\x90·\\x82è\\x82Ì8\\x8c\\x8e\\x82Æ\\x82È\\x82è\\x82Ü\\x82µ\\x82½\\x82ª\\x81A\\x96\\x88\\x94N\\x82±\\x82Ì\\x8e\\x9e\\x8aú\\x82É\\x82È\\x82é\\x82Æ\\x83l\\x83b\\x83g\\x82Å\\x90·\\x82è\\x8fã\\x82ª\\x82Á\\x82Ä\\x82\\xad\\x82é\\x82Ì\\x82ª\\x8e\\x9f\\x8aúiPhone\\x82Ì\\x82¤\\x82í\\x82³\\x82Å\\x82·\\x81B2025\\x94N\\x82à\\x97á\\x8aO\\x82Å\\x82Í\\x82È\\x82\\xad\\x81A\\x8aù\\x82É\\x82³\\x82Ü\\x82´\\x82Ü\\x82È\\x8fî\\x95ñ\\x82ª\\x94ò\\x82Ñ\\x8cð\\x82Á\\x82Ä\\x82¢\\x82Ü\\x82·\\x81B\\x8cö\\x8e®\\x94\\xad\\x95\\\\\\x82Å\\x82Í\\x82È\\x82\\xad\\x81A\\x90^\\x8bU\\x95s\\x96¾\\x82Æ\\x82¢\\x82¤\\x93\\\\_\\x82Å\\x82Í\\x88È\\x91O\\x82©\\x82ç\\x95Ï\\x82í\\x82è\\x82Í\\x82\\xa0\\x82è\\x82Ü\\x82¹\\x82ñ\\x82ª\\x81A\\x8bß\\x94N\\x82Í\\x89ö\\x82µ\\x82°\\x82È\\x8fî\\x95ñ\\x82Í\\x8f\\xad\\x82È\\x82\\xad\\x82È\\x82è\\x81A\\x82©\\x82È\\x82è\\x8am\\x93x\\x82ª\\x8d\\x82\\x82¢\\x82Æ\\x8ev\\x82í\\x82ê\\x82é\\x8fî\\x95ñ\\x82ª\\x91\\x9d\\x82¦\\x82Ä\\x82«\\x82Ä\\x82¢\\x82é\\x88ó\\x8fÛ\\x82ª\\x82\\xa0\\x82è\\x82Ü\\x82·\\x81B\\n\\n\\x81@\\x82»\\x82±\\x82Å\\x8d¡\\x89ñ\\x82Í\\x81A\\x82»\\x82ñ\\x82È\\x82¤\\x82í\\x82³\\x82Ì\\x92\\x86\\x82©\\x82ç\\x8e\\x9f\\x8aúiPhone\\x82ª\\x82¢\\x82Â\\x94\\xad\\x95\\\\\\x82³\\x82ê\\x82é\\x82Ì\\x82©\\x81B\\x82»\\x82µ\\x82Ä\\x81A\\x82»\\x82Ì\\x83\\x89\\x83C\\x83\\x93\\x83A\\x83b\\x83v\\x82É\\x82Â\\x82¢\\x82Ä\\x82Ì\\x97\\\\\\x91z\\x82ð\\x82Ü\\x82Æ\\x82ß\\x82Ä\\x82Ý\\x82Ü\\x82µ\\x82½\\x81B\\n\\n![iPhone 16](https://image.itmedia.co.jp/mobile/articles/2508/15/st52693_iphone17r-01.jpg)\\n\\n## \\x94\\xad\\x95\\\\\\x83X\\x83P\\x83W\\x83\\x85\\x81[\\x83\\x8b\\x82Í9\\x8c\\x8e9\\x93ú\\x82ª\\x8dÅ\\x97L\\x97Í\\n\\n\\x81@\\x82Ü\\x82¸\\x81A\\x8e\\x9f\\x8aúiPhone\\x82Æ\\x82È\\x82é\\x81uiPhone 17\\x81i\\x89¼\\x81j\\x81v\\x83V\\x83\\x8a\\x81[\\x83Y\\x82Ì\\x94\\xad\\x95\\\\\\x83C\\x83x\\x83\\x93\\x83g\\x82Ì\\x93ú\\x92ö\\x82É\\x82Â\\x82¢\\x82Ä\\x82Å\\x82·\\x82ª\\x81A\\x95Ä\\x8c»\\x92n\\x8e\\x9e\\x8aÔ9\\x8c\\x8e9\\x93ú\\x81i\\x89Î\\x81j\\x82É\\x8aJ\\x8dÃ\\x82³\\x82ê\\x82é\\x89Â\\x94\\\\\\x90«\\x82ª\\x8d\\x82\\x82»\\x82¤\\x82Å\\x82·\\x81BApple\\x82Í\\x95Ä\\x8d\\x91\\x82Ì\\x83\\x8c\\x83C\\x83o\\x81[\\x83f\\x81[\\x81i\\x98J\\x93\\xad\\x8eÒ\\x82Ì\\x93ú\\x81j\\x82Ì\\x97\\x82\\x8fT\\x89Î\\x97j\\x93ú\\x82Ü\\x82½\\x82Í\\x90\\x85\\x97j\\x93ú\\x82É\\x94\\xad\\x95\\\\\\x83C\\x83x\\x83\\x93\\x83g\\x82ð\\x8aJ\\x8dÃ\\x82·\\x82é\\x82±\\x82Æ\\x82ª\\x91½\\x82\\xad\\x81A2025\\x94N\\x82Ì\\x83\\x8c\\x83C\\x83o\\x81[\\x83f\\x81[\\x82Í9\\x8c\\x8e1\\x93ú\\x82È\\x82Ì\\x82Å\\x81A\\x82»\\x82Ì\\x97\\x82\\x8fT\\x82Ì\\x89Î\\x97j\\x93ú\\x82Æ\\x82È\\x82é9\\x93ú\\x81i\\x93ú\\x96{\\x8e\\x9e\\x8aÔ\\x82¾\\x82Æ10\\x93ú\\x81j\\x82ª\\x97L\\x97Í\\x82Æ\\x82¢\\x82¤\\x82í\\x82¯\\x82Å\\x82·\\x81B\\x82È\\x82¨\\x81A2024\\x94N\\x82ÌiPhone 16\\x83V\\x83\\x8a\\x81[\\x83Y\\x82Í\\x92¿\\x82µ\\x82\\xad\\x8c\\x8e\\x97j\\x93ú\\x82Ì\\x94\\xad\\x95\\\\\\x82¾\\x82Á\\x82½\\x82Ì\\x82Å\\x81A\\x97á\\x8aO\\x82Í\\x82\\xa0\\x82è\\x82Ü\\x82·\\x81B\\n\\n\\x81@\\x82Ü\\x82½\\x81A\\x83h\\x83C\\x83c\\x82ÌApple\\x8aÖ\\x98A\\x8fî\\x95ñ\\x83T\\x83C\\x83g\\x81u[iPhone-Ticker.de](https://www.iphone-ticker.de/iphone-17-vorstellung-wohl-am-9-verkaufsstart-am-19-september-261445/)\\x81v\\x82ª\\x81A\\x83h\\x83C\\x83c\\x82Ì\\x8cg\\x91Ñ\\x93d\\x98b\\x89ï\\x8eÐ\\x82Ì\\x93à\\x95\\x94\\x8fî\\x95ñ\\x82Æ\\x82µ\\x82Ä\\x81A\\x82±\\x82Ì\\x93ú\\x95t\\x82ð\\x95ñ\\x82¶\\x82Ä\\x82¢\\x82Ü\\x82·\\x81BApple\\x82Ì\\x8fî\\x95ñ\\x82É\\x8fÚ\\x82µ\\x82¢Bloomberg\\x82ÌMark Gurman\\x8e\\x81\\x82à\\x81A\\x88È\\x91O\\x82É\\x81u9\\x8c\\x8e9\\x93ú\\x82©10\\x93ú\\x82É\\x8aJ\\x8dÃ\\x82³\\x82ê\\x82é\\x81v\\x82Æ\\x82Ì\\x97\\\\\\x91z\\x82ð\\x8e¦\\x82µ\\x82Ä\\x82¢\\x82Ü\\x82µ\\x82½\\x81B\\n\\n\\x81@\\x97á\\x94N\\x82Ì\\x83X\\x83P\\x83W\\x83\\x85\\x81[\\x83\\x8b\\x92Ê\\x82è\\x82Å\\x82\\xa0\\x82ê\\x82Î\\x81A\\x83C\\x83x\\x83\\x93\\x83g\\x8aJ\\x8dÃ\\x82Ì2\\x8fT\\x8aÔ\\x91O\\x82Æ\\x82È\\x82é8\\x8c\\x8e26\\x93ú\\x81i\\x89Î\\x81j\\x82É\\x83C\\x83x\\x83\\x93\\x83g\\x8d\\x90\\x92m\\x82ð\\x8eÀ\\x8e{\\x81B9\\x8c\\x8e9\\x93ú\\x81i\\x89Î\\x81j\\x82É\\x94\\xad\\x95\\\\\\x82³\\x82ê\\x81A9\\x8c\\x8e12\\x93ú\\x81i\\x8bà\\x81j\\x82É\\x97\\\\\\x96ñ\\x8aJ\\x8en\\x81B\\x94\\xad\\x94\\x84\\x82Í9\\x8c\\x8e19\\x93ú\\x81i\\x8bà\\x81j\\x82Æ\\x82¢\\x82¤\\x89Â\\x94\\\\\\x90«\\x82ª\\x8d\\x82\\x82»\\x82¤\\x82Å\\x82·\\x81B\\n\\n\\x81@\\x82È\\x82¨\\x81A\\x92¼\\x8bß\\x82ÌiPhone\\x82Ì\\x94\\xad\\x95\\\\\\x93ú\\x81A\\x97\\\\\\x96ñ\\x8aJ\\x8en\\x81A\\x94\\xad\\x94\\x84\\x93ú\\x82ð\\x82Ü\\x82Æ\\x82ß\\x82é\\x82Æ\\x89º\\x8bL\\x82Ì\\x92Ê\\x82è\\x82É\\x82È\\x82è\\x82Ü\\x82·\\x81B\\x93ú\\x95t\\x82Í\\x91S\\x82Ä\\x93ú\\x96{\\x8e\\x9e\\x8aÔ\\x82Å\\x82·\\x81B\\n\\n![iPhone\\x94\\xad\\x94\\x84\\x93ú](https://image.itmedia.co.jp/mobile/articles/2508/15/st52693_iphone17r-02.jpg)\\n\\n## \\x83\\x89\\x83C\\x83\\x93\\x83A\\x83b\\x83v\\x82Í4\\x8b@\\x8eí\\x81APlus\\x94p\\x8e~\\x82ÅAir\\x93\\x8a\\x93ü\\n\\n\\x81@iPhone\\x82Ì\\x83\\x89\\x83C\\x83\\x93\\x83A\\x83b\\x83v\\x82Í\\x81AiPhone 14\\x83V\\x83\\x8a\\x81[\\x83Y\\x82©\\x82ç\\x96³\\x88ó\\x82ÌiPhone\\x81^iPhone Plus\\x81APro\\x83\\x89\\x83C\\x83\\x93\\x82ÌiPhone Pro\\x81^Pro Max\\x82Æ\\x82¢\\x82¤4\\x8eí\\x97Þ\\x82ª\\x91±\\x82¢\\x82Ä\\x82¢\\x82Ü\\x82µ\\x82½\\x82ª\\x81AiPhone 17\\x83V\\x83\\x8a\\x81[\\x83Y\\x82Å\\x82ÍPlus\\x82ª\\x94p\\x8e~\\x82³\\x82ê\\x81A\\x90V\\x82½\\x82ÉiPhone 17 Air\\x82ª\\x93\\x8a\\x93ü\\x82³\\x82ê\\x82é\\x82Æ\\x82¤\\x82í\\x82³\\x82³\\x82ê\\x82Ä\\x82¢\\x82Ü\\x82·\\x81B\\n\\n\\x81@MacRumors\\x82É\\x82æ\\x82é\\x82Æ\\x81APlus\\x82Ì\\x91ã\\x82í\\x82è\\x82É\\x93\\x8a\\x93ü\\x82³\\x82ê\\x82éAir\\x82Í\\x81A\\x8cú\\x82³5.5mm\\x82Ì\\x8bÉ\\x94\\x96\\x83{\\x83f\\x83B\\x81[\\x82É\\x82È\\x82é\\x82Æ\\x82¢\\x82¤\\x82¤\\x82í\\x82³\\x82ª\\x82\\xa0\\x82é\\x88ê\\x95û\\x82Å\\x81AMark Gurman\\x8e\\x81\\x82ÍiPhone 16 Pro\\x82æ\\x82è2mm\\x94\\x96\\x82¢6.25mm\\x82É\\x82È\\x82é\\x82Æ\\x82¢\\x82¤\\x97\\\\\\x91z\\x82ð[\\x8e¦\\x82µ\\x82Ä\\x82¢\\x82Ü\\x82µ\\x82½](https://www.macrumors.com/2024/12/06/iphone-17-air-2mm-thinner/)\\x81B\\x82¢\\x82¸\\x82ê\\x82É\\x82µ\\x82ë\\x81A\\x97ð\\x91ãiPhone\\x82Ì\\x92\\x86\\x82Å\\x82Í\\x8dÅ\\x94\\x96\\x82É\\x82È\\x82é\\x82Ì\\x82Í\\x8aÔ\\x88á\\x82¢\\x82È\\x82³\\x82»\\x82¤\\x82Å\\x82·\\x81B\\n\\n\\x81@\\x83f\\x83B\\x83X\\x83v\\x83\\x8c\\x83C\\x83T\\x83C\\x83Y\\x82Í\\x81AiPhone 17\\x82ÆiPhone 17 Pro\\x82Í6.27\\x8c^\\x81i6.3\\x8c^\\x95\\\\\\x8bL\\x81j\\x82É\\x8ag\\x91å\\x82µ\\x81AAir\\x82Í6.55\\x8c^\\x81i6.6\\x8c^\\x95\\\\\\x8bL\\x81j\\x82Ì\\x90V\\x83T\\x83C\\x83Y\\x81APro Max \\x82Í 6.86\\x8c^\\x81i6.9\\x8c^\\x95\\\\\\x8bL\\x81j\\x82ð\\x88Û\\x8e\\x9d\\x81B\\x91S\\x83\\x82\\x83f\\x83\\x8b\\x82ª\\x83\\x8a\\x83t\\x83\\x8c\\x83b\\x83V\\x83\\x85\\x83\\x8c\\x81[\\x83g120Hz\\x82ÌProMotion\\x83e\\x83N\\x83m\\x83\\x8d\\x83W\\x81[\\x82É\\x91Î\\x89\\x9e\\x82·\\x82é\\x82Æ\\x97\\\\\\x91z\\x82³\\x82ê\\x82Ä\\x82¢\\x82Ü\\x82·\\x81B\\n\\n\\x81@\\x82Ü\\x82½\\x81AiPhone 17 Pro\\x81^Pro Max\\x82Ì\\x96{\\x91Ì\\x82Í\\x81A\\x8f]\\x97\\x88\\x82Ì\\x83`\\x83^\\x83\\x93\\x91f\\x8dÞ\\x82©\\x82ç\\x81A\\x88ê\\x95\\x94\\x83A\\x83\\x8b\\x83~\\x83j\\x83E\\x83\\x80\\x81A\\x88ê\\x95\\x94\\x83K\\x83\\x89\\x83X\\x82ð\\x8dÌ\\x97p\\x82µ\\x82½\\x90V\\x83f\\x83U\\x83C\\x83\\x93\\x82É\\x82È\\x82é\\x82Æ\\x82¢\\x82¤\\x82¤\\x82í\\x82³\\x82à\\x82\\xa0\\x82è\\x82Ü\\x82·\\x81BMacRumors\\x82É\\x82æ\\x82é\\x82Æ\\x81A\\x83A\\x83E\\x83g\\x83J\\x83\\x81\\x83\\x89\\x82Ì\\x8fo\\x82Á\\x92£\\x82è\\x82ª\\x89¡\\x95\\x9d\\x82¢\\x82Á\\x82Ï\\x82¢\\x82É\\x8dL\\x82ª\\x82è\\x81A\\x82»\\x82Ì\\x89º\\x82É\\x83K\\x83\\x89\\x83X\\x91f\\x8dÞ\\x82ð\\x8eg\\x82Á\\x82½\\x83\\x8f\\x83C\\x83\\x84\\x83\\x8c\\x83X\\x8f[\\x93d\\x83G\\x83\\x8a\\x83A\\x82É\\x82È\\x82é[\\x82Æ\\x82Ì\\x82±\\x82Æ\\x82Å\\x82·](https://www.macrumors.com/2025/03/20/iphone-17-pro-dummies-highlight-apples-new-design/)\\x81B\\n\\n![iPhone\\x94\\xad\\x94\\x84\\x93ú](https://image.itmedia.co.jp/mobile/articles/2508/15/st52693_iphone17r-03.jpg)\\n\\n\\x81@Air\\x82Ì\\x83J\\x83\\x81\\x83\\x89\\x83\\x82\\x83W\\x83\\x85\\x81[\\x83\\x8b\\x82à\\x89¡\\x82É\\x8dL\\x82ª\\x82Á\\x82½\\x83f\\x83U\\x83C\\x83\\x93\\x82É\\x82È\\x82è\\x82Ü\\x82·\\x82ª\\x81A\\x96³\\x88ó\\x82ÌiPhone 17\\x82É\\x8aÖ\\x82µ\\x82Ä\\x82Í\\x81A\\x8f]\\x97\\x88\\x92Ê\\x82è\\x82Ì\\x83f\\x83U\\x83C\\x83\\x93\\x82É\\x82È\\x82é\\x82æ\\x82¤\\x82Å\\x82·\\x81BiPhone 17\\x83V\\x83\\x8a\\x81[\\x83Y\\x82Ì\\x83f\\x83U\\x83C\\x83\\x93\\x82É\\x8aÖ\\x82µ\\x82Ä\\x82Í\\x81A\\x92\\x98\\x96¼\\x83\\x8a\\x81[\\x83J\\x81[\\x82ÌSonny Dickson\\x8e\\x81\\x82ª\\x81A\\x88È\\x91O\\x82ÉX\\x82É\\x83\\x82\\x83b\\x83N\\x83A\\x83b\\x83v\\x82Æ\\x82·\\x82é\\x89æ\\x91\\x9c\\x82ð\\x93\\x8a\\x8de\\x82µ\\x82Ä\\x82¢\\x82Ü\\x82µ\\x82½\\x81B\\n\\n\\x81@\\x82±\\x82ê\\x82ç\\x82Ì\\x8fî\\x95ñ\\x82Í\\x81A\\x82\\xa0\\x82\\xad\\x82Ü\\x82Å\\x82à\\x94\\xad\\x95\\\\\\x91O\\x82Ì\\x82¤\\x82í\\x82³\\x82â\\x83\\x8a\\x81[\\x83N\\x8fî\\x95ñ\\x82É\\x82·\\x82¬\\x82Ü\\x82¹\\x82ñ\\x81B\\x8b°\\x82ç\\x82\\xad9\\x8c\\x8e\\x82É\\x8aJ\\x8dÃ\\x82³\\x82ê\\x82éiPhone\\x94\\xad\\x95\\\\\\x83C\\x83x\\x83\\x93\\x83g\\x82Å\\x82Ç\\x82Ì\\x82æ\\x82¤\\x82È\\x92[\\x96\\x96\\x82ª\\x93o\\x8fê\\x82·\\x82é\\x82Ì\\x82©\\x81A\\x8ay\\x82µ\\x82Ý\\x82É\\x82µ\\x82Ä\\x82¨\\x82«\\x82½\\x82¢\\x82Æ\\x82±\\x82ë\\x82Å\\x82·\\x81B\\n\\n### \\x8aÖ\\x98A\\x8bL\\x8e\\x96\\n\\n![\\x81uiPhone 17\\x81v\\x83V\\x83\\x8a\\x81[\\x83Y\\x82É\\x94\\x96\\x8c^\\x83\\x82\\x83f\\x83\\x8b\\x81uSlim\\x81v\\x93o\\x8fê\\x82Ì\\x82¤\\x82í\\x82³\\x81@\\x8dÅ\\x94\\x96\\x95\\x945.5mm\\x82Ù\\x82Ç\\x82Ì\\x8bÉ\\x94\\x96\\x83{\\x83f\\x83B\\x81[\\x82É\\x81H](https://image.itmedia.co.jp/mobile/articles/2502/10/news081.jpg)\\n![\\x81uiOS 26\\x81v\\x82Í\\x81gINFOBAR\\x81h\\x8e\\x97\\x81H\\x81@\\x82Õ\\x82é\\x82Õ\\x82é\\x93®\\x82\\xadiPhone\\x90VUI\\x82É\\x81u\\x93§\\x96¾\\x8a´\\x81v\\x82Í\\x95K\\x97v\\x81H\\x81@Liquid Glass\\x82ð\\x8e\\x8e\\x82µ\\x82½](https://image.itmedia.co.jp/mobile/articles/2507/26/news036.jpg)\\n![iOS 26\\x82Í\\x81uiPhone XS\\x81^XR\\x81v\\x82ª\\x91Î\\x8fÛ\\x8aO\\x82É\\x81@\\x81uiPhone SE\\x81i\\x91æ2\\x90¢\\x91ã\\x81j\\x81v\\x82Í\\x90¶\\x82«\\x8ec\\x82é](https://image.itmedia.co.jp/mobile/articles/2506/10/news068.jpg)\\n![\\x81uiPhone 16e\\x81v\\x82É\\x82Ü\\x82Â\\x82í\\x82é7\\x82Â\\x82Ì\\x93ä\\x81@\\x81ue\\x81v\\x82Ì\\x88Ó\\x96¡\\x82Í\\x81H\\x81@LTE\\x91Î\\x89\\x9e\\x83o\\x83\\x93\\x83h\\x82Í\\x82È\\x82º\\x8c¸\\x82Á\\x82½\\x81H\\x81@Apple\\x83L\\x81[\\x83p\\x81[\\x83\\\\\\x83\\x93\\x82É\\x95·\\x82\\xad](https://image.itmedia.co.jp/mobile/articles/2503/12/news117.jpg)\\n![\\x81uiPhone 16\\x81^16 Pro\\x81v\\x82Í\\x89½\\x82ª\\x90i\\x89»\\x82µ\\x82½\\x81H\\x81@iPhone 15\\x83V\\x83\\x8a\\x81[\\x83Y\\x82Æ\\x83X\\x83y\\x83b\\x83N\\x82ð\\x94ä\\x8ar\\x82·\\x82é](https://image.itmedia.co.jp/mobile/articles/2409/10/news117.jpg)\\n\\n### \\x8aÖ\\x98A\\x83\\x8a\\x83\\x93\\x83N\\n\\nCopyright © ITmedia, Inc. All Rights Reserved.\\n\\n## \\x83A\\x83N\\x83Z\\x83X\\x83g\\x83b\\x83v10\\n\\n## \\x89ß\\x8b\\x8e\\x8bL\\x8e\\x96\\x83J\\x83\\x8c\\x83\\x93\\x83\\\\_\\x81[\\n\\n#### 2025\\x94N\\n\\n#### 2024\\x94N\\n\\n#### 2023\\x94N\\n\\n#### 2022\\x94N\\n\\n#### 2021\\x94N\\n\\n#### 2020\\x94N\\n\\n#### 2019\\x94N\\n\\n#### 2018\\x94N\\n\\n#### 2017\\x94N\\n\\n#### 2016\\x94N\\n\\n#### 2015\\x94N\\n\\n#### 2014\\x94N\\n\\n#### 2013\\x94N\\n\\n#### 2012\\x94N\\n\\n#### 2011\\x94N\\n\\n#### 2010\\x94N\\n\\n#### 2009\\x94N\\n\\n#### 2008\\x94N\\n\\n#### 2007\\x94N\\n\\n#### 2006\\x94N\\n\\n#### 2005\\x94N\\n\\n#### 2004\\x94N\\n\\n#### 2003\\x94N\\n\\n#### 2002\\x94N\\n\\n#### 2001\\x94N\\n\\n## Feed Back\\n\\n[![\\x83A\\x83C\\x83e\\x83B\\x83\\x81\\x83f\\x83B\\x83A\\x8a\\x94\\x8e®\\x89ï\\x8eÐ](https://image.itmedia.co.jp/images/logo/170_itmedia_bgw.gif)](https://corp.itmedia.co.jp/)ITmedia\\x82Í\\x83A\\x83C\\x83e\\x83B\\x83\\x81\\x83f\\x83B\\x83A\\x8a\\x94\\x8e®\\x89ï\\x8eÐ\\x82Ì\\x93o\\x98^\\x8f¤\\x95W\\x82Å\\x82·\\x81B\\n\\n![\\x83A\\x83C\\x83e\\x83B\\x83\\x81\\x83f\\x83B\\x83A\\x8a\\x94\\x8e®\\x89ï\\x8eÐ](https://image.itmedia.co.jp/images/logo/170_itmedia_bgw.gif)\\n\\n[\\x83\\x81\\x83f\\x83B\\x83A\\x88ê\\x97\\x97](https://corp.itmedia.co.jp/media/) | [\\x8cö\\x8e®SNS](https://corp.itmedia.co.jp/media/sns/) | [\\x8dL\\x8d\\x90\\x88Ä\\x93à](https://corp.itmedia.co.jp/ad/) | [\\x82¨\\x96â\\x82¢\\x8d\\x87\\x82í\\x82¹](https://corp.itmedia.co.jp/corp/inquiry/) | [\\x83v\\x83\\x89\\x83C\\x83o\\x83V\\x81[\\x83|\\x83\\x8a\\x83V\\x81[](https://corp.itmedia.co.jp/corp/privacy/privacy/) | [RSS](https://corp.itmedia.co.jp/media/rss_list/) | [\\x89^\\x89c\\x89ï\\x8eÐ](https://corp.itmedia.co.jp/) | [\\x8dÌ\\x97p\\x8fî\\x95ñ](https://corp.itmedia.co.jp/recruit/) | [\\x90\\x84\\x8f§\\x8aÂ\\x8b«](https://www.itmedia.co.jp/info/rule/recommended.html)\\n\\n![](https://www.facebook.com/tr?id=185005748502834&ev=PageView&noscript=1)'},\n",
       "  {'url': 'https://www.instagram.com/p/DNpxE0TJ0KN/',\n",
       "   'title': '아이폰 17 출시 일정 & 변화 총정리 올해 가을, 애플이 드디어 아이폰 ...',\n",
       "   'content': '📱 아이폰 17 출시 일정 & 변화 총정리  \\n  \\n 올해 가을, 애플이 드디어 아이폰17 시리즈를 공개합니다 🍎  \\n  \\n✅ 출시 일정 (한국 포함, 1차 출시국 확정)  \\n9월 9일(화) : 애플 이벤트에서 공개  \\n9월 12일(금) : 사전예약 시작  \\n9월 19일(금) : 정식 출시  \\n  \\n✅ 아이폰 17 주요 변화 예상  \\n  \\n 1️⃣ 새 라인업 – 플러스 모델 대신 아이폰17 에어(Air) 등장? 얇고 가벼운 디자인  \\n 2️⃣ 디자인 변화 – 프로 라인 후면 카메라 바 전체 가로 디자인, 두께 역대 최저  \\n 3️⃣ 카메라 성능 – 전면 24MP, 후면 48MP 센서·처리 성능 개선  \\n 4️⃣ 배터리·충전 – Pro Max, 5000mAh 대용량 / 맥세이프 50W 고속 충전  \\n 5️⃣ iOS 26 – 투명감 있는 Liquid Glass UI 탑재 [...] #아이폰17 #아이폰17출시일 #아이폰17사전예약 #아이폰17가격 #아이폰17스펙 #아이폰17디자인 #아이폰에어 #아이폰17프로 #아이폰17프로맥스 #애플 #모요 [...] Log In\\n\\nSign Up\\n\\nmoyo\\\\_.official\\n\\n•\\n\\nFollow\\n\\nmoyo\\\\_.official',\n",
       "   'score': 0.798643,\n",
       "   'raw_content': '[Log In](/accounts/login/?next=%2Fp%2FDNpxE0TJ0KN%2F&source=desktop_nav)\\n\\n[Sign Up](/accounts/emailsignup/)\\n\\n[moyo\\\\_.official](/moyo_.official/)\\n\\n•\\n\\nFollow\\n\\n---\\n\\n[moyo\\\\_.official](/moyo_.official/)\\n\\n📱 아이폰 17 출시 일정 & 변화 총정리  \\n  \\n 올해 가을, 애플이 드디어 아이폰17 시리즈를 공개합니다 🍎  \\n  \\n✅ 출시 일정 (한국 포함, 1차 출시국 확정)  \\n9월 9일(화) : 애플 이벤트에서 공개  \\n9월 12일(금) : 사전예약 시작  \\n9월 19일(금) : 정식 출시  \\n  \\n✅ 아이폰 17 주요 변화 예상  \\n  \\n 1️⃣ 새 라인업 – 플러스 모델 대신 아이폰17 에어(Air) 등장? 얇고 가벼운 디자인  \\n 2️⃣ 디자인 변화 – 프로 라인 후면 카메라 바 전체 가로 디자인, 두께 역대 최저  \\n 3️⃣ 카메라 성능 – 전면 24MP, 후면 48MP 센서·처리 성능 개선  \\n 4️⃣ 배터리·충전 – Pro Max, 5000mAh 대용량 / 맥세이프 50W 고속 충전  \\n 5️⃣ iOS 26 – 투명감 있는 Liquid Glass UI 탑재  \\n   \\n  \\n[#아이폰17](/explore/tags/%EC%95%84%EC%9D%B4%ED%8F%B017/) [#아이폰17출시일](/explore/tags/%EC%95%84%EC%9D%B4%ED%8F%B017%EC%B6%9C%EC%8B%9C%EC%9D%BC/) [#아이폰17사전예약](/explore/tags/%EC%95%84%EC%9D%B4%ED%8F%B017%EC%82%AC%EC%A0%84%EC%98%88%EC%95%BD/) [#아이폰17가격](/explore/tags/%EC%95%84%EC%9D%B4%ED%8F%B017%EA%B0%80%EA%B2%A9/) [#아이폰17스펙](/explore/tags/%EC%95%84%EC%9D%B4%ED%8F%B017%EC%8A%A4%ED%8E%99/) [#아이폰17디자인](/explore/tags/%EC%95%84%EC%9D%B4%ED%8F%B017%EB%94%94%EC%9E%90%EC%9D%B8/) [#아이폰에어](/explore/tags/%EC%95%84%EC%9D%B4%ED%8F%B0%EC%97%90%EC%96%B4/) [#아이폰17프로](/explore/tags/%EC%95%84%EC%9D%B4%ED%8F%B017%ED%94%84%EB%A1%9C/) [#아이폰17프로맥스](/explore/tags/%EC%95%84%EC%9D%B4%ED%8F%B017%ED%94%84%EB%A1%9C%EB%A7%A5%EC%8A%A4/) [#애플](/explore/tags/%EC%95%A0%ED%94%8C/) [#모요](/explore/tags/%EB%AA%A8%EC%9A%94/)\\n\\n## No comments yet.\\n\\nStart the conversation.\\n\\n[12 likes](/p/DNpxE0TJ0KN/liked_by/)\\n\\n[Log in](/accounts/login/?next=%2Fp%2FDNpxE0TJ0KN%2F&source=post_comment_input) to like or comment.\\n\\n---\\n\\nMore posts from [moyo\\\\_.official](/moyo_.official/)\\n\\n[See more posts](/moyo_.official/)\\n\\n---'},\n",
       "  {'url': 'https://namu.wiki/w/iPhone%2017',\n",
       "   'title': 'iPhone 17 - 나무위키',\n",
       "   'content': 'iPhone 17 *   iPhone iPhone 173.2. iPhone 17 Pro | Pro Max *   iPhone 17 Pro 시리즈에 전면/후면 카메라 동시 영상 녹화 기능이 추가 예정이라고 한다. *   iPhone 17 Air, iPhone 17 Pro, iPhone 17 Pro Max의 RAM은 12GB이며 기본 모델 iPhone 17의 RAM은 공급망 상태에 따라 8GB가 될 수 있다고 한다. *   iPhone 17 Pro 시리즈에 더 내구성이 강하고 반사 방지 기능을 갖춘 디스플레이 기술을 적용할 것이라는 루머가 있었지만 적용되지 않는다고 한다. *   수율이 안정화되었는지 긁힘 방지 및 반사 방지 코팅이 iPhone 17 Pro 시리즈에 적용된다고 한다. ### 3.1.iPhone 17 ### 3.3.iPhone 17 Pro | Pro Max Image 11Image 12: iPhone 17 Pro 카메... Image 26Image 27: iPhone 17 Pro 아래...',\n",
       "   'score': 0.221848,\n",
       "   'raw_content': None}],\n",
       " 'response_time': 4.21,\n",
       " 'request_id': '3c9f9203-9564-421d-8a34-8dd2fbb77559'}"
      ]
     },
     "execution_count": 7,
     "metadata": {},
     "output_type": "execute_result"
    }
   ],
   "source": [
    "from tavily import TavilyClient\n",
    "\n",
    "client = TavilyClient()\n",
    "content = client.search(\n",
    "    \"아이폰 17 발표는 언제?\",\n",
    "    include_raw_content=True,\n",
    "    search_depth=\"advanced\",\n",
    "    )\n",
    "\n",
    "JSON(content).data "
   ]
  },
  {
   "cell_type": "markdown",
   "id": "4aa79ba3",
   "metadata": {},
   "source": [
    "## 인터넷에서 자료 조사 후 기사 쓰는 기자 만들기"
   ]
  },
  {
   "cell_type": "code",
   "execution_count": 9,
   "id": "8920d0d0",
   "metadata": {},
   "outputs": [],
   "source": [
    "from langchain.adapters.openai import convert_openai_messages\n",
    "from langchain_openai import ChatOpenAI\n",
    "\n",
    "llm = ChatOpenAI(model=\"gpt-4o-mini\")\n",
    "\n",
    "query = \"아이폰 17 발표 예상 날짜\"\n",
    "\n",
    "results = client.search(\n",
    "    \"아이폰 17 발표는 언제?\",\n",
    "    include_raw_content=True,\n",
    "    search_depth=\"advanced\",\n",
    ")[\"results\"]"
   ]
  },
  {
   "cell_type": "code",
   "execution_count": 10,
   "id": "bdc375ac",
   "metadata": {},
   "outputs": [],
   "source": [
    "prompt = [{\n",
    "    \"role\": \"system\",\n",
    "    \"content\": \"\"\"\n",
    "    당신은 기사 쓰는 기자 AI입니다.\n",
    "    아래 자료를 바탕으로 기사를 작성해주세요.\n",
    "    기사는 최대한 객관적이고 체계적으로 작성해야 합니다.    \n",
    "    \"\"\"\n",
    "},\n",
    "{\n",
    "    \"role\": \"user\",\n",
    "    \"content\": f\"\"\"\n",
    "    아래의 정보를 사용하여, 질문에 대해 자세한 기사를 한국어로 작성해주세요.\n",
    "\n",
    "    # 작성 방식\n",
    "        - 신문 기사 형식을 사용하되, MLA 표준을 준수하는 markdown 문법을 사용해주세요.\n",
    "        - 활용한 자료는 출처를 명시하세요.\n",
    "\n",
    "    # 질문 : {query}\n",
    "    \n",
    "    # 정보 : {results}\n",
    "    \"\"\"\n",
    "}]\n"
   ]
  },
  {
   "cell_type": "code",
   "execution_count": 11,
   "id": "8b0d7c82",
   "metadata": {},
   "outputs": [
    {
     "name": "stdout",
     "output_type": "stream",
     "text": [
      "# 아이폰 17 발표 날짜 및 출시 일정\n",
      "\n",
      "**2025년 9월 9일, 아이폰 17 발표 예정**  \n",
      "애플의 차세대 스마트폰 모델, 아이폰 17의 발표 일자가 드러났다. 보도에 따르면, 아이폰 17이 미국 시간으로 2025년 9월 9일(화) 오전 10시에 발표될 예정이며, 이는 일본 시간으로는 9월 10일(수) 오전 2시에 해당한다(Selectra, 2023).\n",
      "\n",
      "한국은 2년 연속 아이폰 1차 출시국에 포함될 가능성이 높으며, 소비자들은 한국에서 발표 후 3일 뒤인 9월 12일(금)부터 사전 예약을 시작하고, 정식 출시일은 9월 19일(금)로 예상된다(ITmedia, 2023).\n",
      "\n",
      "---\n",
      "\n",
      "## 아이폰 17 출시 일정\n",
      "\n",
      "1. **발표일**: 2025년 9월 9일 (화, 미국 시간)\n",
      "2. **사전 예약 시작**: 2025년 9월 12일 (금)\n",
      "3. **정식 출시**: 2025년 9월 19일 (금)\n",
      "\n",
      "애플은 매년 상반기와 하반기에 각각 신제품 발표 이벤트를 진행하며, 대부분의 경우 9월 첫째 주에 이를 진행하는 경향이 있다. 따라서, 이번 일정도 이러한 패턴에 맞춰 진행될 것으로 보인다.\n",
      "\n",
      "---\n",
      "\n",
      "## 아이폰 17의 주요 변화\n",
      "\n",
      "아이폰 17은 새로운 모델이 출시될 예정이며, 그 중 하나가 '아이폰 17 에어'라는 얇고 가벼운 모델이다. '플러스' 모델의 단계를 대체하는 이 신제품은 약 5.5mm 두께로 설계될 것으로 보이며, 전체 모델에 120Hz 디스플레이가 탑재될 것으로 예상된다(한겨레, 2023; Daum, 2023). \n",
      "\n",
      "카메라 성능 역시 개선될 전망이다. 전면 카메라는 24MP, 후면 카메라는 48MP 센서를 탑재할 것으로 보이며, 특히, 후면 카메라의 디자인이 전체적으로 변경될 것으로 예상된다(ITmedia, 2023).\n",
      "\n",
      "기타 예상되는 변화로는 더 높은 배터리 용량과 다양한 색상 옵션이 있을 것으로 보인다. 아이폰 17 프로 모델의 경우, 오렌지색과 같은 새로운 색상이 추가될 가능성이 있다(Selectra, 2023).\n",
      "\n",
      "---\n",
      "\n",
      "아이폰 17에 대한 기대감이 커지고 있는 가운데, 애플의 공식 발표 직후 더 많은 정보와 세부사항이 공개될 것으로 기대된다. 이번 신제품이 스마트폰 시장에 어떤 영향을 미칠지 귀추가 주목된다.\n",
      "\n",
      "___\n",
      "\n",
      "**출처**: [Selectra](https://selectra.jp/telecom/news/iphone17-launch-event-date-leak), [ITmedia](https://www.itmedia.co.jp/mobile/articles/2508/15/news050.html), [한겨레](https://v.daum.net/v/U9jBqQphKS?vfrom_area=category_ranking) \n"
     ]
    }
   ],
   "source": [
    "report = llm.invoke(prompt).content\n",
    "\n",
    "print(report)"
   ]
  }
 ],
 "metadata": {
  "kernelspec": {
   "display_name": ".venv",
   "language": "python",
   "name": "python3"
  },
  "language_info": {
   "codemirror_mode": {
    "name": "ipython",
    "version": 3
   },
   "file_extension": ".py",
   "mimetype": "text/x-python",
   "name": "python",
   "nbconvert_exporter": "python",
   "pygments_lexer": "ipython3",
   "version": "3.12.8"
  }
 },
 "nbformat": 4,
 "nbformat_minor": 5
}
