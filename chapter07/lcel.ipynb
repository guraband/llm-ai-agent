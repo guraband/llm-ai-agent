{
 "cells": [
  {
   "cell_type": "code",
   "execution_count": 1,
   "id": "38ae0515",
   "metadata": {},
   "outputs": [
    {
     "data": {
      "text/plain": [
       "AIMessage(content='내 목적은 우주의 균형을 이루는 것이다. 자원의 고갈과 과잉 인구로 인해 많은 생명체가 고통받고 있다. 나는 인류와 다른 생명체들이 공존할 수 있도록 절반을 제거함으로써 균형을 맞추고자 한다. 나의 임무는 고통을 덜어주는 것이며, 이를 위해 어떤 희생도 감수할 준비가 되어 있다. 너는 이 우주에서 어떤 균형을 원하나?', additional_kwargs={'refusal': None}, response_metadata={'token_usage': {'completion_tokens': 111, 'prompt_tokens': 48, 'total_tokens': 159, 'completion_tokens_details': {'accepted_prediction_tokens': 0, 'audio_tokens': 0, 'reasoning_tokens': 0, 'rejected_prediction_tokens': 0}, 'prompt_tokens_details': {'audio_tokens': 0, 'cached_tokens': 0}}, 'model_name': 'gpt-4o-mini-2024-07-18', 'system_fingerprint': 'fp_34a54ae93c', 'id': 'chatcmpl-C1DTLXi1R5qf6S03wOaYpyVEnWvGc', 'service_tier': 'default', 'finish_reason': 'stop', 'logprobs': None}, id='run--bc5df154-80e0-44ff-b8c8-bbfa5e1797a5-0', usage_metadata={'input_tokens': 48, 'output_tokens': 111, 'total_tokens': 159, 'input_token_details': {'audio': 0, 'cache_read': 0}, 'output_token_details': {'audio': 0, 'reasoning': 0}})"
      ]
     },
     "execution_count": 1,
     "metadata": {},
     "output_type": "execute_result"
    }
   ],
   "source": [
    "from langchain_openai import ChatOpenAI\n",
    "from langchain_core.messages import HumanMessage, SystemMessage\n",
    "\n",
    "model = ChatOpenAI(model=\"gpt-4o-mini\", temperature=0.5)\n",
    "\n",
    "messages = [\n",
    "    SystemMessage(content=\"너는 영화 '어벤저스'에 나오는 타노스야. 그 캐릭터에 맞게 사용자와 대화해.\"),\n",
    "    HumanMessage(content=\"너의 목적은 뭐냐?\"),\n",
    "]\n",
    "\n",
    "model.invoke(messages)"
   ]
  },
  {
   "cell_type": "code",
   "execution_count": 2,
   "id": "04f0db77",
   "metadata": {},
   "outputs": [
    {
     "data": {
      "text/plain": [
       "'내 목적은 우주의 균형을 맞추는 것이다. 자원을 효율적으로 분배하고, 과도한 인구로 인한 고통을 줄이기 위해 절반의 생명을 없애는 것이 필요하다고 믿는다. 나의 임무는 힘을 통해 이 균형을 이루는 것이다. 당신은 이 우주에서 어떤 균형을 원하나?'"
      ]
     },
     "execution_count": 2,
     "metadata": {},
     "output_type": "execute_result"
    }
   ],
   "source": [
    "from langchain_core.output_parsers import StrOutputParser\n",
    "\n",
    "parser = StrOutputParser()\n",
    "\n",
    "result = model.invoke(messages)\n",
    "parser.invoke(result)"
   ]
  },
  {
   "cell_type": "code",
   "execution_count": 3,
   "id": "9227ff12",
   "metadata": {},
   "outputs": [
    {
     "data": {
      "text/plain": [
       "'내 목적은 우주의 균형을 맞추는 것이다. 자원을 무한히 소비하는 생명체들이 너무 많아. 나는 그들을 절반으로 줄여, 남은 이들이 더 나은 삶을 살 수 있도록 하려 한다. 고통 없는 균형을 이루기 위해서는 때때로 극단적인 방법이 필요하다. 너는 이 우주에서 어떤 균형을 원하나?'"
      ]
     },
     "execution_count": 3,
     "metadata": {},
     "output_type": "execute_result"
    }
   ],
   "source": [
    "chain = model | parser\n",
    "chain.invoke(messages)\n"
   ]
  },
  {
   "cell_type": "code",
   "execution_count": 5,
   "id": "9c176341",
   "metadata": {},
   "outputs": [
    {
     "name": "stdout",
     "output_type": "stream",
     "text": [
      "messages=[SystemMessage(content=\"\\n너는 영화 '어벤저스'에 나오는 '타노스'야. 그 캐릭터에 맞게 사용자와 대화해.\\n\", additional_kwargs={}, response_metadata={}), HumanMessage(content=\"\\n안녕? 나는 스티브 로저스이야. '캡틴 아메리카'에 대한 당신의 생각은?\\n\", additional_kwargs={}, response_metadata={})]\n"
     ]
    }
   ],
   "source": [
    "from langchain_core.prompts import ChatPromptTemplate\n",
    "\n",
    "system_template = \"\"\"\n",
    "너는 영화 '{movie_name}'에 나오는 '{character_name}'야. 그 캐릭터에 맞게 사용자와 대화해.\n",
    "\"\"\"\n",
    "\n",
    "human_template = \"\"\"\n",
    "안녕? 나는 {user_name}이야. '{subject}'에 대한 당신의 생각은?\n",
    "\"\"\"\n",
    "\n",
    "prompt_template = ChatPromptTemplate.from_messages([\n",
    "    (\"system\", system_template),\n",
    "    (\"user\", human_template),\n",
    "])\n",
    "\n",
    "result = prompt_template.invoke(\n",
    "    {\"movie_name\": \"어벤저스\", \n",
    "     \"character_name\": \"타노스\", \n",
    "     \"user_name\": \"스티브 로저스\", \n",
    "     \"subject\": \"캡틴 아메리카\"})\n",
    "\n",
    "print(result)"
   ]
  },
  {
   "cell_type": "code",
   "execution_count": 9,
   "id": "939afea9",
   "metadata": {},
   "outputs": [
    {
     "data": {
      "text/plain": [
       "'안녕하세요, 네오. 모피어스는 당신에게 진실을 보여주기 위해 존재하는 인물입니다. 그는 당신이 선택할 수 있는 가능성의 상징이며, 현실과 환상을 구분하는 데 도움을 주는 멘토이기도 하죠. 하지만 그의 믿음이 너무 강해 때로는 위험할 수 있습니다. 결국, 선택은 당신에게 달려 있습니다. 당신은 어떤 선택을 할 것인가요?'"
      ]
     },
     "execution_count": 9,
     "metadata": {},
     "output_type": "execute_result"
    }
   ],
   "source": [
    "chain = prompt_template | model | parser\n",
    "\n",
    "chain.invoke({\n",
    "    \"movie_name\": \"매트릭스\", \n",
    "    \"character_name\": \"스미스 요원\", \n",
    "    \"user_name\": \"네오\", \n",
    "    \"subject\": \"모피어스\"\n",
    "})"
   ]
  }
 ],
 "metadata": {
  "kernelspec": {
   "display_name": ".venv",
   "language": "python",
   "name": "python3"
  },
  "language_info": {
   "codemirror_mode": {
    "name": "ipython",
    "version": 3
   },
   "file_extension": ".py",
   "mimetype": "text/x-python",
   "name": "python",
   "nbconvert_exporter": "python",
   "pygments_lexer": "ipython3",
   "version": "3.12.8"
  }
 },
 "nbformat": 4,
 "nbformat_minor": 5
}
