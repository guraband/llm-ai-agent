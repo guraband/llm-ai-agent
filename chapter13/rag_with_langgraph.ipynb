{
 "cells": [
  {
   "cell_type": "code",
   "execution_count": 5,
   "id": "7fc954df",
   "metadata": {},
   "outputs": [
    {
     "name": "stdout",
     "output_type": "stream",
     "text": [
      "./data/2040_seoul_plan.pdf\n",
      "./data/OneNYC_2050_Strategic_Plan.pdf\n"
     ]
    }
   ],
   "source": [
    "from glob import glob\n",
    "\n",
    "for g in glob(\"./data/*.pdf\"):\n",
    "    print(g)\n",
    "    "
   ]
  },
  {
   "cell_type": "code",
   "execution_count": 6,
   "id": "36ef8231",
   "metadata": {},
   "outputs": [],
   "source": [
    "from langchain_community.document_loaders import PyPDFLoader\n",
    "from langchain_text_splitters import RecursiveCharacterTextSplitter\n",
    "\n",
    "\n",
    "def read_pdf_and_split_text(pdf_path, chunk_size=1000, chunk_overlap=100):\n",
    "    \"\"\"\n",
    "    pdf 파일을 읽어서 텍스트로 변환하고, 텍스트를 잘게 쪼개서 리스트로 반환합니다.\n",
    "\n",
    "    매개변수:\n",
    "        pdf_path: str\n",
    "            텍스트로 변환할 pdf 파일의 경로\n",
    "        chunk_size: int\n",
    "            쪼갤 텍스트의 최대 길이\n",
    "        chunk_overlap: int\n",
    "            쪼개진 텍스트 조각 간의 겹치는 길이\n",
    "    \"\"\"\n",
    "\n",
    "    print(f\"PDF : {pdf_path} ---------------\")\n",
    "\n",
    "    pdf_loader = PyPDFLoader(pdf_path)\n",
    "    data_from_pdf = pdf_loader.load()\n",
    "\n",
    "    text_splitter = RecursiveCharacterTextSplitter(\n",
    "        chunk_size=chunk_size, chunk_overlap=chunk_overlap\n",
    "    )\n",
    "\n",
    "    splits = text_splitter.split_documents(data_from_pdf)\n",
    "\n",
    "    print(f\"Number of splits: {len(splits)}\\n\")\n",
    "\n",
    "    return splits"
   ]
  },
  {
   "cell_type": "code",
   "execution_count": 9,
   "id": "7a4a3bc9",
   "metadata": {},
   "outputs": [
    {
     "name": "stdout",
     "output_type": "stream",
     "text": [
      "Loading existing Chroma store\n"
     ]
    }
   ],
   "source": [
    "from langchain_openai import OpenAIEmbeddings\n",
    "from langchain_chroma import Chroma\n",
    "from dotenv import load_dotenv\n",
    "import os\n",
    "load_dotenv()\n",
    "\n",
    "OPENAI_API_KEY = os.getenv(\"OPENAI_API_KEY\")\n",
    "embedding = OpenAIEmbeddings(\n",
    "    model=\"text-embedding-3-small\",\n",
    "    api_key=OPENAI_API_KEY,\n",
    ")\n",
    "\n",
    "persist_directory = \"../chroma_store\"\n",
    "\n",
    "if os.path.exists(persist_directory):\n",
    "    print(\"Loading existing Chroma store\")\n",
    "    vectorstore = Chroma(\n",
    "        persist_directory=persist_directory,\n",
    "        embedding_function=embedding,\n",
    "    )\n",
    "else:\n",
    "    print(\"Creating new Chroma store\")\n",
    "    vectorstore = None\n",
    "\n",
    "    for g in glob(\"./data/*.pdf\"):\n",
    "        chunks = read_pdf_and_split_text(g)\n",
    "\n",
    "        # 100개씩 나눠서 저장\n",
    "        for i in range(0, len(chunks), 100):\n",
    "            if vectorstore is None:\n",
    "                vectorstore = Chroma.from_documents(\n",
    "                    documents=chunks[i:i+100],\n",
    "                    embedding=embedding,\n",
    "                    persist_directory=persist_directory,\n",
    "                )\n",
    "            else:\n",
    "                vectorstore.add_documents(\n",
    "                    documents=chunks[i:i+100],\n",
    "                )\n",
    "\n"
   ]
  },
  {
   "cell_type": "code",
   "execution_count": 10,
   "id": "6d1f2d25",
   "metadata": {},
   "outputs": [
    {
     "name": "stdout",
     "output_type": "stream",
     "text": [
      "{'page': 45, 'total_pages': 205, 'creationdate': '2024-12-12T18:16:11+09:00', 'producer': 'Hancom PDF 1.3.0.542', 'source': './data/2040_seoul_plan.pdf', 'moddate': '2024-12-12T18:16:11+09:00', 'page_label': '46', 'author': 'SI', 'creator': 'Hwp 2020 11.0.0.5178', 'pdfversion': '1.4'}\n",
      "기후변화에 대응하기 위한 온실가스 적극 감축 및 녹색 인프라 확충 등을 강조하고 있다.Ÿ2040 서울도시기본계획의 부문별 전략계획과 공간계획에서는 서울의 글로벌 경쟁력 강화, 광역화에 따른 수도권 내 교통, 산업 등 네트워크 연계 강화, 기후위기에 대응하기 위한 지속가능한 서울로의 전환 등 수도권정비기본계획의 주요 내용을 적극적으로 반영하여 수립하였다.\n",
      "{'author': 'SI', 'producer': 'Hancom PDF 1.3.0.542', 'moddate': '2024-12-12T18:16:11+09:00', 'source': './data/2040_seoul_plan.pdf', 'page_label': '64', 'total_pages': 205, 'pdfversion': '1.4', 'creator': 'Hwp 2020 11.0.0.5178', 'creationdate': '2024-12-12T18:16:11+09:00', 'page': 63}\n",
      "56제2장 미래상과 목표\n",
      "6. 미래위기를 준비하는, ‘탄소중립 안전도시 구축’1) 배경전(全) 지구적인 기후변화에 대응하기 위한 대도시 차원의 대응 필요Ÿ서울시 2017년 온실가스 배출량은 46,685천 톤CO2eq로 2005년 배출량에 비해 5.6%(276만 톤CO2eq) 감소하였으며, 서울의 1인당 온실가스 배출량은 4.7CO2eq로 국가의 13.8톤CO2eq에 비해 낮은 수준이다. 또한 2014년 기준 서울의 1인당 온실가스 배출량은 4.5CO2eq로 세계 주요 도시에 비해 낮은 수준을 보인다.7)\n",
      "[그림 2-26] 세계 주요 도시 1인당 온실가스 배출량   자료: World Bank, 2014Ÿ그럼에도 불구하고, 기후변화 문제는 21세기에 전 지구적으로 가장 위중한 영향을 미칠 것으로 예상되는바, 탄소중립과 기후위기 대응은 국제·국가·도시의 핵심 정책으로 다루어져야 한다.Ÿ파리협정(2015) 이후, 우리나라를 비롯한 미국, 유럽연합 등 세계 136개국이 탄소중립을 선언하였으며, 서울시를 비롯한 뉴욕, 런던 등과 같은 많은 글로벌 도시에서 탄소중립을 시정의 핵심과제로 추진 중이다.Ÿ우리나라는 2020년 ‘한국판 그린뉴딜’을 발표하며 공식적으로 2050 탄소중립을 선언하였으며 서울시 역시 2020년 ‘그린뉴딜 추진을 통한 2050 온실가스 감축 전략’을 발표하고 탄소중립 선언에 따른 부문별 사업을 적극 추진하고 있다.-서울시는 2050년 탄소중립을 목표로 2030년까지 2005년 배출량 대비 40%, 2040년까지 70% 감축목표를 제시하였고, 2022년 기후변화대응종합계획을 수립하여, 향후 5년간(’22~’26년) 2005년 대비 온실가스 30% 감축목표와 구체적인 실행계획을 수립하였음7) 황인창 외, 2020, 파리협정 이행 위한 서울시 ‘2050 탄소중립’ 전략, 서울연구원, pp.6-9.\n",
      "{'page': 182, 'pdfversion': '1.4', 'author': 'SI', 'producer': 'Hancom PDF 1.3.0.542', 'creationdate': '2024-12-12T18:16:11+09:00', 'total_pages': 205, 'source': './data/2040_seoul_plan.pdf', 'page_label': '183', 'creator': 'Hwp 2020 11.0.0.5178', 'moddate': '2024-12-12T18:16:11+09:00'}\n",
      "제1절 계획체계 조정·보완1. 최상위 공간계획으로서의 위상 재정립Ÿ2040 서울도시기본계획은 「국토의 계획 및 이용에 관한 법률」에 근거한 최상위 공간계획으로서 서울의 장기 발전방향과 기본 공간구조를 제시한다.Ÿ서울의 장기 발전방향에 부합하도록 복지·경제·환경·문화·교육·교통·방재 등 다양한 분야를 포괄하되, 공간계획 위주로 재편하도록 한다.Ÿ도시기본계획의 내용은 다양한 특성을 갖는 대도시 서울의 특성을 반영하여, 개별 부서에서 대응하기 어렵거나 실‧국을 아우르는 주제를 선정하고 공간적 함의를 도출한다.Ÿ이를 통해 2040 서울도시기본계획은 서울시 관련 부서의 시정 운영과 하위계획에 올바른 방향성을 제시하는 공간 지침으로서 역할을 수행할 수 있도록 한다.2. 7대 공간목표 실현을 위한 중간단계 계획으로서의 특정지역계획 수립·재정비12)Ÿ향후 2040 서울도시기본계획에서 제시하는 서울의 미래상을 실현하기 위해서는 3도심과 7광역중심, 그 외 공간구조에 부합하는 주요 전략 거점을 체계적으로 육성 관리할 필요가 있다.Ÿ서울의 주요 거점을 대상으로 수립하는 서울도심 기본계획, 준공업지역 종합발전계획, 한강변 관리 기본계획 등 특정지역계획을 적극적으로 활용하여 서울의 도시 경쟁력을 강화하고, 거점별 효율적인 사업 추진과 정책 실현을 도모하고자 한다.Ÿ이에 특정지역계획은 도시기본계획에서 제시한 거점별 특성에 부합하는 육성 전략을 제시하고, 계획 내용이 도시관리계획에 지침적인 역할을 수행할 수 있도록 그 기능을 강화한다.Ÿ강남 도심과 그 외 광역중심에 대해서도 추가적인 계획 수립을 검토하여 주요 거점에 대한 통합적인 도시관리 틀을 마련한다.3. 생활권계획은 지역맞춤형 계획으로서 성격과 역할 명확화Ÿ생활권계획은 지역과 주민 수요에 대응하는 지역밀착형 계획으로서 성격을 명확히 설정하고, 2040 서울도시기본계획에서 새롭게 제시하는 공간구조인 보행일상권을 실현하기 위한 계획으로 역할을 전환한다.12) 맹다미 외, 2022, 미래 여건변화에 대응하는 도시계획체계 개편방안 연구,\n",
      "{'moddate': '2024-12-12T18:16:11+09:00', 'author': 'SI', 'producer': 'Hancom PDF 1.3.0.542', 'creator': 'Hwp 2020 11.0.0.5178', 'page': 182, 'total_pages': 205, 'source': './data/2040_seoul_plan.pdf', 'pdfversion': '1.4', 'creationdate': '2024-12-12T18:16:11+09:00', 'page_label': '183'}\n",
      "새롭게 제시하는 공간구조인 보행일상권을 실현하기 위한 계획으로 역할을 전환한다.12) 맹다미 외, 2022, 미래 여건변화에 대응하는 도시계획체계 개편방안 연구, 서울연구원\n",
      "{'author': 'SI', 'pdfversion': '1.4', 'page_label': '20', 'source': './data/2040_seoul_plan.pdf', 'moddate': '2024-12-12T18:16:11+09:00', 'page': 19, 'creationdate': '2024-12-12T18:16:11+09:00', 'creator': 'Hwp 2020 11.0.0.5178', 'total_pages': 205, 'producer': 'Hancom PDF 1.3.0.542'}\n",
      "12제1장 개요\n",
      "Ÿ2022년 4월, 새로운 미래상과 공간계획을 바탕으로 2040 서울도시기본계획(안)을 작성하고 실·본부·국 및 자치구 의견 수렴을 실시하여 계획안을 수정·보완하였다.Ÿ2022년 6월, 2040 서울도시기본계획에 대한 공청회를 실시하였고, 시민과 관계 전문가 등의 의견 청취를 통해 피드백을 진행하였다.Ÿ2022년 10월, 2040 서울도시기본계획에 대한 서울시의회의 의견 청취 및 관계기관 협의를 진행하였으며, 동시에 수립지침에 의거하여 국토계획평가를 추진하였다.Ÿ2022년 11월, 서울특별시 도시계획위원회 심의를 추진하였으며, 당일 원안가결을 득하였다.Ÿ2023년 1월, 2040 서울도시기본계획에 대한 보완 의견을 검토·반영하여 최종 확정하였다.\n",
      "연도 주요 추진 과정\n",
      "2019\n"
     ]
    }
   ],
   "source": [
    "retriever = vectorstore.as_retriever(search_kwargs={\"k\": 5})\n",
    "\n",
    "chunks = retriever.invoke(\"서울 온실가스 저감 계획\")\n",
    "\n",
    "for chunk in chunks:\n",
    "    print(chunk.metadata)\n",
    "    print(chunk.page_content)"
   ]
  },
  {
   "cell_type": "code",
   "execution_count": 11,
   "id": "f9ae89fc",
   "metadata": {},
   "outputs": [
    {
     "data": {
      "text/plain": [
       "AIMessage(content='안녕하세요! 어떻게 도와드릴까요?', additional_kwargs={'refusal': None}, response_metadata={'token_usage': {'completion_tokens': 10, 'prompt_tokens': 10, 'total_tokens': 20, 'completion_tokens_details': {'accepted_prediction_tokens': 0, 'audio_tokens': 0, 'reasoning_tokens': 0, 'rejected_prediction_tokens': 0}, 'prompt_tokens_details': {'audio_tokens': 0, 'cached_tokens': 0}}, 'model_name': 'gpt-4o-mini-2024-07-18', 'system_fingerprint': 'fp_8bda4d3a2c', 'id': 'chatcmpl-CCRTCzKs83xWFfnFIkTwF3eRrIzEm', 'service_tier': 'default', 'finish_reason': 'stop', 'logprobs': None}, id='run--ca6ae16e-1d4d-4090-a31f-7ac53f746398-0', usage_metadata={'input_tokens': 10, 'output_tokens': 10, 'total_tokens': 20, 'input_token_details': {'audio': 0, 'cache_read': 0}, 'output_token_details': {'audio': 0, 'reasoning': 0}})"
      ]
     },
     "execution_count": 11,
     "metadata": {},
     "output_type": "execute_result"
    }
   ],
   "source": [
    "from langchain_openai import ChatOpenAI\n",
    "\n",
    "model = ChatOpenAI(\n",
    "    model=\"gpt-4o-mini\",\n",
    "    temperature=0,\n",
    ")\n",
    "model.invoke(\"안녕하세요!\")"
   ]
  }
 ],
 "metadata": {
  "kernelspec": {
   "display_name": ".venv",
   "language": "python",
   "name": "python3"
  },
  "language_info": {
   "codemirror_mode": {
    "name": "ipython",
    "version": 3
   },
   "file_extension": ".py",
   "mimetype": "text/x-python",
   "name": "python",
   "nbconvert_exporter": "python",
   "pygments_lexer": "ipython3",
   "version": "3.12.8"
  }
 },
 "nbformat": 4,
 "nbformat_minor": 5
}
