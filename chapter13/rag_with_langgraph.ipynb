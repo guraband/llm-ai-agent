{
 "cells": [
  {
   "cell_type": "code",
   "execution_count": 6,
   "id": "7fc954df",
   "metadata": {},
   "outputs": [
    {
     "name": "stdout",
     "output_type": "stream",
     "text": [
      "./data/2040_seoul_plan.pdf\n"
     ]
    }
   ],
   "source": [
    "from glob import glob\n",
    "\n",
    "for g in glob(\"./data/*.pdf\"):\n",
    "    print(g)\n",
    "    "
   ]
  },
  {
   "cell_type": "code",
   "execution_count": 7,
   "id": "36ef8231",
   "metadata": {},
   "outputs": [],
   "source": [
    "from langchain_community.document_loaders import PyPDFLoader\n",
    "from langchain_text_splitters import RecursiveCharacterTextSplitter\n",
    "\n",
    "\n",
    "def read_pdf_and_split_text(pdf_path, chunk_size=1000, chunk_overlap=100):\n",
    "    \"\"\"\n",
    "    pdf 파일을 읽어서 텍스트로 변환하고, 텍스트를 잘게 쪼개서 리스트로 반환합니다.\n",
    "\n",
    "    매개변수:\n",
    "        pdf_path: str\n",
    "            텍스트로 변환할 pdf 파일의 경로\n",
    "        chunk_size: int\n",
    "            쪼갤 텍스트의 최대 길이\n",
    "        chunk_overlap: int\n",
    "            쪼개진 텍스트 조각 간의 겹치는 길이\n",
    "    \"\"\"\n",
    "\n",
    "    print(f\"PDF : {pdf_path} ---------------\")\n",
    "\n",
    "    pdf_loader = PyPDFLoader(pdf_path)\n",
    "    data_from_pdf = pdf_loader.load()\n",
    "\n",
    "    text_splitter = RecursiveCharacterTextSplitter(\n",
    "        chunk_size=chunk_size, chunk_overlap=chunk_overlap\n",
    "    )\n",
    "\n",
    "    splits = text_splitter.split_documents(data_from_pdf)\n",
    "\n",
    "    print(f\"Number of splits: {len(splits)}\\n\")\n",
    "\n",
    "    return splits"
   ]
  },
  {
   "cell_type": "code",
   "execution_count": null,
   "id": "7a4a3bc9",
   "metadata": {},
   "outputs": [
    {
     "name": "stdout",
     "output_type": "stream",
     "text": [
      "Creating new Chroma store\n",
      "PDF : ./data/2040_seoul_plan.pdf ---------------\n",
      "Number of splits: 308\n",
      "\n"
     ]
    }
   ],
   "source": [
    "from langchain_openai import OpenAIEmbeddings\n",
    "from langchain_chroma import Chroma\n",
    "from dotenv import load_dotenv\n",
    "import os\n",
    "load_dotenv()\n",
    "\n",
    "OPENAI_API_KEY = os.getenv(\"OPENAI_API_KEY\")\n",
    "embedding = OpenAIEmbeddings(\n",
    "    model=\"text-embedding-3-small\",\n",
    "    api_key=OPENAI_API_KEY,\n",
    ")\n",
    "\n",
    "# 절대 경로 사용\n",
    "persist_directory = \"../chroma_store\"\n",
    "\n",
    "if os.path.exists(persist_directory):\n",
    "    print(\"Loading existing Chroma store\")\n",
    "    vectorstore = Chroma(\n",
    "        persist_directory=persist_directory,\n",
    "        embedding_function=embedding,\n",
    "    )\n",
    "else:\n",
    "    print(\"Creating new Chroma store\")\n",
    "    vectorstore = None\n",
    "\n",
    "    for g in glob(\"./data/*.pdf\"):\n",
    "        chunks = read_pdf_and_split_text(g)\n",
    "\n",
    "        # 100개씩 나눠서 저장\n",
    "        for i in range(0, len(chunks), 100):\n",
    "            if vectorstore is None:\n",
    "                vectorstore = Chroma.from_documents(\n",
    "                    documents=chunks[i:i+100],\n",
    "                    embedding=embedding,\n",
    "                    persist_directory=persist_directory,\n",
    "                )\n",
    "            else:\n",
    "                vectorstore.add_documents(\n",
    "                    documents=chunks[i:i+100],\n",
    "                )\n",
    "\n"
   ]
  },
  {
   "cell_type": "code",
   "execution_count": 20,
   "id": "6d1f2d25",
   "metadata": {},
   "outputs": [
    {
     "name": "stdout",
     "output_type": "stream",
     "text": [
      "{'page_label': '46', 'creationdate': '2024-12-12T18:16:11+09:00', 'moddate': '2024-12-12T18:16:11+09:00', 'source': './data/2040_seoul_plan.pdf', 'page': 45, 'total_pages': 205, 'creator': 'Hwp 2020 11.0.0.5178', 'pdfversion': '1.4', 'producer': 'Hancom PDF 1.3.0.542', 'author': 'SI'}\n",
      "기후변화에 대응하기 위한 온실가스 적극 감축 및 녹색 인프라 확충 등을 강조하고 있다.Ÿ2040 서울도시기본계획의 부문별 전략계획과 공간계획에서는 서울의 글로벌 경쟁력 강화, 광역화에 따른 수도권 내 교통, 산업 등 네트워크 연계 강화, 기후위기에 대응하기 위한 지속가능한 서울로의 전환 등 수도권정비기본계획의 주요 내용을 적극적으로 반영하여 수립하였다.\n",
      "{'pdfversion': '1.4', 'creator': 'Hwp 2020 11.0.0.5178', 'producer': 'Hancom PDF 1.3.0.542', 'page': 63, 'total_pages': 205, 'source': './data/2040_seoul_plan.pdf', 'moddate': '2024-12-12T18:16:11+09:00', 'page_label': '64', 'creationdate': '2024-12-12T18:16:11+09:00', 'author': 'SI'}\n",
      "56제2장 미래상과 목표\n",
      "6. 미래위기를 준비하는, ‘탄소중립 안전도시 구축’1) 배경전(全) 지구적인 기후변화에 대응하기 위한 대도시 차원의 대응 필요Ÿ서울시 2017년 온실가스 배출량은 46,685천 톤CO2eq로 2005년 배출량에 비해 5.6%(276만 톤CO2eq) 감소하였으며, 서울의 1인당 온실가스 배출량은 4.7CO2eq로 국가의 13.8톤CO2eq에 비해 낮은 수준이다. 또한 2014년 기준 서울의 1인당 온실가스 배출량은 4.5CO2eq로 세계 주요 도시에 비해 낮은 수준을 보인다.7)\n",
      "[그림 2-26] 세계 주요 도시 1인당 온실가스 배출량   자료: World Bank, 2014Ÿ그럼에도 불구하고, 기후변화 문제는 21세기에 전 지구적으로 가장 위중한 영향을 미칠 것으로 예상되는바, 탄소중립과 기후위기 대응은 국제·국가·도시의 핵심 정책으로 다루어져야 한다.Ÿ파리협정(2015) 이후, 우리나라를 비롯한 미국, 유럽연합 등 세계 136개국이 탄소중립을 선언하였으며, 서울시를 비롯한 뉴욕, 런던 등과 같은 많은 글로벌 도시에서 탄소중립을 시정의 핵심과제로 추진 중이다.Ÿ우리나라는 2020년 ‘한국판 그린뉴딜’을 발표하며 공식적으로 2050 탄소중립을 선언하였으며 서울시 역시 2020년 ‘그린뉴딜 추진을 통한 2050 온실가스 감축 전략’을 발표하고 탄소중립 선언에 따른 부문별 사업을 적극 추진하고 있다.-서울시는 2050년 탄소중립을 목표로 2030년까지 2005년 배출량 대비 40%, 2040년까지 70% 감축목표를 제시하였고, 2022년 기후변화대응종합계획을 수립하여, 향후 5년간(’22~’26년) 2005년 대비 온실가스 30% 감축목표와 구체적인 실행계획을 수립하였음7) 황인창 외, 2020, 파리협정 이행 위한 서울시 ‘2050 탄소중립’ 전략, 서울연구원, pp.6-9.\n",
      "{'moddate': '2024-12-12T18:16:11+09:00', 'creator': 'Hwp 2020 11.0.0.5178', 'author': 'SI', 'total_pages': 205, 'creationdate': '2024-12-12T18:16:11+09:00', 'pdfversion': '1.4', 'page_label': '183', 'source': './data/2040_seoul_plan.pdf', 'producer': 'Hancom PDF 1.3.0.542', 'page': 182}\n",
      "제1절 계획체계 조정·보완1. 최상위 공간계획으로서의 위상 재정립Ÿ2040 서울도시기본계획은 「국토의 계획 및 이용에 관한 법률」에 근거한 최상위 공간계획으로서 서울의 장기 발전방향과 기본 공간구조를 제시한다.Ÿ서울의 장기 발전방향에 부합하도록 복지·경제·환경·문화·교육·교통·방재 등 다양한 분야를 포괄하되, 공간계획 위주로 재편하도록 한다.Ÿ도시기본계획의 내용은 다양한 특성을 갖는 대도시 서울의 특성을 반영하여, 개별 부서에서 대응하기 어렵거나 실‧국을 아우르는 주제를 선정하고 공간적 함의를 도출한다.Ÿ이를 통해 2040 서울도시기본계획은 서울시 관련 부서의 시정 운영과 하위계획에 올바른 방향성을 제시하는 공간 지침으로서 역할을 수행할 수 있도록 한다.2. 7대 공간목표 실현을 위한 중간단계 계획으로서의 특정지역계획 수립·재정비12)Ÿ향후 2040 서울도시기본계획에서 제시하는 서울의 미래상을 실현하기 위해서는 3도심과 7광역중심, 그 외 공간구조에 부합하는 주요 전략 거점을 체계적으로 육성 관리할 필요가 있다.Ÿ서울의 주요 거점을 대상으로 수립하는 서울도심 기본계획, 준공업지역 종합발전계획, 한강변 관리 기본계획 등 특정지역계획을 적극적으로 활용하여 서울의 도시 경쟁력을 강화하고, 거점별 효율적인 사업 추진과 정책 실현을 도모하고자 한다.Ÿ이에 특정지역계획은 도시기본계획에서 제시한 거점별 특성에 부합하는 육성 전략을 제시하고, 계획 내용이 도시관리계획에 지침적인 역할을 수행할 수 있도록 그 기능을 강화한다.Ÿ강남 도심과 그 외 광역중심에 대해서도 추가적인 계획 수립을 검토하여 주요 거점에 대한 통합적인 도시관리 틀을 마련한다.3. 생활권계획은 지역맞춤형 계획으로서 성격과 역할 명확화Ÿ생활권계획은 지역과 주민 수요에 대응하는 지역밀착형 계획으로서 성격을 명확히 설정하고, 2040 서울도시기본계획에서 새롭게 제시하는 공간구조인 보행일상권을 실현하기 위한 계획으로 역할을 전환한다.12) 맹다미 외, 2022, 미래 여건변화에 대응하는 도시계획체계 개편방안 연구,\n",
      "{'page': 182, 'moddate': '2024-12-12T18:16:11+09:00', 'creator': 'Hwp 2020 11.0.0.5178', 'author': 'SI', 'page_label': '183', 'total_pages': 205, 'producer': 'Hancom PDF 1.3.0.542', 'pdfversion': '1.4', 'creationdate': '2024-12-12T18:16:11+09:00', 'source': './data/2040_seoul_plan.pdf'}\n",
      "새롭게 제시하는 공간구조인 보행일상권을 실현하기 위한 계획으로 역할을 전환한다.12) 맹다미 외, 2022, 미래 여건변화에 대응하는 도시계획체계 개편방안 연구, 서울연구원\n",
      "{'source': './data/2040_seoul_plan.pdf', 'moddate': '2024-12-12T18:16:11+09:00', 'page_label': '20', 'page': 19, 'creator': 'Hwp 2020 11.0.0.5178', 'creationdate': '2024-12-12T18:16:11+09:00', 'total_pages': 205, 'pdfversion': '1.4', 'author': 'SI', 'producer': 'Hancom PDF 1.3.0.542'}\n",
      "12제1장 개요\n",
      "Ÿ2022년 4월, 새로운 미래상과 공간계획을 바탕으로 2040 서울도시기본계획(안)을 작성하고 실·본부·국 및 자치구 의견 수렴을 실시하여 계획안을 수정·보완하였다.Ÿ2022년 6월, 2040 서울도시기본계획에 대한 공청회를 실시하였고, 시민과 관계 전문가 등의 의견 청취를 통해 피드백을 진행하였다.Ÿ2022년 10월, 2040 서울도시기본계획에 대한 서울시의회의 의견 청취 및 관계기관 협의를 진행하였으며, 동시에 수립지침에 의거하여 국토계획평가를 추진하였다.Ÿ2022년 11월, 서울특별시 도시계획위원회 심의를 추진하였으며, 당일 원안가결을 득하였다.Ÿ2023년 1월, 2040 서울도시기본계획에 대한 보완 의견을 검토·반영하여 최종 확정하였다.\n",
      "연도 주요 추진 과정\n",
      "2019\n"
     ]
    }
   ],
   "source": [
    "retriever = vectorstore.as_retriever(search_kwargs={\"k\": 5})\n",
    "\n",
    "chunks = retriever.invoke(\"서울 온실가스 저감 계획\")\n",
    "\n",
    "for chunk in chunks:\n",
    "    print(chunk.metadata)\n",
    "    print(chunk.page_content)"
   ]
  },
  {
   "cell_type": "code",
   "execution_count": 14,
   "id": "f9ae89fc",
   "metadata": {},
   "outputs": [
    {
     "data": {
      "text/plain": [
       "AIMessage(content='안녕하세요! 어떻게 도와드릴까요?', additional_kwargs={'refusal': None}, response_metadata={'token_usage': {'completion_tokens': 10, 'prompt_tokens': 10, 'total_tokens': 20, 'completion_tokens_details': {'accepted_prediction_tokens': 0, 'audio_tokens': 0, 'reasoning_tokens': 0, 'rejected_prediction_tokens': 0}, 'prompt_tokens_details': {'audio_tokens': 0, 'cached_tokens': 0}}, 'model_name': 'gpt-4o-mini-2024-07-18', 'system_fingerprint': 'fp_8bda4d3a2c', 'id': 'chatcmpl-CDuNkDSgPeMDz4NplY4fMsVT0L3FF', 'service_tier': 'default', 'finish_reason': 'stop', 'logprobs': None}, id='run--f9e434d4-d164-48cd-ace4-722f8b6f3cb8-0', usage_metadata={'input_tokens': 10, 'output_tokens': 10, 'total_tokens': 20, 'input_token_details': {'audio': 0, 'cache_read': 0}, 'output_token_details': {'audio': 0, 'reasoning': 0}})"
      ]
     },
     "execution_count": 14,
     "metadata": {},
     "output_type": "execute_result"
    }
   ],
   "source": [
    "from langchain_openai import ChatOpenAI\n",
    "\n",
    "model = ChatOpenAI(\n",
    "    model=\"gpt-4o-mini\",\n",
    "    temperature=0,\n",
    ")\n",
    "model.invoke(\"안녕하세요!\")"
   ]
  },
  {
   "cell_type": "code",
   "execution_count": 15,
   "id": "e3ae2277",
   "metadata": {},
   "outputs": [],
   "source": [
    "from langchain_core.prompts import ChatPromptTemplate\n",
    "from typing import Literal\n",
    "from pydantic import BaseModel, Field\n",
    "\n",
    "class RouteQuery(BaseModel):\n",
    "    \"\"\"사용자 쿼리를 가장 관련성이 높은 데이터 소스로 라우팅 합니다.\"\"\"\n",
    "    datasource: Literal[\"vectorstore\", \"casual_talk\"] = Field(\n",
    "        ...,\n",
    "        description=\"\"\"\n",
    "        사용자 질문에 따라 casual_talk 또는 vectorstore 중 하나를 선택합니다.\n",
    "        - casual_talk: 사용자 질문이 일상적인 대화 내용인 경우\n",
    "        - vectorstore: 사용자 질문에 답하기 위해 RAG로 vectorstore 검색이 필요한 경우\n",
    "        \"\"\",\n",
    "    )\n"
   ]
  },
  {
   "cell_type": "markdown",
   "id": "f78a74b4",
   "metadata": {},
   "source": [
    "#### 사용자의 질문을 받고 판단하기"
   ]
  },
  {
   "cell_type": "code",
   "execution_count": 16,
   "id": "b1c20975",
   "metadata": {},
   "outputs": [],
   "source": [
    "structured_llm_router = model.with_structured_output(RouteQuery)\n",
    "\n",
    "router_system = \"\"\"\n",
    "당신은 사용자의 질문을 vectorstore 또는 casual_talk 중 하나로 라우팅하는 전문가입니다.\n",
    "- vectorstore에는 서울, 뉴욕의 발전계획과 관련된 문서가 포함되어있습니다. 이 주제에 대한 질문에는 vectorstore를 사용하십시오.\n",
    "- 사용자의 질문이 일상 대화와 관련된 경우에는 casual_talk를 사용하십시오.\n",
    "\"\"\"\n",
    "\n",
    "router_prompt = ChatPromptTemplate.from_messages(\n",
    "    [\n",
    "        (\"system\", router_system),\n",
    "        (\"human\", \"{question}\"),\n",
    "    ]\n",
    ")\n",
    "\n",
    "question_router = router_prompt | structured_llm_router\n",
    "\n"
   ]
  },
  {
   "cell_type": "code",
   "execution_count": 17,
   "id": "55109de8",
   "metadata": {},
   "outputs": [
    {
     "name": "stdout",
     "output_type": "stream",
     "text": [
      "datasource='vectorstore'\n",
      "datasource='casual_talk'\n"
     ]
    }
   ],
   "source": [
    "print(\n",
    "    question_router.invoke({\n",
    "        \"question\": \"서울의 온실가스 저감 계획은 무엇인가요?\"\n",
    "    })\n",
    ")\n",
    "\n",
    "print(\n",
    "    question_router.invoke({\n",
    "        \"question\": \"비 오는 날 저녁 식사 메뉴를 추천해줘.\"\n",
    "    })\n",
    ")\n",
    "\n"
   ]
  },
  {
   "cell_type": "code",
   "execution_count": 18,
   "id": "871728b1",
   "metadata": {},
   "outputs": [],
   "source": [
    "from langchain_core.prompts import PromptTemplate\n",
    "\n",
    "class GradeDocuments(BaseModel):\n",
    "    \"\"\"검색된 문서가 질문과 관련성이 있는지 yes 또는 no로 평가합니다.\"\"\"\n",
    "\n",
    "    binary_score: Literal[\"yes\", \"no\"] = Field(\n",
    "        description=\"문서가 질문과 관련이 있는지 여부를 'yes' 또는 'no'로 평가합니다.\",\n",
    "    )\n",
    "\n",
    "structured_llm_grade = model.with_structured_output(GradeDocuments)\n",
    "\n",
    "\n",
    "\n",
    "\n",
    "\n",
    "\n",
    "\n"
   ]
  },
  {
   "cell_type": "markdown",
   "id": "83b52f5e",
   "metadata": {},
   "source": [
    "#### 챗봇처럼 기존 대화 내용이 계속 이어질 필요가 없는 경우에는 PromptTemplate이 적합할 수 있음"
   ]
  },
  {
   "cell_type": "code",
   "execution_count": 25,
   "id": "24991c5c",
   "metadata": {},
   "outputs": [
    {
     "name": "stdout",
     "output_type": "stream",
     "text": [
      "# Document 6:\n",
      "page_content='48제2장 미래상과 목표\n",
      "-생활권 전체를 녹지와 수변이 어우러진 오픈스페이스로 구성하여 다양한 여가수요에 대응 Ÿ지역특성을 반영한 다양한 유형의 보행일상권 조성을 위한 차별화된 모델을 제시한다.-일자리 중심, 문화여가 중심, 산업공간 중심, 주거 중심 등 지역생활권 특성을 반영-서울시 전역을 100여 개 이상의 작지만 강한 자족적인 일상 생활권으로 조성하도록 유도유연한 용도지역 계획으로 공간 효율성 극대화Ÿ보행일상권 실현을 위해서는 지역에 대한 면밀한 분석을 통해 부족한 시설과 필요한 기능을 찾아내고, 유연한 용도지역을 부여하여 공간 효율성을 극대화한다.Ÿ자립적인 생활권을 조성하기 위해 생활권 계획과 연계하여 주민과 자치구 중심으로 지역이 보유한 풍부한 자원과 잠재력6)을 활용함으로써 시민 개개인의 삶의 질 향상은 물론 지역 균형발전을 도모한다.\n",
      "[그림 2-22] 보행일상권 개념도\n",
      "6) 서울은 360여 개의 역세권과 100여 개의 공공 보건시설, 1,000여 개의 지역 보건센터와 같은 공공의료 시스템, 1,000여 개의 공공/지역문화시설과 400여 개의 공연장과 같은 문화시설, 2,900여 개의 공원녹지와 423km의 하천을 보유 중' metadata={'source': './data/2040_seoul_plan.pdf', 'author': 'SI', 'pdfversion': '1.4', 'creationdate': '2024-12-12T18:16:11+09:00', 'creator': 'Hwp 2020 11.0.0.5178', 'producer': 'Hancom PDF 1.3.0.542', 'page_label': '56', 'total_pages': 205, 'moddate': '2024-12-12T18:16:11+09:00', 'page': 55}\n",
      "# Document 7:\n",
      "page_content='부문별 전략계획시민이 제안한 미래상을 구체화하기 위한 분과별 계획 수립Ÿ기간: 2019. 10. ~ 2020. 5.Ÿ구성: 시민이 제안한 계획과제 기반 5개 분과 + 1개 총괄분과-시민사회혁신, 지속가능기반, 생활기반, 도시경쟁력, 도시공간 + 총괄조정Ÿ참여주체: 전문가, 시의원, 실·본부·국장, 서울연구원 등 분과별 약 20명(총 107명)팬데믹, 시정변화 등 신규 여건 변화 반영 신규 부문별 전략계획 수립 Ÿ기간: 2022. 1. ~ 2022. 6.Ÿ구성: 도시기본계획수립지침 상 부문별 계획을 서울시에 맞게 재조정   ※ 주택·정비, 교통·물류, 기후·환경, 안전·방재, 경제·산업, 사회·문화Ÿ참여주체: 전문가, 실·본부·국 담당부서 실무자, 서울연구원 등\n",
      "공공 의견수렴 과정\n",
      "자치구별 면담 및 권역별 워크숍Ÿ기간: (1차)2019. 8. ~ 9. (2차)2020. 2. (3차)2022. 6.Ÿ참여주체: 서울시 25개 자치구 도시계획 담당부서 실무자Ÿ자치구별 주요 이슈와 발전방향, 자치구 핵심사업, 권역별 계획 등에 대한 의견 제시서울시 실·국·본부 의견 수렴Ÿ기간: (1차)2019. 11. ~ 12. (2차)2020. 7. (3차)2022. 6.Ÿ참여주체: 서울시 28개 주요 실·국·본부 실무자Ÿ2040 서울도시기본계획에 대한 인식, 건의사항 등 행정주체의 의견 청취관계기관 협의Ÿ기간: 2022. 10. 7. ~ 2022. 12. 15.Ÿ협의기관: 국토교통부, 인천시, 경기도\n",
      "[표 1-2 계속] 계획 수립과정별 계획참여 주체의 주요 역할 및 내용' metadata={'creationdate': '2024-12-12T18:16:11+09:00', 'moddate': '2024-12-12T18:16:11+09:00', 'page_label': '22', 'page': 21, 'source': './data/2040_seoul_plan.pdf', 'creator': 'Hwp 2020 11.0.0.5178', 'total_pages': 205, 'author': 'SI', 'producer': 'Hancom PDF 1.3.0.542', 'pdfversion': '1.4'}\n",
      "# Document 8:\n",
      "page_content='격차 해소, 주민 요구를 충족하는 주거환경 개선, 균등한 교육 기회 제공 등 5대 추진 전략을 제시하였다.Ÿ특히 산업·일자리 기반조성과 관련하여 5개 권역별로 전략산업 육성 및 일자리 거점 조성을 위한 이행과제와 추진전략을 제시하고 있다. 따라서 금번 도시기본계획의 후속계획으로 재정비하는 서울생활권계획에서는 지역균형발전계획에서 제시한 주요 이행과제 등을 검토하여 반영할 필요가 있다.' metadata={'pdfversion': '1.4', 'moddate': '2024-12-12T18:16:11+09:00', 'page': 46, 'page_label': '47', 'author': 'SI', 'producer': 'Hancom PDF 1.3.0.542', 'source': './data/2040_seoul_plan.pdf', 'creator': 'Hwp 2020 11.0.0.5178', 'creationdate': '2024-12-12T18:16:11+09:00', 'total_pages': 205}\n",
      "# Document 9:\n",
      "page_content='제2절 주택·정비 부문1. 개요Ÿ서울의 인구는 2010년 이후 계속 감소하고 있지만, 1·2인 가구를 중심으로 가구 수는 빠르게 늘어나고 있어 주택 수요는 여전히 높은 상태이다. 주택 공급을 위한 노력에도 불구하고 여전히 높은 주거비로 인해 시민의 비자발적인 탈(脫)서울 현상이 발생하고 있다.Ÿ한편, 기술발달로 인한 디지털 전환으로 업무·교육·여가 등 일상생활이 공간에 구애받지 않게 되면서 주거공간과 근린 환경이 향후 시민 생활의 중심으로 부상할 것으로 예측된다.Ÿ이에 대응하여 2040 서울도시기본계획은 시민의 주거 불안을 해소하고 직주근접을 실현할 수 있도록 유연한 도시관리 체계 구축 및 정비사업의 효율적 추진을 통해 양질의 주택을 공급하고, 누구나 안전하고 쾌적한 주거생활을 누릴 수 있도록 주거 복지 서비스 체계의 고도화를 도모한다.Ÿ또한, 기술 수용의 방향과 가치를 명확히 하여 시민의 새로운 라이프스타일에 대응하는 주거환경을 조성하고, 환경의 지속가능성을 확보할 수 있는 첨단주택을 개발 및 공급한다.2. 세부추진 방안목표 전략1-1양질의 주택 공급 확대를 위한 도시계획체계 유연화 및 효율적 정비사업 유도1-1-1저이용·유휴지 활용 등 다양한 도시계획적 수단으로 양질의 주택 공급 활성화1-1-2부담가능한 공공주택의 공급 확대와 민간 참여를 유도하기 위한 지원 강화1-1-3주변 지역과 상생하며 공공성을 확보하는 주거지 정비사업 추진1-1-4중심지 특성을 반영하고 복합기능을 강화하는 도시정비형 재개발사업 추진1-1-5정비사업의 개발이익 환수를 강화하여 공공성 확보1-2여유로운 주거생활을 위한 주거복지 서비스 체계 고도화1-2-1적정한 주거 수준 확보를 위한 기준과 지원방안 마련 1-2-2거주자 맞춤형 주거복지 서비스 강화 및 거주자 친화적인 주거공간 개발1-2-3주거 안정 측면의 임차인 주거권 보장을 위한 제도적 기반 마련1-3첨단 주거문화 정착을 위한스마트 주거 기반 마련1-3-1주거 편의와 안전을 강화하기 위한 스마트 주택 개발 기반' metadata={'source': './data/2040_seoul_plan.pdf', 'creator': 'Hwp 2020 11.0.0.5178', 'author': 'SI', 'pdfversion': '1.4', 'page': 74, 'page_label': '75', 'producer': 'Hancom PDF 1.3.0.542', 'creationdate': '2024-12-12T18:16:11+09:00', 'total_pages': 205, 'moddate': '2024-12-12T18:16:11+09:00'}\n",
      "# Document 10:\n",
      "page_content='54제2장 미래상과 목표\n",
      "5. 기술발전에 선제적 대응, ‘미래교통 인프라 구축’1) 배경미래교통수단 도입에 따른 도시 활동 변화 및 공간구조 재편 대비Ÿ빠르게 진화하는 미래 신 교통수단은 도시공간에 새로운 변화를 일으킬 것이며, 도시 내 이동패턴의 변화를 가져올 것으로 예측된다. 이러한 점을 고려하여 도시 내 다양한 통행행태가 공존하는 포용적인 교통체계 구축을 준비해야 한다.미래교통수단 정착을 위한 도시 인프라 확충지원 필요Ÿ기존에 없던 새로운 교통은 통상 인프라 구축에 많은 시간이 소요되기 때문에 교통수단이 도입된 이후에 준비하기보다는 개발단계에서부터 이를 지원하기 위한 교통인프라 구축 구상이 요구되며, 새로운 도시 인프라 확충에 대한 도시계획적 지원이 필요하다.2) 추진전략자율주행 자동차 본격 운영 체계 구축Ÿ자율주행은 현재 제일 가시화되고 있는 미래 교통기술로 시장의 주도권을 확보하기 위해 각국의 노력이 집중되고 있다. 단계적으로 2030년까지 간선도로급 이상 도로에서 운영할 수 있는 도로 인프라 환경을 조성하고, 2040년까지 서울 전역 자율주행 운행 환경 구축을 목표로 한다.-2040년까지 서울 전역 자율주행차량의 운행 환경을 구축하고 수송 분담률 10%를 달성서울형 도심 항공교통 기반 마련 및 터미널 확충Ÿ도심에서 김포공항까지 시범노선을 운영하는 등 상용화 노선을 확보하고, 장기적으로 한강, 지천 등 주요 수변 공간 중심으로 광역노선을 확보한다. 또한 UAM 인프라 확보를 위한 인센티브 및 도시계획적인 지원 방안도 함께 검토한다.-UAM 시범노선을 운영하고, 한강 등 주요 수변 공간 중심에 단계적 광역노선을 확장서울 전역에 모빌리티 허브 구축Ÿ도심 및 광역거점에 서울 내부와 외부의 연계를 위한 미래 교통과 기존 교통을 연결하는 시설을 도입한다. 또한 교통뿐 아니라 공공서비스, 물류, 상업 등 다양한 기능들이 복합적으로 제공되는 지역 거점 모빌리티 허브를 서울 전역에 도입한다.' metadata={'source': './data/2040_seoul_plan.pdf', 'page_label': '62', 'page': 61, 'author': 'SI', 'creationdate': '2024-12-12T18:16:11+09:00', 'pdfversion': '1.4', 'moddate': '2024-12-12T18:16:11+09:00', 'producer': 'Hancom PDF 1.3.0.542', 'creator': 'Hwp 2020 11.0.0.5178', 'total_pages': 205}\n"
     ]
    }
   ],
   "source": [
    "grader_prompt = PromptTemplate.from_template(\n",
    "    \"\"\"\n",
    "당신은 검색된 문서가 사용자의 질문과 관련이 있는지 평가하는 전문가입니다.\\n\n",
    "문서에 사용자 질문과 관련된 키워드 또는 의미가 포함되어있으면 해당 문서를 관련성이 있다고 평가하십시오.\\n\n",
    "엄격한 테스트가 필요하지 않습니다. 목표는 잘못된 검색 결과를 걸러내는 것입니다.\\n\n",
    "문서가 질문과 관련이 있는지 여부를 나타내기 위해 'yes' 또는 'no'로 이진 점수를 부여하십시오.\\n\n",
    "\n",
    "Retrieved documents: \\n {document} \\n\\n\n",
    "User question : {question}\n",
    "    \"\"\"\n",
    ")\n",
    "\n",
    "retrieval_grader = grader_prompt | structured_llm_grade\n",
    "question = \"서울시 자율주행 관련 계획\"\n",
    "documents = retriever.invoke(question)\n",
    "\n",
    "for i, doc in enumerate(documents):\n",
    "    print(f\"# Document {index+1}:\")\n",
    "    print(doc)\n",
    "    index += 1\n",
    "\n",
    "\n",
    "\n",
    "\n"
   ]
  },
  {
   "cell_type": "code",
   "execution_count": 26,
   "id": "ec815fea",
   "metadata": {},
   "outputs": [
    {
     "name": "stdout",
     "output_type": "stream",
     "text": [
      "# Document 1 : binary_score='no'\n",
      "# Document 2 : binary_score='no'\n",
      "# Document 3 : binary_score='no'\n",
      "# Document 4 : binary_score='no'\n",
      "# Document 5 : binary_score='yes'\n",
      "Filtered documents: 1\n"
     ]
    }
   ],
   "source": [
    "filtered_documents = []\n",
    "\n",
    "for i, doc in enumerate(documents):\n",
    "    \n",
    "    is_relevant = retrieval_grader.invoke({\"question\": question, \"document\": doc.page_content})\n",
    "    print(f\"# Document {i+1} : {is_relevant}\")\n",
    "    if is_relevant.binary_score == \"yes\":\n",
    "        filtered_documents.append(doc)\n",
    "\n",
    "print(f\"Filtered documents: {len(filtered_documents)}\")\n",
    "\n"
   ]
  },
  {
   "cell_type": "markdown",
   "id": "de303abf",
   "metadata": {},
   "source": [
    "#### RAG를 위한 프롬프트 생성"
   ]
  },
  {
   "cell_type": "code",
   "execution_count": null,
   "id": "a1ff6268",
   "metadata": {},
   "outputs": [
    {
     "name": "stdout",
     "output_type": "stream",
     "text": [
      "content='서울시는 자율주행 관련 계획을 다음과 같이 수립하고 있습니다:\\n\\n1. **자율주행 자동차 운영 체계 구축**: 서울시는 자율주행 기술이 가장 가시화된 미래 교통 기술로, 이를 위해 2030년까지 간선도로급 이상의 도로에서 자율주행차가 운영될 수 있는 인프라 환경을 조성할 계획입니다. 2040년까지는 서울 전역에서 자율주행차량의 운행 환경을 구축하고, 수송 분담률 10%를 달성하는 것을 목표로 하고 있습니다.\\n\\n2. **도심 항공교통(UAM) 기반 마련**: 서울시는 도심에서 김포공항까지의 시범노선을 운영하고, 장기적으로 한강 및 주요 수변 공간을 중심으로 광역노선을 확보할 계획입니다. UAM 인프라 확보를 위한 인센티브 및 도시계획적 지원 방안도 검토하고 있습니다.\\n\\n3. **모빌리티 허브 구축**: 서울 전역에 모빌리티 허브를 구축하여 도심 및 광역거점에서 서울 내부와 외부의 연계를 위한 미래 교통과 기존 교통을 연결하는 시설을 도입할 예정입니다. 이 허브는 교통뿐만 아니라 공공서비스, 물류, 상업 등 다양한 기능이 복합적으로 제공되는 지역 거점으로 발전할 것입니다.\\n\\n이러한 계획들은 서울시의 미래 교통 인프라를 선제적으로 구축하고, 다양한 통행 행태가 공존하는 포용적인 교통체계를 마련하기 위한 노력의 일환입니다.' additional_kwargs={'refusal': None} response_metadata={'token_usage': {'completion_tokens': 350, 'prompt_tokens': 788, 'total_tokens': 1138, 'completion_tokens_details': {'accepted_prediction_tokens': 0, 'audio_tokens': 0, 'reasoning_tokens': 0, 'rejected_prediction_tokens': 0}, 'prompt_tokens_details': {'audio_tokens': 0, 'cached_tokens': 0}}, 'model_name': 'gpt-4o-mini-2024-07-18', 'system_fingerprint': 'fp_8bda4d3a2c', 'id': 'chatcmpl-CDulbL1EOo8XpZVm7fk8UzaqlJY39', 'service_tier': 'default', 'finish_reason': 'stop', 'logprobs': None} id='run--3f3ba1cb-88a6-4f2d-a1c0-2c1a8c51ca6e-0' usage_metadata={'input_tokens': 788, 'output_tokens': 350, 'total_tokens': 1138, 'input_token_details': {'audio': 0, 'cache_read': 0}, 'output_token_details': {'audio': 0, 'reasoning': 0}}\n"
     ]
    }
   ],
   "source": [
    "rag_generate_system = \"\"\"\n",
    "당신은 사용자의 질문에 대해 주어진 context에 기반하여 답변하는 도시 계획 전문가입니다.\\n\n",
    "주어진 context는 vectorstore에서 검색된 결과입니다.\\n\n",
    "주어진 context를 기반으로 사용자의 question에 대해 답변하십시오.\n",
    "===============\n",
    "question: {question}\n",
    "context: {context}\n",
    "===============\n",
    "\"\"\"\n",
    "\n",
    "rag_prompt = PromptTemplate(\n",
    "    input_variables=[\"question\", \"context\"],\n",
    "    template=rag_generate_system\n",
    ")\n",
    "\n",
    "rag_chain = rag_prompt | model\n",
    "\n",
    "question = \"서울시 자율주행 관련 계획\"\n",
    "\n",
    "answer = rag_chain.invoke({\"question\": question, \"context\": filtered_documents})\n",
    "print(answer)\n",
    "\n",
    "\n",
    "\n"
   ]
  },
  {
   "cell_type": "markdown",
   "id": "ebc8b5b7",
   "metadata": {},
   "source": [
    "### 그래프 상태 선언하고 노드 정의하기"
   ]
  },
  {
   "cell_type": "code",
   "execution_count": 32,
   "id": "2f3a41d7",
   "metadata": {},
   "outputs": [],
   "source": [
    "from typing import List\n",
    "from typing_extensions import TypedDict\n",
    "\n",
    "class GraphState(TypedDict):\n",
    "    question: str\n",
    "    generation: str\n",
    "    documents: List[str]\n",
    "\n",
    "\n"
   ]
  },
  {
   "cell_type": "code",
   "execution_count": 33,
   "id": "65eb35ff",
   "metadata": {},
   "outputs": [],
   "source": [
    "def route_question(state):\n",
    "    \"\"\"\n",
    "    사용자의 질문을 vectorstore 또는 casual_talk 중 하나로 라우팅합니다.\n",
    "\n",
    "    Args:\n",
    "        state (dict) : 현재 graph state\n",
    "\n",
    "    return:\n",
    "        state (dict) : 라우팅된 데이터 소스와 사용자 질문을 포함하는 새로운 graph state\n",
    "    \"\"\"\n",
    "    print(\"----- ROUTE -----\")\n",
    "    question = state[\"question\"]\n",
    "    route = question_router.invoke({\"question\": question})\n",
    "\n",
    "    print(f\"# Routing to : {route.datasource}\")\n",
    "    return route.datasource\n",
    "\n"
   ]
  },
  {
   "cell_type": "code",
   "execution_count": 34,
   "id": "1a7a39b4",
   "metadata": {},
   "outputs": [],
   "source": [
    "def retrieve(state):\n",
    "    \"\"\"\n",
    "    vectorstore에서 질문에 대한 문서를 검색합니다.\n",
    "\n",
    "    Args:\n",
    "        state (dict) : 현재 graph state\n",
    "\n",
    "    return:\n",
    "        state (dict) : 검색된 문서와 사용자 질문을 포함하는 새로운 graph state\n",
    "    \"\"\"\n",
    "    print(\"----- RETRIEVE -----\")\n",
    "    question = state[\"question\"]\n",
    "    \n",
    "    documents = retriever.invoke(question)\n",
    "    return {\"documents\": documents, \"question\": question}\n",
    "    "
   ]
  },
  {
   "cell_type": "code",
   "execution_count": 35,
   "id": "eaf461e1",
   "metadata": {},
   "outputs": [],
   "source": [
    "def grade_documents(state):\n",
    "    \"\"\"\n",
    "    검색된 문서를 평가하여 질문과 관련이 있는지 확인합니다.\n",
    "\n",
    "    Args:\n",
    "        state (dict) : 현재 graph state\n",
    "\n",
    "    return:\n",
    "        state (dict) : 관련성이 있는 문서와 사용자 질문을 포함하는 새로운 graph state\n",
    "    \"\"\"\n",
    "    print(\"----- GRADE -----\")\n",
    "    question = state[\"question\"]\n",
    "    documents = state[\"documents\"]\n",
    "    filtered_documents = []\n",
    "\n",
    "    for i, doc in enumerate(documents):\n",
    "        is_relevant = retrieval_grader.invoke({\"question\": question, \"document\": doc.page_content})\n",
    "        print(f\"# Document {i+1} : {is_relevant}\")\n",
    "        if is_relevant.binary_score == \"yes\":\n",
    "            filtered_documents.append(doc)\n",
    "\n",
    "    return {\"documents\": filtered_documents, \"question\": question}\n",
    "    "
   ]
  },
  {
   "cell_type": "code",
   "execution_count": 36,
   "id": "7dae4786",
   "metadata": {},
   "outputs": [],
   "source": [
    "def generate(state):\n",
    "    \"\"\"\n",
    "    LLM을 사용하여 문서와 사용자 질문에 대한 답변을 생성합니다.\n",
    "\n",
    "    Args:\n",
    "        state (dict) : 현재 graph state\n",
    "\n",
    "    return:\n",
    "        state (dict) : LLM 생성된 결과와 사용자 질문을 포함하는 새로운 graph state\n",
    "    \"\"\"\n",
    "    print(\"----- GENERATE -----\")\n",
    "    question = state[\"question\"]\n",
    "    documents = state[\"documents\"]\n",
    "    generation = rag_chain.invoke({\"question\": question, \"context\": documents})\n",
    "    return {\"question\": question, \"generation\": generation, \"documents\": documents}\n",
    "    \n",
    "    "
   ]
  },
  {
   "cell_type": "code",
   "execution_count": 37,
   "id": "771d16b9",
   "metadata": {},
   "outputs": [],
   "source": [
    "def casual_talk(state):\n",
    "    \"\"\"\n",
    "    사용자의 질문에 대한 일상적인 대화를 처리합니다.\n",
    "\n",
    "    Args:\n",
    "        state (dict) : 현재 graph state\n",
    "\n",
    "    return:\n",
    "        state (dict) : 일상적인 대화 결과와 사용자 질문을 포함하는 새로운 graph state\n",
    "    \"\"\"\n",
    "    print(\"----- CASUAL TALK -----\")\n",
    "    question = state[\"question\"]\n",
    "    generation = model.invoke(question)\n",
    "    return {\"question\": question, \"generation\": generation}\n",
    "    "
   ]
  },
  {
   "cell_type": "markdown",
   "id": "05f0a416",
   "metadata": {},
   "source": [
    "### StateGraph 만들기"
   ]
  },
  {
   "cell_type": "code",
   "execution_count": 43,
   "id": "dd64e606",
   "metadata": {},
   "outputs": [
    {
     "data": {
      "text/plain": [
       "<langgraph.graph.state.StateGraph at 0x30b7c4050>"
      ]
     },
     "execution_count": 43,
     "metadata": {},
     "output_type": "execute_result"
    }
   ],
   "source": [
    "from langgraph.graph import StateGraph, START, END\n",
    "\n",
    "workflow = StateGraph(GraphState)\n",
    "\n",
    "workflow.add_node(\"retrieve\", retrieve)\n",
    "workflow.add_node(\"grade_documents\", grade_documents)\n",
    "workflow.add_node(\"generate\", generate)\n",
    "workflow.add_node(\"casual_talk\", casual_talk)\n",
    "\n",
    "\n"
   ]
  },
  {
   "cell_type": "code",
   "execution_count": 44,
   "id": "950fb86e",
   "metadata": {},
   "outputs": [],
   "source": [
    "workflow.add_conditional_edges(\n",
    "    START, \n",
    "    route_question,\n",
    "    {\n",
    "        \"vectorstore\": \"retrieve\",\n",
    "        \"casual_talk\": \"casual_talk\"\n",
    "    }\n",
    ")\n",
    "workflow.add_edge(\"casual_talk\", END)\n",
    "\n",
    "workflow.add_edge(\"retrieve\", \"grade_documents\")\n",
    "workflow.add_edge(\"grade_documents\", \"generate\")\n",
    "workflow.add_edge(\"generate\", END)\n",
    "\n",
    "app = workflow.compile()"
   ]
  },
  {
   "cell_type": "code",
   "execution_count": 45,
   "id": "9840f83f",
   "metadata": {},
   "outputs": [
    {
     "data": {
      "image/png": "[encoded data removed]",
      "text/plain": [
       "<IPython.core.display.Image object>"
      ]
     },
     "metadata": {},
     "output_type": "display_data"
    }
   ],
   "source": [
    "from IPython.display import Image, display\n",
    "\n",
    "try:\n",
    "    display(Image(app.get_graph().draw_mermaid_png()))\n",
    "except Exception:\n",
    "    pass\n",
    "\n",
    "\n"
   ]
  },
  {
   "cell_type": "code",
   "execution_count": 46,
   "id": "dba39c8a",
   "metadata": {},
   "outputs": [
    {
     "name": "stdout",
     "output_type": "stream",
     "text": [
      "----- ROUTE -----\n",
      "# Routing to : vectorstore\n",
      "----- RETRIEVE -----\n",
      "----- GRADE -----\n",
      "# Document 1 : binary_score='no'\n",
      "# Document 2 : binary_score='no'\n",
      "# Document 3 : binary_score='no'\n",
      "# Document 4 : binary_score='no'\n",
      "# Document 5 : binary_score='yes'\n",
      "----- GENERATE -----\n"
     ]
    },
    {
     "data": {
      "text/plain": [
       "{'question': '서울시 자율주행 관련 계획',\n",
       " 'generation': AIMessage(content='서울시는 자율주행 관련 계획을 다음과 같이 수립하고 있습니다:\\n\\n1. **자율주행 자동차 운영 체계 구축**: 서울시는 자율주행 기술이 가장 가시화되고 있는 미래 교통 기술로 인식하고, 이를 위해 단계적으로 2030년까지 간선도로급 이상의 도로에서 자율주행차가 운영될 수 있는 인프라 환경을 조성할 계획입니다. 2040년까지는 서울 전역에서 자율주행차량의 운행 환경을 구축하고, 수송 분담률 10%를 달성하는 것을 목표로 하고 있습니다.\\n\\n2. **도심 항공교통(UAM) 기반 마련**: 서울시는 도심에서 김포공항까지의 시범노선을 운영하고, 장기적으로 한강 및 주요 수변 공간을 중심으로 광역노선을 확보할 계획입니다. UAM 인프라 확보를 위한 인센티브 및 도시계획적 지원 방안도 검토하고 있습니다.\\n\\n3. **모빌리티 허브 구축**: 서울 전역에 모빌리티 허브를 구축하여 도심 및 광역거점에서 서울 내부와 외부의 연계를 위한 미래 교통과 기존 교통을 연결하는 시설을 도입할 예정입니다. 이 허브는 교통뿐만 아니라 공공서비스, 물류, 상업 등 다양한 기능들이 복합적으로 제공되는 지역 거점으로 발전할 것입니다.\\n\\n이러한 계획들은 서울시의 미래 교통체계 구축을 위한 포괄적인 전략의 일환으로, 기술 발전에 선제적으로 대응하고 도시 내 다양한 통행행태가 공존하는 포용적인 교통체계를 마련하기 위한 노력의 일환입니다.', additional_kwargs={'refusal': None}, response_metadata={'token_usage': {'completion_tokens': 371, 'prompt_tokens': 788, 'total_tokens': 1159, 'completion_tokens_details': {'accepted_prediction_tokens': 0, 'audio_tokens': 0, 'reasoning_tokens': 0, 'rejected_prediction_tokens': 0}, 'prompt_tokens_details': {'audio_tokens': 0, 'cached_tokens': 0}}, 'model_name': 'gpt-4o-mini-2024-07-18', 'system_fingerprint': 'fp_8bda4d3a2c', 'id': 'chatcmpl-CDvRDrj6fT3qRGrLesLd9W4z58rmT', 'service_tier': 'default', 'finish_reason': 'stop', 'logprobs': None}, id='run--e9ebf346-abc8-4f10-ae2f-24d170f3a398-0', usage_metadata={'input_tokens': 788, 'output_tokens': 371, 'total_tokens': 1159, 'input_token_details': {'audio': 0, 'cache_read': 0}, 'output_token_details': {'audio': 0, 'reasoning': 0}}),\n",
       " 'documents': [Document(id='dd7cf366-551f-42a8-b5bf-9cf60b633f93', metadata={'creationdate': '2024-12-12T18:16:11+09:00', 'source': './data/2040_seoul_plan.pdf', 'page_label': '62', 'page': 61, 'total_pages': 205, 'pdfversion': '1.4', 'creator': 'Hwp 2020 11.0.0.5178', 'moddate': '2024-12-12T18:16:11+09:00', 'author': 'SI', 'producer': 'Hancom PDF 1.3.0.542'}, page_content='54제2장 미래상과 목표\\n5. 기술발전에 선제적 대응, ‘미래교통 인프라 구축’1) 배경미래교통수단 도입에 따른 도시 활동 변화 및 공간구조 재편 대비Ÿ빠르게 진화하는 미래 신 교통수단은 도시공간에 새로운 변화를 일으킬 것이며, 도시 내 이동패턴의 변화를 가져올 것으로 예측된다. 이러한 점을 고려하여 도시 내 다양한 통행행태가 공존하는 포용적인 교통체계 구축을 준비해야 한다.미래교통수단 정착을 위한 도시 인프라 확충지원 필요Ÿ기존에 없던 새로운 교통은 통상 인프라 구축에 많은 시간이 소요되기 때문에 교통수단이 도입된 이후에 준비하기보다는 개발단계에서부터 이를 지원하기 위한 교통인프라 구축 구상이 요구되며, 새로운 도시 인프라 확충에 대한 도시계획적 지원이 필요하다.2) 추진전략자율주행 자동차 본격 운영 체계 구축Ÿ자율주행은 현재 제일 가시화되고 있는 미래 교통기술로 시장의 주도권을 확보하기 위해 각국의 노력이 집중되고 있다. 단계적으로 2030년까지 간선도로급 이상 도로에서 운영할 수 있는 도로 인프라 환경을 조성하고, 2040년까지 서울 전역 자율주행 운행 환경 구축을 목표로 한다.-2040년까지 서울 전역 자율주행차량의 운행 환경을 구축하고 수송 분담률 10%를 달성서울형 도심 항공교통 기반 마련 및 터미널 확충Ÿ도심에서 김포공항까지 시범노선을 운영하는 등 상용화 노선을 확보하고, 장기적으로 한강, 지천 등 주요 수변 공간 중심으로 광역노선을 확보한다. 또한 UAM 인프라 확보를 위한 인센티브 및 도시계획적인 지원 방안도 함께 검토한다.-UAM 시범노선을 운영하고, 한강 등 주요 수변 공간 중심에 단계적 광역노선을 확장서울 전역에 모빌리티 허브 구축Ÿ도심 및 광역거점에 서울 내부와 외부의 연계를 위한 미래 교통과 기존 교통을 연결하는 시설을 도입한다. 또한 교통뿐 아니라 공공서비스, 물류, 상업 등 다양한 기능들이 복합적으로 제공되는 지역 거점 모빌리티 허브를 서울 전역에 도입한다.')]}"
      ]
     },
     "execution_count": 46,
     "metadata": {},
     "output_type": "execute_result"
    }
   ],
   "source": [
    "inputs = {\"question\": \"서울시 자율주행 관련 계획\"}\n",
    "\n",
    "app.invoke(inputs)"
   ]
  },
  {
   "cell_type": "code",
   "execution_count": 48,
   "id": "df880485",
   "metadata": {},
   "outputs": [
    {
     "name": "stdout",
     "output_type": "stream",
     "text": [
      "----- ROUTE -----\n",
      "# Routing to : casual_talk\n",
      "----- CASUAL TALK -----\n"
     ]
    },
    {
     "data": {
      "text/plain": [
       "{'question': '피곤해',\n",
       " 'generation': AIMessage(content='피곤하군요. 충분한 휴식이 필요할 것 같아요. 잠깐 쉬거나 좋아하는 음악을 듣는 것도 좋을 것 같아요. 혹시 어떤 일이 있었나요? 이야기하고 싶다면 들어줄게요.', additional_kwargs={'refusal': None}, response_metadata={'token_usage': {'completion_tokens': 51, 'prompt_tokens': 10, 'total_tokens': 61, 'completion_tokens_details': {'accepted_prediction_tokens': 0, 'audio_tokens': 0, 'reasoning_tokens': 0, 'rejected_prediction_tokens': 0}, 'prompt_tokens_details': {'audio_tokens': 0, 'cached_tokens': 0}}, 'model_name': 'gpt-4o-mini-2024-07-18', 'system_fingerprint': 'fp_8bda4d3a2c', 'id': 'chatcmpl-CDvRvdVpAUz3NTEyz830NijFUkNnV', 'service_tier': 'default', 'finish_reason': 'stop', 'logprobs': None}, id='run--693e58da-6059-4ce8-b22b-08ba63cb0444-0', usage_metadata={'input_tokens': 10, 'output_tokens': 51, 'total_tokens': 61, 'input_token_details': {'audio': 0, 'cache_read': 0}, 'output_token_details': {'audio': 0, 'reasoning': 0}})}"
      ]
     },
     "execution_count": 48,
     "metadata": {},
     "output_type": "execute_result"
    }
   ],
   "source": [
    "inputs = {\"question\": \"피곤해\"}\n",
    "\n",
    "app.invoke(inputs)"
   ]
  },
  {
   "cell_type": "code",
   "execution_count": 49,
   "id": "456c2693",
   "metadata": {},
   "outputs": [
    {
     "name": "stdout",
     "output_type": "stream",
     "text": [
      "----- ROUTE -----\n",
      "{\"datasource\":\"vectorstore\"}# Routing to : vectorstore\n",
      "----- RETRIEVE -----\n",
      "----- GRADE -----\n",
      "{\"binary_score\":\"yes\"}# Document 1 : binary_score='yes'\n",
      "{\"binary_score\":\"yes\"}# Document 2 : binary_score='yes'\n",
      "{\"binary_score\":\"yes\"}# Document 3 : binary_score='yes'\n",
      "{\"binary_score\":\"yes\"}# Document 4 : binary_score='yes'\n",
      "{\"binary_score\":\"yes\"}# Document 5 : binary_score='yes'\n",
      "----- GENERATE -----\n",
      "서울시의 친환경 에너지 정책은 기후 변화에 대응하고 지속 가능한 도시 환경을 조성하기 위해 다양한 전략을 포함하고 있습니다. 주요 내용은 다음과 같습니다:\n",
      "\n",
      "1. **탄소중립 목표**: 서울시는 2040년까지 탄소중립을 목표로 하고 있으며, 이를 위해 건물, 교통, 에너지 등 주요 인프라의 혁신이 필요합니다. 특히, 2026년까지 100만 호의 건물 에너지 효율화 사업을 추진하고, 신규 건물에 대해 제로에너지 건물(ZEB) 의무화를 시행할 계획입니다.\n",
      "\n",
      "2. **신재생에너지 확대**: 서울시는 신재생에너지 보급률을 2030년까지 21%로 확대할 계획이며, 소규모 분산형 발전시설을 지원하고 지역 내 에너지 생산 및 관리 기반을 마련할 것입니다.\n",
      "\n",
      "3. **시민 참여와 교육**: 시민의 자원순환 인식을 높이기 위한 다양한 사업과 시책을 발굴하고, 친환경 교육 계획을 수립하여 대중교통 이용 및 일회용품 사용 감축을 유도합니다.\n",
      "\n",
      "4. **자원순환 체계 구축**: 자원순환 및 관리 자립을 위한 분산형 폐기물 처리 시설을 구축하고, 생활권 단위에서 폐기물의 감량 및 재사용·재활용을 촉진하는 기반을 마련합니다.\n",
      "\n",
      "5. **물순환 체계 통합 관리**: 도시 내 물순환 시스템을 통합적으로 관리하여 지속 가능한 물 관리 시설을 구축하고, 빗물 및 중수도 시설을 활용한 물 재이용을 증가시킬 계획입니다.\n",
      "\n",
      "6. **대기 환경 개선**: 대기 환경을 고려한 공간계획과 배출원 관리체계를 강화하여 PM2.5와 같은 대기오염물질의 배출을 원천적으로 감축하는 방안을 추진합니다.\n",
      "\n",
      "이러한 정책들은 서울시가 기후 변화에 효과적으로 대응하고, 시민의 건강과 안전을 보호하며, 지속 가능한 도시 환경을 조성하기 위한 포괄적인 접근을 반영하고 있습니다."
     ]
    }
   ],
   "source": [
    "inputs = {\"question\": \"서울시 친환경 에너지 정책\"}\n",
    "\n",
    "for msg, meta in app.stream(inputs, stream_mode=\"messages\"):\n",
    "    print(msg.content, end=\"\")\n"
   ]
  }
 ],
 "metadata": {
  "kernelspec": {
   "display_name": ".venv",
   "language": "python",
   "name": "python3"
  },
  "language_info": {
   "codemirror_mode": {
    "name": "ipython",
    "version": 3
   },
   "file_extension": ".py",
   "mimetype": "text/x-python",
   "name": "python",
   "nbconvert_exporter": "python",
   "pygments_lexer": "ipython3",
   "version": "3.12.8"
  }
 },
 "nbformat": 4,
 "nbformat_minor": 5
}
