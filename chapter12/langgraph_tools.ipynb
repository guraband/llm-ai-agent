{
 "cells": [
  {
   "cell_type": "code",
   "execution_count": 16,
   "id": "48ec0788",
   "metadata": {},
   "outputs": [
    {
     "data": {
      "text/plain": [
       "AIMessage(content='안녕하세요! 수요일 밤에 공부하러 오셨군요. 어떤 과목이나 주제를 공부하고 계신가요? 도움이 필요하시면 말씀해 주세요!', additional_kwargs={'refusal': None}, response_metadata={'token_usage': {'completion_tokens': 36, 'prompt_tokens': 21, 'total_tokens': 57, 'completion_tokens_details': {'accepted_prediction_tokens': 0, 'audio_tokens': 0, 'reasoning_tokens': 0, 'rejected_prediction_tokens': 0}, 'prompt_tokens_details': {'audio_tokens': 0, 'cached_tokens': 0}}, 'model_name': 'gpt-4o-mini-2024-07-18', 'system_fingerprint': 'fp_560af6e559', 'id': 'chatcmpl-CBhECYdnbdWyWcnNQN2sUkda7YWpN', 'service_tier': 'default', 'finish_reason': 'stop', 'logprobs': None}, id='run--06203d89-6a15-4ec1-abd6-ae189bb55f92-0', usage_metadata={'input_tokens': 21, 'output_tokens': 36, 'total_tokens': 57, 'input_token_details': {'audio': 0, 'cache_read': 0}, 'output_token_details': {'audio': 0, 'reasoning': 0}})"
      ]
     },
     "execution_count": 16,
     "metadata": {},
     "output_type": "execute_result"
    }
   ],
   "source": [
    "from langchain_openai import ChatOpenAI\n",
    "\n",
    "model = ChatOpenAI(model=\"gpt-4o-mini\", temperature=0.1)\n",
    "model.invoke(\"안녕! 수요일 밤에 공부하러 왔어.\")\n"
   ]
  },
  {
   "cell_type": "code",
   "execution_count": 17,
   "id": "fd225d7d",
   "metadata": {},
   "outputs": [],
   "source": [
    "from typing import Annotated\n",
    "from typing_extensions import TypedDict\n",
    "\n",
    "from langgraph.graph import StateGraph, START, END\n",
    "from langgraph.graph.message import add_messages\n",
    "\n",
    "class State(TypedDict):\n",
    "    messages: Annotated[list[str], add_messages]\n",
    "\n",
    "graph_builder = StateGraph(State)"
   ]
  },
  {
   "cell_type": "code",
   "execution_count": 18,
   "id": "5c77350a",
   "metadata": {},
   "outputs": [],
   "source": [
    "from langchain_core.tools import tool\n",
    "from datetime import datetime\n",
    "import pytz\n",
    "from langchain_community.tools import DuckDuckGoSearchResults\n",
    "from langchain_community.utilities import DuckDuckGoSearchAPIWrapper\n",
    "\n",
    "import bs4\n",
    "from langchain_community.document_loaders import WebBaseLoader\n",
    "\n",
    "@tool\n",
    "def get_current_time(timezone: str = \"Asia/Seoul\", location: str = \"서울\") -> str:\n",
    "    \"\"\"\n",
    "    현재 시간을 조회합니다.\n",
    "\n",
    "    Args:\n",
    "        timezone (str): 타임존\n",
    "        location (str): 위치\n",
    "\n",
    "    Returns:\n",
    "        str: 현재 시간\n",
    "    \"\"\"\n",
    "    try:\n",
    "        tz = pytz.timezone(timezone)\n",
    "        now = datetime.now(tz).strftime(\"%Y-%m-%d %H:%M:%S\")\n",
    "        return f\"{timezone} ({location}) 현재 시각 {now}\"\n",
    "    except pytz.UnknownTimeZoneError:\n",
    "        return f\"알 수 없는 타임존: {timezone}\"\n",
    "\n",
    "@tool\n",
    "def get_search_web(query: str, search_period: str = \"m\") -> str:\n",
    "    \"\"\"\n",
    "    웹 검색을 수행하는 함수.\n",
    "\n",
    "    Args:\n",
    "        query (str): 검색할 키워드\n",
    "        search_period (str): 검색 기간 (h: 시간, d: 일, w: 주, m: 월, y: 년)\n",
    "\n",
    "    Returns:\n",
    "        str: 검색 결과\n",
    "    \"\"\"\n",
    "    wrapper = DuckDuckGoSearchAPIWrapper(\n",
    "        time = search_period\n",
    "    )\n",
    "\n",
    "    print(\"\\n----- WEB SEARCH -----\")\n",
    "    print(f\"# Query: {query}\")\n",
    "    print(f\"# Search Period: {search_period}\")\n",
    "\n",
    "    search = DuckDuckGoSearchResults(\n",
    "        api_wrapper=wrapper,\n",
    "        results_separator=\";\\n\"\n",
    "    )\n",
    "\n",
    "    searched = search.invoke(query)\n",
    "    for i, result in enumerate(searched.split(\";\\n\")):\n",
    "        print(f\"{i+1}. {result}\")\n",
    "    \n",
    "    return searched\n",
    "    \n",
    "# 도구 바인딩\n",
    "tools = [get_current_time, get_search_web]\n",
    "    \n",
    "    \n",
    "\n"
   ]
  },
  {
   "cell_type": "code",
   "execution_count": 19,
   "id": "10b13217",
   "metadata": {},
   "outputs": [
    {
     "name": "stdout",
     "output_type": "stream",
     "text": [
      "Asia/Seoul (서울) 현재 시각 2025-09-03 21:50:13\n",
      "Europe/London (런던) 현재 시각 2025-09-03 13:50:13\n"
     ]
    }
   ],
   "source": [
    "print(tools[0].invoke({\"timezone\": \"Asia/Seoul\", \"location\": \"서울\"}))\n",
    "print(tools[0].invoke({\"timezone\": \"Europe/London\", \"location\": \"런던\"}))"
   ]
  },
  {
   "cell_type": "code",
   "execution_count": 20,
   "id": "eb885b90",
   "metadata": {},
   "outputs": [
    {
     "name": "stdout",
     "output_type": "stream",
     "text": [
      "\n",
      "----- WEB SEARCH -----\n",
      "# Query: GTA 6\n",
      "# Search Period: m\n",
      "1. snippet: When is GTA 6 coming out? Given how many years it takes to create open worlds of the same caliber as GTA 5, it's no surprise that Rockstar Games has ..., title: GTA 6 release date and time, trailers, and latest news, link: https://www.pcgamesn.com/grand-theft-auto-vi/gta-6-release-date-setting-map-characters-gameplay-trailers\n",
      "2. snippet: The first GTA 6 announcement came in February 2022, when Rockstar Games snuck out the news that GTA 6 is \"well underway\" as part of a broader GTA 5 ..., title: GTA 6: Everything we know so far | GamesRadar+, link: https://www.gamesradar.com/gta-6-guide/\n",
      "3. snippet: While we wait for GTA 6 , rumors suggest that GTA 4 is getting a remaster Grand Theft Auto 4 is reportedly coming to PS5, Xbox Series X, and Xbox ..., title: GTA 6 - everything we know so far | TechRadar, link: https://www.techradar.com/gaming/gta-6\n",
      "4. snippet: The second, and latest, GTA 6 trailer released on 6th May 2025 , four days after Rockstar announced that the game was delated from Autumn 2025 to May ..., title: GTA 6: Everything we know so far | Eurogamer.net, link: https://www.eurogamer.net/gta-6-everything-we-know-so-far-9357\n"
     ]
    },
    {
     "data": {
      "text/plain": [
       "'snippet: When is GTA 6 coming out? Given how many years it takes to create open worlds of the same caliber as GTA 5, it\\'s no surprise that Rockstar Games has ..., title: GTA 6 release date and time, trailers, and latest news, link: https://www.pcgamesn.com/grand-theft-auto-vi/gta-6-release-date-setting-map-characters-gameplay-trailers;\\nsnippet: The first GTA 6 announcement came in February 2022, when Rockstar Games snuck out the news that GTA 6 is \"well underway\" as part of a broader GTA 5 ..., title: GTA 6: Everything we know so far | GamesRadar+, link: https://www.gamesradar.com/gta-6-guide/;\\nsnippet: While we wait for GTA 6 , rumors suggest that GTA 4 is getting a remaster Grand Theft Auto 4 is reportedly coming to PS5, Xbox Series X, and Xbox ..., title: GTA 6 - everything we know so far | TechRadar, link: https://www.techradar.com/gaming/gta-6;\\nsnippet: The second, and latest, GTA 6 trailer released on 6th May 2025 , four days after Rockstar announced that the game was delated from Autumn 2025 to May ..., title: GTA 6: Everything we know so far | Eurogamer.net, link: https://www.eurogamer.net/gta-6-everything-we-know-so-far-9357'"
      ]
     },
     "execution_count": 20,
     "metadata": {},
     "output_type": "execute_result"
    }
   ],
   "source": [
    "tools[1].invoke({\"query\": \"GTA 6\", \"search_period\": \"m\"})"
   ]
  },
  {
   "cell_type": "code",
   "execution_count": 21,
   "id": "6b4a3696",
   "metadata": {},
   "outputs": [
    {
     "name": "stdout",
     "output_type": "stream",
     "text": [
      "get_current_time name='get_current_time' description='현재 시간을 조회합니다.\\n\\nArgs:\\n    timezone (str): 타임존\\n    location (str): 위치\\n\\nReturns:\\n    str: 현재 시간' args_schema=<class 'langchain_core.utils.pydantic.get_current_time'> func=<function get_current_time at 0x119608ae0>\n",
      "get_search_web name='get_search_web' description='웹 검색을 수행하는 함수.\\n\\nArgs:\\n    query (str): 검색할 키워드\\n    search_period (str): 검색 기간 (h: 시간, d: 일, w: 주, m: 월, y: 년)\\n\\nReturns:\\n    str: 검색 결과' args_schema=<class 'langchain_core.utils.pydantic.get_search_web'> func=<function get_search_web at 0x11a7cb9c0>\n"
     ]
    }
   ],
   "source": [
    "for tool in tools:\n",
    "    print(tool.name, tool)\n"
   ]
  },
  {
   "cell_type": "code",
   "execution_count": null,
   "id": "cd0e52d2",
   "metadata": {},
   "outputs": [],
   "source": [
    "model_with_tools = model.bind_tools(tools)\n"
   ]
  }
 ],
 "metadata": {
  "kernelspec": {
   "display_name": ".venv",
   "language": "python",
   "name": "python3"
  },
  "language_info": {
   "codemirror_mode": {
    "name": "ipython",
    "version": 3
   },
   "file_extension": ".py",
   "mimetype": "text/x-python",
   "name": "python",
   "nbconvert_exporter": "python",
   "pygments_lexer": "ipython3",
   "version": "3.12.8"
  }
 },
 "nbformat": 4,
 "nbformat_minor": 5
}
