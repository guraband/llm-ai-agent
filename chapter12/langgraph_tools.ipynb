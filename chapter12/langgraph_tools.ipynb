{
 "cells": [
  {
   "cell_type": "code",
   "execution_count": 25,
   "id": "48ec0788",
   "metadata": {},
   "outputs": [
    {
     "data": {
      "text/plain": [
       "AIMessage(content='안녕하세요! 수요일 밤에 공부하러 오셨군요. 어떤 과목이나 주제를 공부하고 계신가요? 도움이 필요하시면 말씀해 주세요!', additional_kwargs={'refusal': None}, response_metadata={'token_usage': {'completion_tokens': 36, 'prompt_tokens': 21, 'total_tokens': 57, 'completion_tokens_details': {'accepted_prediction_tokens': 0, 'audio_tokens': 0, 'reasoning_tokens': 0, 'rejected_prediction_tokens': 0}, 'prompt_tokens_details': {'audio_tokens': 0, 'cached_tokens': 0}}, 'model_name': 'gpt-4o-mini-2024-07-18', 'system_fingerprint': 'fp_8bda4d3a2c', 'id': 'chatcmpl-CBhWccLf9Jw7EUZFgpbrtjRzu2J0m', 'service_tier': 'default', 'finish_reason': 'stop', 'logprobs': None}, id='run--b1f30104-795a-47fd-a843-f7b6be580ba8-0', usage_metadata={'input_tokens': 21, 'output_tokens': 36, 'total_tokens': 57, 'input_token_details': {'audio': 0, 'cache_read': 0}, 'output_token_details': {'audio': 0, 'reasoning': 0}})"
      ]
     },
     "execution_count": 25,
     "metadata": {},
     "output_type": "execute_result"
    }
   ],
   "source": [
    "from langchain_openai import ChatOpenAI\n",
    "\n",
    "model = ChatOpenAI(model=\"gpt-4o-mini\", temperature=0.1)\n",
    "model.invoke(\"안녕! 수요일 밤에 공부하러 왔어.\")"
   ]
  },
  {
   "cell_type": "code",
   "execution_count": 26,
   "id": "fd225d7d",
   "metadata": {},
   "outputs": [],
   "source": [
    "from typing import Annotated\n",
    "from typing_extensions import TypedDict\n",
    "\n",
    "from langgraph.graph import StateGraph, START, END\n",
    "from langgraph.graph.message import add_messages\n",
    "\n",
    "\n",
    "class State(TypedDict):\n",
    "    messages: Annotated[list[str], add_messages]\n",
    "\n",
    "\n",
    "graph_builder = StateGraph(State)"
   ]
  },
  {
   "cell_type": "code",
   "execution_count": 27,
   "id": "5c77350a",
   "metadata": {},
   "outputs": [],
   "source": [
    "from langchain_core.tools import tool\n",
    "from datetime import datetime\n",
    "import pytz\n",
    "from langchain_community.tools import DuckDuckGoSearchResults\n",
    "from langchain_community.utilities import DuckDuckGoSearchAPIWrapper\n",
    "\n",
    "import bs4\n",
    "from langchain_community.document_loaders import WebBaseLoader\n",
    "\n",
    "\n",
    "@tool\n",
    "def get_current_time(timezone: str = \"Asia/Seoul\", location: str = \"서울\") -> str:\n",
    "    \"\"\"\n",
    "    현재 시간을 조회합니다.\n",
    "\n",
    "    Args:\n",
    "        timezone (str): 타임존\n",
    "        location (str): 위치\n",
    "\n",
    "    Returns:\n",
    "        str: 현재 시간\n",
    "    \"\"\"\n",
    "    try:\n",
    "        tz = pytz.timezone(timezone)\n",
    "        now = datetime.now(tz).strftime(\"%Y-%m-%d %H:%M:%S\")\n",
    "        return f\"{timezone} ({location}) 현재 시각 {now}\"\n",
    "    except pytz.UnknownTimeZoneError:\n",
    "        return f\"알 수 없는 타임존: {timezone}\"\n",
    "\n",
    "\n",
    "@tool\n",
    "def get_search_web(query: str, search_period: str = \"m\") -> str:\n",
    "    \"\"\"\n",
    "    웹 검색을 수행하는 함수.\n",
    "\n",
    "    Args:\n",
    "        query (str): 검색할 키워드\n",
    "        search_period (str): 검색 기간 (h: 시간, d: 일, w: 주, m: 월, y: 년)\n",
    "\n",
    "    Returns:\n",
    "        str: 검색 결과\n",
    "    \"\"\"\n",
    "    wrapper = DuckDuckGoSearchAPIWrapper(\n",
    "        time=search_period\n",
    "    )\n",
    "\n",
    "    print(\"\\n----- WEB SEARCH -----\")\n",
    "    print(f\"# Query: {query}\")\n",
    "    print(f\"# Search Period: {search_period}\")\n",
    "\n",
    "    search = DuckDuckGoSearchResults(\n",
    "        api_wrapper=wrapper,\n",
    "        results_separator=\";\\n\"\n",
    "    )\n",
    "\n",
    "    searched = search.invoke(query)\n",
    "    for i, result in enumerate(searched.split(\";\\n\")):\n",
    "        print(f\"{i+1}. {result}\")\n",
    "\n",
    "    return searched\n",
    "\n",
    "\n",
    "# 도구 바인딩\n",
    "tools = [get_current_time, get_search_web]"
   ]
  },
  {
   "cell_type": "code",
   "execution_count": 28,
   "id": "10b13217",
   "metadata": {},
   "outputs": [
    {
     "name": "stdout",
     "output_type": "stream",
     "text": [
      "Asia/Seoul (서울) 현재 시각 2025-09-03 22:09:15\n",
      "Europe/London (런던) 현재 시각 2025-09-03 14:09:15\n"
     ]
    }
   ],
   "source": [
    "print(tools[0].invoke({\"timezone\": \"Asia/Seoul\", \"location\": \"서울\"}))\n",
    "print(tools[0].invoke({\"timezone\": \"Europe/London\", \"location\": \"런던\"}))"
   ]
  },
  {
   "cell_type": "code",
   "execution_count": 29,
   "id": "eb885b90",
   "metadata": {},
   "outputs": [
    {
     "name": "stdout",
     "output_type": "stream",
     "text": [
      "\n",
      "----- WEB SEARCH -----\n",
      "# Query: GTA 6\n",
      "# Search Period: m\n",
      "1. snippet: 4 days ago - Grand Theft Auto VI won Most Wanted Game at the Golden Joystick Awards and Most Anticipated Game at the Game Awards in 2024. Anticipation spawned an internet meme indicating bemusement that other surprising events occurred \"before GTA 6 \"., title: Wikipedia Grand Theft Auto VI - Wikipedia, link: https://en.wikipedia.org/wiki/Grand_Theft_Auto_VI\n",
      "2. snippet: 8 hours ago - After weeks of speculation about potential setbacks, Rockstar Games has reconfirmed that GTA 6 will be released on May 26, 2026., title: Hindustan Times GTA 6 countdown begins: Rockstar re-confirms release date and teases new features - Hindustan Times, link: https://www.hindustantimes.com/technology/gta-6-countdown-begins-rockstar-re-confirms-release-date-and-teases-new-features-101756876354048.html\n",
      "3. snippet: 5 hours ago - GTA 6 is arguably the most highly anticipated media of all time and because there's still more than nine months to go before it releases, leaks, rumours and speculation continue to swirl and swell about it. The latest is that GTA 6 trailer 3 is being planned at Rockstar Games with a job ..., title: indy100 GTA 6 LIVE: Trailer 3 gets huge hint from Rockstar Games | indy100, link: https://www.indy100.com/gaming/gta-6-map-release-date-trailers-screenshots-preorders-gameplay-2673944741\n",
      "4. snippet: 3 days ago - A new GTA 6 release date update has got fans hyped, but we’re still a ways off from launch., title: GAMINGbible GTA 6 Release Date Update Has Fans Fully Losing It, link: https://www.gamingbible.com/news/gta-6-release-date-update-has-fans-losing-it-430392-20250831\n"
     ]
    },
    {
     "data": {
      "text/plain": [
       "'snippet: 4 days ago - Grand Theft Auto VI won Most Wanted Game at the Golden Joystick Awards and Most Anticipated Game at the Game Awards in 2024. Anticipation spawned an internet meme indicating bemusement that other surprising events occurred \"before GTA 6 \"., title: Wikipedia Grand Theft Auto VI - Wikipedia, link: https://en.wikipedia.org/wiki/Grand_Theft_Auto_VI;\\nsnippet: 8 hours ago - After weeks of speculation about potential setbacks, Rockstar Games has reconfirmed that GTA 6 will be released on May 26, 2026., title: Hindustan Times GTA 6 countdown begins: Rockstar re-confirms release date and teases new features - Hindustan Times, link: https://www.hindustantimes.com/technology/gta-6-countdown-begins-rockstar-re-confirms-release-date-and-teases-new-features-101756876354048.html;\\nsnippet: 5 hours ago - GTA 6 is arguably the most highly anticipated media of all time and because there\\'s still more than nine months to go before it releases, leaks, rumours and speculation continue to swirl and swell about it. The latest is that GTA 6 trailer 3 is being planned at Rockstar Games with a job ..., title: indy100 GTA 6 LIVE: Trailer 3 gets huge hint from Rockstar Games | indy100, link: https://www.indy100.com/gaming/gta-6-map-release-date-trailers-screenshots-preorders-gameplay-2673944741;\\nsnippet: 3 days ago - A new GTA 6 release date update has got fans hyped, but we’re still a ways off from launch., title: GAMINGbible GTA 6 Release Date Update Has Fans Fully Losing It, link: https://www.gamingbible.com/news/gta-6-release-date-update-has-fans-losing-it-430392-20250831'"
      ]
     },
     "execution_count": 29,
     "metadata": {},
     "output_type": "execute_result"
    }
   ],
   "source": [
    "tools[1].invoke({\"query\": \"GTA 6\", \"search_period\": \"m\"})"
   ]
  },
  {
   "cell_type": "code",
   "execution_count": 30,
   "id": "6b4a3696",
   "metadata": {},
   "outputs": [
    {
     "name": "stdout",
     "output_type": "stream",
     "text": [
      "get_current_time name='get_current_time' description='현재 시간을 조회합니다.\\n\\nArgs:\\n    timezone (str): 타임존\\n    location (str): 위치\\n\\nReturns:\\n    str: 현재 시간' args_schema=<class 'langchain_core.utils.pydantic.get_current_time'> func=<function get_current_time at 0x11af57ec0>\n",
      "get_search_web name='get_search_web' description='웹 검색을 수행하는 함수.\\n\\nArgs:\\n    query (str): 검색할 키워드\\n    search_period (str): 검색 기간 (h: 시간, d: 일, w: 주, m: 월, y: 년)\\n\\nReturns:\\n    str: 검색 결과' args_schema=<class 'langchain_core.utils.pydantic.get_search_web'> func=<function get_search_web at 0x11af4fc40>\n"
     ]
    }
   ],
   "source": [
    "for tool in tools:\n",
    "    print(tool.name, tool)"
   ]
  },
  {
   "cell_type": "code",
   "execution_count": 31,
   "id": "cd0e52d2",
   "metadata": {},
   "outputs": [
    {
     "data": {
      "text/plain": [
       "<langgraph.graph.state.StateGraph at 0x11b63fad0>"
      ]
     },
     "execution_count": 31,
     "metadata": {},
     "output_type": "execute_result"
    }
   ],
   "source": [
    "model_with_tools = model.bind_tools(tools)\n",
    "\n",
    "\n",
    "def generate(state: State):\n",
    "    return {\"messages\": model_with_tools.invoke(state[\"messages\"])}\n",
    "\n",
    "\n",
    "graph_builder.add_node(\"generate\", generate)"
   ]
  },
  {
   "cell_type": "code",
   "execution_count": 32,
   "id": "d8390f48",
   "metadata": {},
   "outputs": [
    {
     "data": {
      "text/plain": [
       "<langgraph.graph.state.StateGraph at 0x11b63fad0>"
      ]
     },
     "execution_count": 32,
     "metadata": {},
     "output_type": "execute_result"
    }
   ],
   "source": [
    "import json\n",
    "from langchain_core.messages import ToolMessage\n",
    "\n",
    "\n",
    "class BasicToolNode:\n",
    "    \"\"\"\n",
    "    도구를 실행하는 노드\n",
    "\n",
    "    Attributes:\n",
    "        tools_by_name (dict): 도구 이름을 키로 하는 도구 딕셔너리\n",
    "    Methods:\n",
    "        __init__(tools: list]): 도구 목록을 초기화\n",
    "        __call__(inputs: dict): 입력 메시지를 받아서 도구를 실행하고 결과 메시지를 반환\n",
    "    \"\"\"\n",
    "\n",
    "    def __init__(self, tools: list) -> None:\n",
    "        self.tools_by_name = {tool.name: tool for tool in tools}\n",
    "\n",
    "    def __call__(self, inputs: dict):\n",
    "        if messages := inputs.get(\"messages\", []):\n",
    "            message = messages[-1]\n",
    "        else:\n",
    "            raise ValueError(\"inputs에 messages가 없습니다.\")\n",
    "\n",
    "        outputs = []\n",
    "        for tool_call in message.tool_calls:\n",
    "            tool_result = self.tools_by_name[tool_call[\"name\"]].invoke(\n",
    "                tool_call[\"args\"]\n",
    "            )\n",
    "            outputs.append(\n",
    "                ToolMessage(\n",
    "                    content=json.dumps(tool_result),\n",
    "                    name=tool_call[\"name\"],\n",
    "                    tool_call_id=tool_call[\"id\"],\n",
    "                )\n",
    "            )\n",
    "        return {\"messages\": messages + outputs}\n",
    "\n",
    "tool_node = BasicToolNode(tools=tools)\n",
    "graph_builder.add_node(\"tools\", tool_node)\n"
   ]
  },
  {
   "cell_type": "code",
   "execution_count": null,
   "id": "4b3a109f",
   "metadata": {},
   "outputs": [],
   "source": [
    "def route_tools(state: State):\n",
    "    \"\"\" \n",
    "    마지막 메시지에 도구 호출이 있는 경우 ToolNode로 라우팅하고\n",
    "    그렇지 않은 경우 끝으로 라우팅하기 위해 conditional_edge에서 사용합니다.\n",
    "    \"\"\"\n",
    "    if isinstance(state, list):\n",
    "        ai_message = state[-1]\n",
    "    elif messages := state.get(\"messages\", []):\n",
    "        ai_message = messages[-1]\n",
    "    else:\n",
    "        raise ValueError(\"state에 messages가 없습니다.\")\n",
    "    \n",
    "    if hasattr(ai_message, \"tool_calls\") and len(ai_message.tool_calls) > 0:\n",
    "        return \"tools\"\n",
    "    \n",
    "    return END\n",
    "\n",
    "graph_builder.add_edge(START, \"generate\")\n",
    "graph_builder.add_conditional_edges(\n",
    "    \"generate\",\n",
    "    route_tools,\n",
    "    {\n",
    "        \"tools\": \"tools\",\n",
    "        END: END,\n",
    "    }\n",
    ")\n",
    "graph_builder.add_edge(\"tools\", \"generate\")\n",
    "\n",
    "graph = graph_builder.compile()\n"
   ]
  },
  {
   "cell_type": "code",
   "execution_count": 34,
   "id": "5023a078",
   "metadata": {},
   "outputs": [
    {
     "data": {
      "image/png": "[encoded data removed]",
      "text/plain": [
       "<IPython.core.display.Image object>"
      ]
     },
     "metadata": {},
     "output_type": "display_data"
    }
   ],
   "source": [
    "from IPython.display import Image, display\n",
    "\n",
    "try:\n",
    "    display(Image(graph.get_graph().draw_mermaid_png()))\n",
    "except Exception:\n",
    "    pass"
   ]
  }
 ],
 "metadata": {
  "kernelspec": {
   "display_name": ".venv",
   "language": "python",
   "name": "python3"
  },
  "language_info": {
   "codemirror_mode": {
    "name": "ipython",
    "version": 3
   },
   "file_extension": ".py",
   "mimetype": "text/x-python",
   "name": "python",
   "nbconvert_exporter": "python",
   "pygments_lexer": "ipython3",
   "version": "3.12.8"
  }
 },
 "nbformat": 4,
 "nbformat_minor": 5
}
