{
 "cells": [
  {
   "cell_type": "code",
   "execution_count": 1,
   "id": "634761c3",
   "metadata": {},
   "outputs": [
    {
     "data": {
      "text/plain": [
       "AIMessage(content='안녕하세요! 어떻게 도와드릴까요?', additional_kwargs={'refusal': None}, response_metadata={'token_usage': {'completion_tokens': 10, 'prompt_tokens': 10, 'total_tokens': 20, 'completion_tokens_details': {'accepted_prediction_tokens': 0, 'audio_tokens': 0, 'reasoning_tokens': 0, 'rejected_prediction_tokens': 0}, 'prompt_tokens_details': {'audio_tokens': 0, 'cached_tokens': 0}}, 'model_name': 'gpt-4o-mini-2024-07-18', 'system_fingerprint': 'fp_560af6e559', 'id': 'chatcmpl-CAGFfP0swE0UV28oNdWMFjh1d8WEm', 'service_tier': 'default', 'finish_reason': 'stop', 'logprobs': None}, id='run--d9b0fc2c-03c4-4cb4-9c96-577fd27cefc6-0', usage_metadata={'input_tokens': 10, 'output_tokens': 10, 'total_tokens': 20, 'input_token_details': {'audio': 0, 'cache_read': 0}, 'output_token_details': {'audio': 0, 'reasoning': 0}})"
      ]
     },
     "execution_count": 1,
     "metadata": {},
     "output_type": "execute_result"
    }
   ],
   "source": [
    "from langchain_openai import ChatOpenAI\n",
    "\n",
    "model = ChatOpenAI(model=\"gpt-4o-mini\")\n",
    "model.invoke(\"안녕!\")"
   ]
  },
  {
   "cell_type": "code",
   "execution_count": 3,
   "id": "0cd29e07",
   "metadata": {},
   "outputs": [],
   "source": [
    "from typing import Annotated # 타입 힌트 사용을 위한 모듈\n",
    "from typing_extensions import TypedDict # 딕셔너리 타입 정의를 위한 모듈\n",
    "\n",
    "from langgraph.graph import StateGraph, START, END\n",
    "from langgraph.graph.message import add_messages\n",
    "\n",
    "class State(TypedDict):\n",
    "    messages: Annotated[list[str], add_messages]\n",
    "\n",
    "graph_builder = StateGraph(State)"
   ]
  },
  {
   "cell_type": "code",
   "execution_count": 4,
   "id": "764c67aa",
   "metadata": {},
   "outputs": [
    {
     "data": {
      "text/plain": [
       "<langgraph.graph.state.StateGraph at 0x11cc6d460>"
      ]
     },
     "execution_count": 4,
     "metadata": {},
     "output_type": "execute_result"
    }
   ],
   "source": [
    "def generate(state: State):\n",
    "    \"\"\"\n",
    "    주어진 상태를 기반으로 챗봇의 응답 메시지를 생성합니다.\n",
    "    \"\"\"\n",
    "    return {\"messages\": [model.invoke(state[\"messages\"])]}\n",
    "\n",
    "graph_builder.add_node(\"generate\", generate)"
   ]
  },
  {
   "cell_type": "code",
   "execution_count": 5,
   "id": "e2f90ead",
   "metadata": {},
   "outputs": [],
   "source": [
    "graph_builder.add_edge(START, \"generate\")\n",
    "graph_builder.add_edge(\"generate\", END)\n",
    "\n",
    "graph = graph_builder.compile()\n"
   ]
  },
  {
   "cell_type": "code",
   "execution_count": 6,
   "id": "f6f58bf1",
   "metadata": {},
   "outputs": [
    {
     "data": {
      "image/png": "[encoded data removed]",
      "text/plain": [
       "<IPython.core.display.Image object>"
      ]
     },
     "metadata": {},
     "output_type": "display_data"
    }
   ],
   "source": [
    "from IPython.display import Image, display\n",
    "\n",
    "try:\n",
    "    display(Image(graph.get_graph().draw_mermaid_png()))\n",
    "except Exception:\n",
    "    pass\n"
   ]
  },
  {
   "cell_type": "code",
   "execution_count": 7,
   "id": "31de7ee8",
   "metadata": {},
   "outputs": [
    {
     "name": "stdout",
     "output_type": "stream",
     "text": [
      "<class 'dict'>\n"
     ]
    },
    {
     "data": {
      "text/plain": [
       "{'messages': [HumanMessage(content='안녕! 아직 저녁식사를 안했는데 시간이 늦었어. 뭘 먹으면 좋을까?', additional_kwargs={}, response_metadata={}, id='cfcab786-31de-4c43-a6ba-21fdb72bc55d'),\n",
       "  AIMessage(content='안녕! 저녁식사로는 간단하면서도 맛있는 음식을 선택하는 게 좋겠네. 다음과 같은 몇 가지 아이디어가 있어:\\n\\n1. **볶음밥**: 냉장고에 있는 채소나 고기를 넣어서 간편하게 만들 수 있어.\\n2. **샐러드**: 신선한 채소와 함께 치킨이나 통곡물(퀴노아 등)을 더하면 영양가 높은 한 끼가 돼.\\n3. **국수**: 간단하게 끓일 수 있는 국수에 좋아하는 소스를 곁들여 먹어도 좋아.\\n4. **토스트**: 식빵에 각종 재료를 넣고 구워서 샌드위치를 만들어보는 것도 괜찮아.\\n5. **스프**: 빠르게 만들 수 있는 스프나 찌개도 좋은 선택이야.\\n\\n이 중에서 네가 좋아하는 것을 선택해 보거나, 네가 가지고 있는 재료를 활용해서 요리해봐! 맛있게 저녁 먹길 바래!', additional_kwargs={'refusal': None}, response_metadata={'token_usage': {'completion_tokens': 233, 'prompt_tokens': 33, 'total_tokens': 266, 'completion_tokens_details': {'accepted_prediction_tokens': 0, 'audio_tokens': 0, 'reasoning_tokens': 0, 'rejected_prediction_tokens': 0}, 'prompt_tokens_details': {'audio_tokens': 0, 'cached_tokens': 0}}, 'model_name': 'gpt-4o-mini-2024-07-18', 'system_fingerprint': 'fp_560af6e559', 'id': 'chatcmpl-CAGLOVN7TViRrEmcKrFrnVxZRZ9wr', 'service_tier': 'default', 'finish_reason': 'stop', 'logprobs': None}, id='run--cacaf7dc-da44-4d62-bc14-9b23488f8135-0', usage_metadata={'input_tokens': 33, 'output_tokens': 233, 'total_tokens': 266, 'input_token_details': {'audio': 0, 'cache_read': 0}, 'output_token_details': {'audio': 0, 'reasoning': 0}})]}"
      ]
     },
     "execution_count": 7,
     "metadata": {},
     "output_type": "execute_result"
    }
   ],
   "source": [
    "response = graph.invoke({\"messages\": [\"안녕! 아직 저녁식사를 안했는데 시간이 늦었어. 뭘 먹으면 좋을까?\"]})\n",
    "print(type(response))\n",
    "response"
   ]
  },
  {
   "cell_type": "code",
   "execution_count": 8,
   "id": "8a7f9194",
   "metadata": {},
   "outputs": [
    {
     "data": {
      "text/plain": [
       "{'messages': [HumanMessage(content='안녕! 아직 저녁식사를 안했는데 시간이 늦었어. 뭘 먹으면 좋을까?', additional_kwargs={}, response_metadata={}, id='cfcab786-31de-4c43-a6ba-21fdb72bc55d'),\n",
       "  AIMessage(content='안녕! 저녁식사로는 간단하면서도 맛있는 음식을 선택하는 게 좋겠네. 다음과 같은 몇 가지 아이디어가 있어:\\n\\n1. **볶음밥**: 냉장고에 있는 채소나 고기를 넣어서 간편하게 만들 수 있어.\\n2. **샐러드**: 신선한 채소와 함께 치킨이나 통곡물(퀴노아 등)을 더하면 영양가 높은 한 끼가 돼.\\n3. **국수**: 간단하게 끓일 수 있는 국수에 좋아하는 소스를 곁들여 먹어도 좋아.\\n4. **토스트**: 식빵에 각종 재료를 넣고 구워서 샌드위치를 만들어보는 것도 괜찮아.\\n5. **스프**: 빠르게 만들 수 있는 스프나 찌개도 좋은 선택이야.\\n\\n이 중에서 네가 좋아하는 것을 선택해 보거나, 네가 가지고 있는 재료를 활용해서 요리해봐! 맛있게 저녁 먹길 바래!', additional_kwargs={'refusal': None}, response_metadata={'token_usage': {'completion_tokens': 233, 'prompt_tokens': 33, 'total_tokens': 266, 'completion_tokens_details': {'accepted_prediction_tokens': 0, 'audio_tokens': 0, 'reasoning_tokens': 0, 'rejected_prediction_tokens': 0}, 'prompt_tokens_details': {'audio_tokens': 0, 'cached_tokens': 0}}, 'model_name': 'gpt-4o-mini-2024-07-18', 'system_fingerprint': 'fp_560af6e559', 'id': 'chatcmpl-CAGLOVN7TViRrEmcKrFrnVxZRZ9wr', 'service_tier': 'default', 'finish_reason': 'stop', 'logprobs': None}, id='run--cacaf7dc-da44-4d62-bc14-9b23488f8135-0', usage_metadata={'input_tokens': 33, 'output_tokens': 233, 'total_tokens': 266, 'input_token_details': {'audio': 0, 'cache_read': 0}, 'output_token_details': {'audio': 0, 'reasoning': 0}}),\n",
       "  HumanMessage(content='내가 무엇을 물어봤지?', additional_kwargs={}, response_metadata={}, id='f0b12a26-24a8-4323-aa8a-f09525ab870d'),\n",
       "  AIMessage(content='너는 늦은 저녁식사로 무엇을 먹으면 좋을지 물어봤어. 저녁 메뉴에 대한 몇 가지 아이디어를 제안해 드렸는데, 다른 질문이나 더 구체적인 도움이 필요하다면 언제든지 말해줘!', additional_kwargs={'refusal': None}, response_metadata={'token_usage': {'completion_tokens': 57, 'prompt_tokens': 283, 'total_tokens': 340, 'completion_tokens_details': {'accepted_prediction_tokens': 0, 'audio_tokens': 0, 'reasoning_tokens': 0, 'rejected_prediction_tokens': 0}, 'prompt_tokens_details': {'audio_tokens': 0, 'cached_tokens': 0}}, 'model_name': 'gpt-4o-mini-2024-07-18', 'system_fingerprint': 'fp_8bda4d3a2c', 'id': 'chatcmpl-CAGMoi3oxZ5rnam6GmDtVBQW9dg2a', 'service_tier': 'default', 'finish_reason': 'stop', 'logprobs': None}, id='run--4ef251ee-76ab-40bf-a5ca-52455f8fccb6-0', usage_metadata={'input_tokens': 283, 'output_tokens': 57, 'total_tokens': 340, 'input_token_details': {'audio': 0, 'cache_read': 0}, 'output_token_details': {'audio': 0, 'reasoning': 0}})]}"
      ]
     },
     "execution_count": 8,
     "metadata": {},
     "output_type": "execute_result"
    }
   ],
   "source": [
    "response[\"messages\"].append(\"내가 무엇을 물어봤지?\")\n",
    "graph.invoke(response)"
   ]
  },
  {
   "cell_type": "code",
   "execution_count": 9,
   "id": "f63cc07c",
   "metadata": {},
   "outputs": [
    {
     "name": "stdout",
     "output_type": "stream",
     "text": [
      "안녕하세요! 늦은 저녁식사라면 가볍고 간편한 메뉴가 좋을 것 같아요. 여기 몇 가지 추천해드릴게요:\n",
      "\n",
      "1. **샐러드**: 신선한 채소에 단백질(치킨, 계란, 두부 등)을 추가해서 간단하게 만들어보세요. 드레싱은 간단하게 올리브유와 식초로 해도 맛있어요.\n",
      "   \n",
      "2. **토스트**: 식빵에 아보카도, 토마토, 치즈 등을 얹어 구워보세요. 간단하면서도 맛있답니다.\n",
      "\n",
      "3. **즉석 ramen**: 빠르고 쉽게 만들 수 있는 라면도 좋아요. 계란이나 야채를 추가하면 더욱 영양가가 높아집니다.\n",
      "\n",
      "4. **김밥**: 미리 준비해둔 재료가 있다면 간단한 김밥을 싸먹는 것도 좋은 선택이에요.\n",
      "\n",
      "5. **국물 요리**: 된장국이나 미소된장국 같은 간단한 국물 요리도 좋죠. 따뜻하고 속이 편안해질 거예요.\n",
      "\n",
      "어떤 메뉴가 마음에 드시나요?"
     ]
    }
   ],
   "source": [
    "inputs = {\"messages\": [(\"human\", \"안녕! 아직 저녁식사를 안했는데 시간이 늦었어. 뭘 먹으면 좋을까?\")]}\n",
    "for chunk, _ in graph.stream(inputs, stream_mode=\"messages\"):\n",
    "    print(chunk.content, end=\"\")\n",
    "\n"
   ]
  }
 ],
 "metadata": {
  "kernelspec": {
   "display_name": ".venv",
   "language": "python",
   "name": "python3"
  },
  "language_info": {
   "codemirror_mode": {
    "name": "ipython",
    "version": 3
   },
   "file_extension": ".py",
   "mimetype": "text/x-python",
   "name": "python",
   "nbconvert_exporter": "python",
   "pygments_lexer": "ipython3",
   "version": "3.12.8"
  }
 },
 "nbformat": 4,
 "nbformat_minor": 5
}
